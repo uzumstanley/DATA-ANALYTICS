{
  "nbformat": 4,
  "nbformat_minor": 0,
  "metadata": {
    "colab": {
      "provenance": []
    },
    "kernelspec": {
      "name": "python3",
      "display_name": "Python 3"
    },
    "language_info": {
      "name": "python"
    }
  },
  "cells": [
    {
      "cell_type": "markdown",
      "source": [
        "#Naive Bayes Classification\n",
        "Naive Bayes is a classification algorithm that works based on the Bayes theorem. Although, it's based on bayes theorem, but it can be implemented using different functions. Today, we will build our model using the Categorical Naive Bayes implementation from `sklearn`."
      ],
      "metadata": {
        "id": "kStjdAx_KCIn"
      }
    },
    {
      "cell_type": "markdown",
      "source": [
        "#Libraries for the Implementation\n",
        "We will use several libraries today. We need to import NumPy, Matplot Library and Pandas and sklearn."
      ],
      "metadata": {
        "id": "2MFohRXyL-0i"
      }
    },
    {
      "cell_type": "code",
      "source": [
        "import numpy as np\n",
        "import matplotlib.pyplot as plt\n",
        "import pandas as pd\n",
        "from sklearn.preprocessing import LabelEncoder\n",
        "from sklearn.model_selection import train_test_split\n",
        "from sklearn.metrics import accuracy_score\n",
        "from sklearn.naive_bayes import CategoricalNB"
      ],
      "metadata": {
        "id": "4I0TFDaq1XHD"
      },
      "execution_count": 1,
      "outputs": []
    },
    {
      "cell_type": "markdown",
      "source": [
        "The Dataset we will use contains Qualitative/Categorical attributes in it. The \"Golf Data Sample\" is the Dataset that we will use as an example today. We have imported the dataset into a dataframe and split it into two numpy arrays, `X` containing the values of the predictors and `y` containing the label values."
      ],
      "metadata": {
        "id": "A7Ok7_5kMd8s"
      }
    },
    {
      "cell_type": "code",
      "source": [
        "dataset = pd.read_csv('Golf Data Sample.csv')\n",
        "X = dataset.iloc[:, :3].values\n",
        "y = dataset.iloc[:, 3:].values\n",
        "print (X)\n",
        "print (y)"
      ],
      "metadata": {
        "id": "qiUjWvK06n-V"
      },
      "execution_count": null,
      "outputs": []
    },
    {
      "cell_type": "markdown",
      "source": [
        "Since, the dataset contains Qualitative/Categorical values we need to encode them into discrete, numerical values. We are using the `LabelEncoder` function for this operation. Notice that we have split the `X`2d array into 3 arrays, this is because the `LabelEncoder` function can only process 1d arrays, so each column in the `X` array in put into a 1d array and then encoded. Afterwards, we aggregated the encoded column values into another 2d numpy array, `X_converted`."
      ],
      "metadata": {
        "id": "bjSRf0NMM5qu"
      }
    },
    {
      "cell_type": "code",
      "source": [
        "\n",
        "le = LabelEncoder()\n",
        "\n",
        "y_converted = le.fit_transform(y)\n",
        "\n",
        "print(y)\n",
        "print(y_converted)\n",
        "\n",
        "x_outlook= X[:,:1]\n",
        "x_outlook=x_outlook.reshape(14)\n",
        "print(x_outlook.shape)\n",
        "print(x_outlook)\n",
        "x_outlook=le.fit_transform(x_outlook)\n",
        "print(x_outlook)\n",
        "\n",
        "x_temperature= X[:,1:2]\n",
        "x_temperature=x_temperature.reshape(14)\n",
        "print(x_temperature.shape)\n",
        "print(x_temperature)\n",
        "x_temperature=le.fit_transform(x_temperature)\n",
        "print(x_temperature)\n",
        "\n",
        "x_humidity= X[:,2:3]\n",
        "x_humidity=x_humidity.reshape(14)\n",
        "print(x_humidity.shape)\n",
        "print(x_humidity)\n",
        "x_humidity=le.fit_transform(x_humidity)\n",
        "print(x_humidity)\n",
        "\n",
        "\n",
        "X_converted=np.array([x_outlook,x_temperature,x_humidity])\n",
        "X_converted=X_converted.reshape(14,3)\n",
        "print(X_converted.shape)\n",
        "print(X_converted)"
      ],
      "metadata": {
        "id": "UeauKfLK9sFa"
      },
      "execution_count": null,
      "outputs": []
    },
    {
      "cell_type": "markdown",
      "source": [
        "In this step, we are are doing a Train-Test split on our dataset. The test set size we are selecting is 45% or, 0.45. "
      ],
      "metadata": {
        "id": "hw69NCECOocO"
      }
    },
    {
      "cell_type": "code",
      "source": [
        "\n",
        "X_train, X_test, y_train, y_test = train_test_split(X_converted, y_converted, test_size = 0.45, random_state=0)\n",
        "print(X_train)\n",
        "print('*****')\n",
        "print(X_test)"
      ],
      "metadata": {
        "id": "0ltPF_iA767O"
      },
      "execution_count": null,
      "outputs": []
    },
    {
      "cell_type": "markdown",
      "source": [
        "We will now train the model and then, for the 45% test data, we will find the predictive output."
      ],
      "metadata": {
        "id": "ZajaQE7iPcDZ"
      }
    },
    {
      "cell_type": "code",
      "execution_count": null,
      "metadata": {
        "id": "e2mGxdDJswe3"
      },
      "outputs": [],
      "source": [
        "\n",
        "\n",
        "clf = CategoricalNB()\n",
        "clf.fit(X_train, y_train)\n",
        "\n",
        "y_pred=clf.predict(X_test)\n",
        "print(y_pred)\n",
        "\n"
      ]
    },
    {
      "cell_type": "markdown",
      "source": [
        "We can also check the accuracy by the `accuracy_score`function that compares the predicted and actual values of the label as below:"
      ],
      "metadata": {
        "id": "mcD7nIRnP8IV"
      }
    },
    {
      "cell_type": "code",
      "source": [
        "\n",
        "ac = accuracy_score(y_test,y_pred)\n",
        "print(ac)"
      ],
      "metadata": {
        "id": "NOVibjWBGKPH"
      },
      "execution_count": null,
      "outputs": []
    },
    {
      "cell_type": "markdown",
      "source": [
        "We can try predicting the outcome of the new datapoint to see whether, Golf will be \"Play\" or, \"Don't Play\". Here, the new/unseen datapoint is contained in a numpy array."
      ],
      "metadata": {
        "id": "9vQFK7R_QUoi"
      }
    },
    {
      "cell_type": "code",
      "source": [
        "\n",
        "new_row=np.array(['Sunny','Hot','High'])\n",
        "new_row_converted=le.fit_transform(new_row)\n",
        "new_row_converted=new_row_converted.reshape(1,3)\n",
        "print(new_row_converted.shape)\n",
        "y_pred=clf.predict(new_row_converted)\n",
        "print(y_pred)"
      ],
      "metadata": {
        "id": "FWAHIwoeHSao"
      },
      "execution_count": null,
      "outputs": []
    },
    {
      "cell_type": "markdown",
      "source": [
        "#Question:1\n",
        "Using the \"London Train Sample\" Dataset, predict the Class for a new datapoint, where day is \"Saturday\" , Season is \"Spring\", Rain is \"None\", and wind is \"Slight\". You can take necessary help from the code given above."
      ],
      "metadata": {
        "id": "LdsyzDGPQ0ez"
      }
    },
    {
      "cell_type": "code",
      "source": [],
      "metadata": {
        "id": "ZqIEOcP6VPdO"
      },
      "execution_count": null,
      "outputs": []
    }
  ]
}