{
  "nbformat": 4,
  "nbformat_minor": 0,
  "metadata": {
    "colab": {
      "provenance": []
    },
    "kernelspec": {
      "name": "python3",
      "display_name": "Python 3"
    },
    "language_info": {
      "name": "python"
    }
  },
  "cells": [
    {
      "cell_type": "markdown",
      "source": [
        "# Introduction\n",
        "The aim of this lab experience is to explore K-mode clustering in a computing environment.\n"
      ],
      "metadata": {
        "id": "QMtXTFRSeW1Q"
      }
    },
    {
      "cell_type": "markdown",
      "source": [
        "#Import Libraries\n",
        "The libraries we will be using are:\n",
        "\n",
        "\n",
        "-Pandas\n",
        "-Matplotlib\n",
        "-Numpy\n",
        "-One more module called \"Kmode\" installer"
      ],
      "metadata": {
        "id": "MXTPrxmzhgXZ"
      }
    },
    {
      "cell_type": "code",
      "source": [
        "# importing necessary libraries\n",
        "import pandas as pd\n",
        "import numpy as np\n",
        "!pip install kmodes\n",
        "from kmodes.kmodes import KModes\n",
        "import matplotlib.pyplot as plt\n",
        "%matplotlib inline"
      ],
      "metadata": {
        "id": "uyCDc70Yh_n7"
      },
      "execution_count": null,
      "outputs": []
    },
    {
      "cell_type": "code",
      "source": [
        "#!pip install kmodes\n"
      ],
      "metadata": {
        "id": "FUG_AuRIR-Iu"
      },
      "execution_count": null,
      "outputs": []
    },
    {
      "cell_type": "markdown",
      "source": [
        "We know we can load dataset. However, in this example we will consider a small dataset which we will create and then put in the dataframe for analysis."
      ],
      "metadata": {
        "id": "9aEmbOEQiFnS"
      }
    },
    {
      "cell_type": "code",
      "source": [
        "# Create Color dataset\n",
        "hair_color = np.array(['blonde', 'brunette', 'red', 'black', 'brunette', 'black', 'red', 'black'])\n",
        "eye_color = np.array(['amber', 'gray', 'green', 'hazel', 'amber', 'gray', 'green', 'hazel'])\n",
        "skin_color = np.array(['fair', 'brown', 'brown', 'brown', 'fair', 'brown', 'fair', 'fair'])\n",
        "person = ['P1','P2','P3','P4','P5','P6','P7','P8']\n",
        "data = pd.DataFrame({'person':person, 'hair_color':hair_color, 'eye_color':eye_color, 'skin_color':skin_color})\n",
        "data = data.set_index('person')\n",
        "data"
      ],
      "metadata": {
        "id": "Inwb-LJ5iZ6v"
      },
      "execution_count": null,
      "outputs": []
    },
    {
      "cell_type": "markdown",
      "source": [
        "#Estimating optimal K value for Clustering\n",
        "As we know, in K-Mode Clustering, the clusters are considered based on the esmtimation of the dissimilarities among clusters. So, we will try to find the K value (Number of Clusters) using a formal method, called elbow method. Whichever K has less cost, will be estimated as the best K value for the provided dataset.\n"
      ],
      "metadata": {
        "id": "LzVGL0c4iy-2"
      }
    },
    {
      "cell_type": "code",
      "source": [
        "\n",
        "cost = []\n",
        "K = range(1,5)\n",
        "for num_clusters in list(K):\n",
        "    kmode = KModes(n_clusters=num_clusters, init = \"random\", n_init = 5, verbose=1)\n",
        "    kmode.fit_predict(data)\n",
        "    cost.append(kmode.cost_)\n",
        "\n",
        "plt.plot(K, cost, 'bx-')\n",
        "plt.xlabel('No. of clusters')\n",
        "plt.ylabel('Cost')\n",
        "plt.title('Elbow Method For Optimal k')\n",
        "plt.show()\n",
        "\n"
      ],
      "metadata": {
        "id": "s5nlE1KDSBf5"
      },
      "execution_count": null,
      "outputs": []
    },
    {
      "cell_type": "markdown",
      "source": [
        "#Deciding and Building Clusters\n",
        "We see the largest decrease of that quantity between K=1 and K=2 and then the second largest drop is between K=2 and K=3. Afterwards, the further decrease in K has ever so smaller impact on the Sum of Overall cost. Hence, we identify K=2 as the elbow point.\n",
        "\n",
        "So, if we now proceed with k=2, then:"
      ],
      "metadata": {
        "id": "0GIwJ_xskP9M"
      }
    },
    {
      "cell_type": "code",
      "source": [
        "# Building the model with 2 clusters\n",
        "kmode = KModes(n_clusters=2, init = \"random\", n_init = 5, verbose=1)\n",
        "clusters = kmode.fit_predict(data)\n",
        "print(clusters)\n",
        "\n",
        "data.insert(0, \"Cluster\", clusters)\n",
        "print(data)\n"
      ],
      "metadata": {
        "id": "ZCDa_eoWTY4i"
      },
      "execution_count": null,
      "outputs": []
    },
    {
      "cell_type": "code",
      "source": [
        "data=data.drop('Cluster', axis= 1)\n",
        "print(data)"
      ],
      "metadata": {
        "id": "QuQq5nvhlq7R"
      },
      "execution_count": null,
      "outputs": []
    },
    {
      "cell_type": "markdown",
      "source": [
        "#Question:1\n",
        "Using the Skincare Dataset determine the optimal number of Clusters and assign the record(s) under appropriate clusters."
      ],
      "metadata": {
        "id": "4V9NsFwhts_V"
      }
    },
    {
      "cell_type": "code",
      "source": [],
      "metadata": {
        "id": "OtNI5qDduE_7"
      },
      "execution_count": null,
      "outputs": []
    }
  ]
}