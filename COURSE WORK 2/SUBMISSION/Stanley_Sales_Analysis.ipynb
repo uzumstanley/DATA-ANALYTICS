{
  "cells": [
    {
      "cell_type": "markdown",
      "source": [
        "Data Analysis for BIGMART_SALES_DATASET.\n",
        "A BigMart Store want to determine the  highest Item_Outlet_Sales with the Item_Type that are most sold and determine the  Outlet_Location with highest distribution score then build a model using Linear Regression model."
      ],
      "metadata": {
        "id": "gIylOnqsJfMB"
      },
      "id": "gIylOnqsJfMB"
    },
    {
      "cell_type": "markdown",
      "source": [
        "#DataSet Overview"
      ],
      "metadata": {
        "id": "u2jBoeqyKCZF"
      },
      "id": "u2jBoeqyKCZF"
    },
    {
      "cell_type": "markdown",
      "source": [
        "All data come from one source which was csv file shared and contains details in columns as following.\n",
        "* index: just index\n",
        "* Item_Identifier: Item Identifier Tag to locate Item\n",
        "* Item_Weight: The weight values of each items\n",
        "* Item_Fat_Content: The fat content information of each content\n",
        "* Item_Visibility: The visibility score of each item\n",
        "* Item_Type: Information about the Item Type\n",
        "* Item_MRP: Item market price informations\n",
        "* Outlet_Identifier: Outlet Identifier Tag for sorting items\n",
        "*Outlet_Establishment_Year: The year that the Outlet Establishment for item store\n",
        "* Outlet_Size: The size of the Outlet\n",
        "* Outlet_Location_Type: The location of each outlet store\n",
        "* Outlet_Type: The type of the outlet store\n",
        "* Item_Outlet_Sales: The outlet sales of each outlet store"
      ],
      "metadata": {
        "id": "AzxLoQtWKHs8"
      },
      "id": "AzxLoQtWKHs8"
    },
    {
      "cell_type": "markdown",
      "source": [
        "# Tasks\n",
        "We will go through several tasks to archieve our goals and purposes:\n"
      ],
      "metadata": {
        "id": "47aqH-usOdHA"
      },
      "id": "47aqH-usOdHA"
    },
    {
      "cell_type": "markdown",
      "source": [
        "Task 1: Hypothesis statement(goals and purpose)for BigMart Store Dataset for  Analysis with an overview of the whole Dataset\n"
      ],
      "metadata": {
        "id": "VMy1_kmjodfQ"
      },
      "id": "VMy1_kmjodfQ"
    },
    {
      "cell_type": "markdown",
      "source": [
        "Task 2: Importing libraries\n"
      ],
      "metadata": {
        "id": "JlwkVGxiolRM"
      },
      "id": "JlwkVGxiolRM"
    },
    {
      "cell_type": "markdown",
      "source": [
        "Task 3: Loadind data(https://www.kaggle.com/datasets/brijbhushannanda1979/bigmart-sales-data data source link)\n"
      ],
      "metadata": {
        "id": "sMwgBkZMo3S4"
      },
      "id": "sMwgBkZMo3S4"
    },
    {
      "cell_type": "markdown",
      "source": [
        "Task 4: Viewing the data, the head view of the 1st 5 rows of the train data"
      ],
      "metadata": {
        "id": "ZVkpoA_spG7d"
      },
      "id": "ZVkpoA_spG7d"
    },
    {
      "cell_type": "markdown",
      "source": [
        "Task 5: Viewing the data, the head view of the 1st 5 rows of the test data"
      ],
      "metadata": {
        "id": "F91BRrv8pe4j"
      },
      "id": "F91BRrv8pe4j"
    },
    {
      "cell_type": "markdown",
      "source": [
        "Task 6: To view the shape of the train data"
      ],
      "metadata": {
        "id": "JjUh7jO-pnZN"
      },
      "id": "JjUh7jO-pnZN"
    },
    {
      "cell_type": "markdown",
      "source": [
        "Task 7: To view the shape of the test data"
      ],
      "metadata": {
        "id": "y5eY47fSppLw"
      },
      "id": "y5eY47fSppLw"
    },
    {
      "cell_type": "markdown",
      "source": [
        "Task 8: Checking for NAN/NULL values(missing values) for train dataset"
      ],
      "metadata": {
        "id": "S_bZ0HBKpq8k"
      },
      "id": "S_bZ0HBKpq8k"
    },
    {
      "cell_type": "markdown",
      "source": [
        "Task 9: Checking for NAN/NULL values(missing values) for test dataset"
      ],
      "metadata": {
        "id": "2bmAbryHptJ9"
      },
      "id": "2bmAbryHptJ9"
    },
    {
      "cell_type": "markdown",
      "source": [
        "Task 10: To get the details of train data colums nature information"
      ],
      "metadata": {
        "id": "TkpabUuJpvRl"
      },
      "id": "TkpabUuJpvRl"
    },
    {
      "cell_type": "markdown",
      "source": [
        "Task 11: To get the details of test data colums nature information"
      ],
      "metadata": {
        "id": "5jsShtJPpxNf"
      },
      "id": "5jsShtJPpxNf"
    },
    {
      "cell_type": "markdown",
      "source": [
        "Task 12: To get the full descriptive statistics chart table for train dataset with missing values"
      ],
      "metadata": {
        "id": "c5EnIlrOpzXB"
      },
      "id": "c5EnIlrOpzXB"
    },
    {
      "cell_type": "markdown",
      "source": [
        "Task 13: To clean the data, i have to display the missing values colums for train dataset"
      ],
      "metadata": {
        "id": "4YhCqTohp1wp"
      },
      "id": "4YhCqTohp1wp"
    },
    {
      "cell_type": "markdown",
      "source": [
        "Task 14: Descripyive analysis of 'Item_Weight', to get insights from the data, most important is to get the mean value of 'Item_Weight' so that we can use it to fill the missing value in 'Item_Weight' colum"
      ],
      "metadata": {
        "id": "9Yu5ohT3p4oF"
      },
      "id": "9Yu5ohT3p4oF"
    },
    {
      "cell_type": "markdown",
      "source": [
        "Task 15: Computing mean value Item_Weight to the missing values in train and test datasets"
      ],
      "metadata": {
        "id": "rXZ0WsQyqAbn"
      },
      "id": "rXZ0WsQyqAbn"
    },
    {
      "cell_type": "markdown",
      "source": [
        "Task 16: To check for null values in Item_Weight for train dataset"
      ],
      "metadata": {
        "id": "qBMzvyOJqDRN"
      },
      "id": "qBMzvyOJqDRN"
    },
    {
      "cell_type": "markdown",
      "source": [
        "Task 17: To check for null values in Item_Weight for test dataset"
      ],
      "metadata": {
        "id": "g_BGbHzUqHCI"
      },
      "id": "g_BGbHzUqHCI"
    },
    {
      "cell_type": "markdown",
      "source": [
        "Task 18: Descripyive analysis of 'Item_Weight', to get insights from the data."
      ],
      "metadata": {
        "id": "xlmw1h-3qJT2"
      },
      "id": "xlmw1h-3qJT2"
    },
    {
      "cell_type": "markdown",
      "source": [
        "Task 19: Descripyive analysis of 'Outlet_Size', to get insights from the data, most important is to get the mode value of 'Outlet_Size' so that we can use it to fill the missing value in 'Outlet_Size' colum for train data"
      ],
      "metadata": {
        "id": "1GpK6mrdqLEP"
      },
      "id": "1GpK6mrdqLEP"
    },
    {
      "cell_type": "markdown",
      "source": [
        "Task 20: Descripyive analysis of 'Outlet_Size', to get insights from the data, most important is to get the mode value of 'Outlet_Size' so that we can use it to fill the missing value in 'Outlet_Size' colum for test data"
      ],
      "metadata": {
        "id": "vSyIli63qNHp"
      },
      "id": "vSyIli63qNHp"
    },
    {
      "cell_type": "markdown",
      "source": [
        "Task 21: mode inputation on Outlet_Size colum to replace missing for train data"
      ],
      "metadata": {
        "id": "RYO1WCoMqQhh"
      },
      "id": "RYO1WCoMqQhh"
    },
    {
      "cell_type": "markdown",
      "source": [
        "Task 22: mode inputation on Outlet_Size colum to replace missing for test data"
      ],
      "metadata": {
        "id": "cX_F3tS1qTeE"
      },
      "id": "cX_F3tS1qTeE"
    },
    {
      "cell_type": "markdown",
      "source": [
        "Task 23: inserting the mode for train and test datasets"
      ],
      "metadata": {
        "id": "uvMjxTzDqWTa"
      },
      "id": "uvMjxTzDqWTa"
    },
    {
      "cell_type": "markdown",
      "source": [
        "Task 24: checking for null value for train data"
      ],
      "metadata": {
        "id": "SdJTBcTDqYTM"
      },
      "id": "SdJTBcTDqYTM"
    },
    {
      "cell_type": "markdown",
      "source": [
        "Task 25: checking for null value for test data"
      ],
      "metadata": {
        "id": "MCqT2n1NqbrF"
      },
      "id": "MCqT2n1NqbrF"
    },
    {
      "cell_type": "markdown",
      "source": [
        "Task 26: Selecting features based on purpose or aim of the analysis, i have to drop Item_Identifier','Outlet_Identifier' colums because i don`t need them for my analysis"
      ],
      "metadata": {
        "id": "n2lVNfyPqdy4"
      },
      "id": "n2lVNfyPqdy4"
    },
    {
      "cell_type": "markdown",
      "source": [
        "Task 27: Getting the details of 'Outlet_Establishment_Year' colum to obtain to 'Outlet_Establishment_Year'score"
      ],
      "metadata": {
        "id": "_FwVP6JBqfu3"
      },
      "id": "_FwVP6JBqfu3"
    },
    {
      "cell_type": "markdown",
      "source": [
        "Task 28: Descriptive analysis of the train data"
      ],
      "metadata": {
        "id": "7YIaFcZ5qhYx"
      },
      "id": "7YIaFcZ5qhYx"
    },
    {
      "cell_type": "markdown",
      "source": [
        "Task 29: Plotting the line graph distributions of the 'Item_Outlet_Sales' to obtain the visualization of the 'Item_Outlet_Sales' colum"
      ],
      "metadata": {
        "id": "eTOkrWEwwObg"
      },
      "id": "eTOkrWEwwObg"
    },
    {
      "cell_type": "markdown",
      "source": [
        "Task 30: Graph of 'Outlet_Establishment_Year' distribution"
      ],
      "metadata": {
        "id": "X5l1GYdqqi0e"
      },
      "id": "X5l1GYdqqi0e"
    },
    {
      "cell_type": "markdown",
      "source": [
        "Task 31: Plotting the scatter graph of 'Item_Outlet_Sales' and 'Outlet_Location_Type' to obtain the 'Outlet_Location_Type' that generated the highest sales"
      ],
      "metadata": {
        "id": "d6Wy-S-Qqlk5"
      },
      "id": "d6Wy-S-Qqlk5"
    },
    {
      "cell_type": "markdown",
      "source": [
        "Task 32: Plotting the graph of 'Outlet_Type' to obtain the 'Outlet_Type' that generated highest sales or 'Outlet_Type' that has the major distribution score"
      ],
      "metadata": {
        "id": "vrCHjFdyqnDq"
      },
      "id": "vrCHjFdyqnDq"
    },
    {
      "cell_type": "markdown",
      "source": [
        "Task 33: Plotting the graph of 'Outlet_Location_Type' colum"
      ],
      "metadata": {
        "id": "JSpQs6nJqpNx"
      },
      "id": "JSpQs6nJqpNx"
    },
    {
      "cell_type": "markdown",
      "source": [
        "Task 34: Plotting the graph of 'Outlet_Size' to obtaing the 'Outlet_Size' that has the highest distribution"
      ],
      "metadata": {
        "id": "O65t0wVFqrA4"
      },
      "id": "O65t0wVFqrA4"
    },
    {
      "cell_type": "markdown",
      "source": [
        "Task 35: Plotting the graph of 'Item_Fat_Content' to determine the 'Item_Fat_Content' that has the highest distributions"
      ],
      "metadata": {
        "id": "ZcVGRC9Wqsxv"
      },
      "id": "ZcVGRC9Wqsxv"
    },
    {
      "cell_type": "markdown",
      "source": [
        "Task 36: Plotting 'Item_Visibility' graph"
      ],
      "metadata": {
        "id": "zvd92S8WqueH"
      },
      "id": "zvd92S8WqueH"
    },
    {
      "cell_type": "markdown",
      "source": [
        "Task 37: Plotting the graph of Item_MRP(Item Market Rate Value)"
      ],
      "metadata": {
        "id": "5A9XzwXgqwHp"
      },
      "id": "5A9XzwXgqwHp"
    },
    {
      "cell_type": "markdown",
      "source": [
        "Task 38: Plotting the graph of 'Item_Weight' to obtain the point where major distributions happenend in accordiance with the 'Item_Weight'."
      ],
      "metadata": {
        "id": "J_M2Nj58qz_N"
      },
      "id": "J_M2Nj58qz_N"
    },
    {
      "cell_type": "markdown",
      "source": [
        "Task 39: Generating a visualization of the number and frequency of categorical features"
      ],
      "metadata": {
        "id": "955NPH8iq2Is"
      },
      "id": "955NPH8iq2Is"
    },
    {
      "cell_type": "markdown",
      "source": [
        "Task 40: Getting the correlation matrix of the train data"
      ],
      "metadata": {
        "id": "fb95jnhdq33i"
      },
      "id": "fb95jnhdq33i"
    },
    {
      "cell_type": "markdown",
      "source": [
        "Task 41: Getting the numeric plot for every numeric distribution"
      ],
      "metadata": {
        "id": "HYNTXJrGq7TX"
      },
      "id": "HYNTXJrGq7TX"
    },
    {
      "cell_type": "markdown",
      "source": [
        "Task 42: Checking for missing values"
      ],
      "metadata": {
        "id": "I_C5hQNmq9EG"
      },
      "id": "I_C5hQNmq9EG"
    },
    {
      "cell_type": "markdown",
      "source": [
        "Task 43: Cleaning the train data performs data cleaning (drop duplicates & empty rows/cols)"
      ],
      "metadata": {
        "id": "l03suzYeq-pg"
      },
      "id": "l03suzYeq-pg"
    },
    {
      "cell_type": "markdown",
      "source": [
        "Task 44: converts existing to more efficient dtypes, also called inside data_cleaning"
      ],
      "metadata": {
        "id": "yG6_gNtYrANK"
      },
      "id": "yG6_gNtYrANK"
    },
    {
      "cell_type": "markdown",
      "source": [
        "Task 45: I am using Linear Regression Model, so i convert all the categorical values to numerical values"
      ],
      "metadata": {
        "id": "1jUHTgg6rB2B"
      },
      "id": "1jUHTgg6rB2B"
    },
    {
      "cell_type": "markdown",
      "source": [
        "Task 46:\n",
        "I split my data in training and testing by using 20% for testing and 80% for training"
      ],
      "metadata": {
        "id": "RqzIQewArDxH"
      },
      "id": "RqzIQewArDxH"
    },
    {
      "cell_type": "markdown",
      "source": [
        "Task 47: Standardizing the values of the train data so that i can use it to build my model"
      ],
      "metadata": {
        "id": "Z4aLW9ZArFRX"
      },
      "id": "Z4aLW9ZArFRX"
    },
    {
      "cell_type": "markdown",
      "source": [
        "Task 48: Building my model by using Linear Regression mode"
      ],
      "metadata": {
        "id": "f4tAu1x0rGzv"
      },
      "id": "f4tAu1x0rGzv"
    },
    {
      "cell_type": "markdown",
      "source": [
        "Task 49: To get the r2 score, mean absolute error score and mean square error score for the model report"
      ],
      "metadata": {
        "id": "B7NfXopMrIYi"
      },
      "id": "B7NfXopMrIYi"
    },
    {
      "cell_type": "markdown",
      "source": [
        "#Task1"
      ],
      "metadata": {
        "id": "bHUx42Ir8XJU"
      },
      "id": "bHUx42Ir8XJU"
    },
    {
      "cell_type": "markdown",
      "source": [
        "#Hypothesis statement(goals and purpose):"
      ],
      "metadata": {
        "id": "no9c2ltca9hm"
      },
      "id": "no9c2ltca9hm"
    },
    {
      "cell_type": "markdown",
      "source": [
        "Data Analysis for BIGMART_SALES_DATASET. A BigMart Store want to determine the highest Item_Outlet_Sales with the Item_Type that are most sold and determine the Outlet_Location with highest distribution score then build a model using Linear Regression model"
      ],
      "metadata": {
        "id": "w7U9aW658Rsg"
      },
      "id": "w7U9aW658Rsg"
    },
    {
      "cell_type": "markdown",
      "source": [
        "#Task 2"
      ],
      "metadata": {
        "id": "sc_Zk-0_RLR2"
      },
      "id": "sc_Zk-0_RLR2"
    },
    {
      "cell_type": "markdown",
      "source": [
        "#Importing libraries"
      ],
      "metadata": {
        "id": "51-1Vc5dDspr"
      },
      "id": "51-1Vc5dDspr"
    },
    {
      "cell_type": "code",
      "execution_count": null,
      "metadata": {
        "id": "AwlDQ3p36Pl1"
      },
      "outputs": [],
      "source": [
        "import pandas as pd\n",
        "import numpy as np\n",
        "%matplotlib inline\n",
        "import matplotlib.pyplot as plt\n",
        "import seaborn as sns"
      ],
      "id": "AwlDQ3p36Pl1"
    },
    {
      "cell_type": "markdown",
      "source": [
        "# Task 3"
      ],
      "metadata": {
        "id": "PxzE6nIxRPy2"
      },
      "id": "PxzE6nIxRPy2"
    },
    {
      "cell_type": "markdown",
      "source": [
        "#loading data"
      ],
      "metadata": {
        "id": "XvBdnYItIqtQ"
      },
      "id": "XvBdnYItIqtQ"
    },
    {
      "cell_type": "code",
      "source": [
        "from google.colab import drive\n",
        "drive.mount('/content/drive')"
      ],
      "metadata": {
        "colab": {
          "base_uri": "https://localhost:8080/"
        },
        "id": "m0vQszfU6YDF",
        "outputId": "b3f3de86-6228-4cb0-d97a-74ec7b8e1c1d"
      },
      "id": "m0vQszfU6YDF",
      "execution_count": null,
      "outputs": [
        {
          "output_type": "stream",
          "name": "stdout",
          "text": [
            "Mounted at /content/drive\n"
          ]
        }
      ]
    },
    {
      "cell_type": "code",
      "execution_count": null,
      "metadata": {
        "id": "b-I9zaOh6Pl3"
      },
      "outputs": [],
      "source": [
        "df_train= pd.read_csv(r'/content/drive/MyDrive/BIGMART_SALES_DATASET/Train.csv')\n",
        "df_test= pd.read_csv(r'/content/drive/MyDrive/BIGMART_SALES_DATASET/Test.csv')"
      ],
      "id": "b-I9zaOh6Pl3"
    },
    {
      "cell_type": "markdown",
      "source": [
        "# Task 4"
      ],
      "metadata": {
        "id": "o-XUOXHIRU0G"
      },
      "id": "o-XUOXHIRU0G"
    },
    {
      "cell_type": "markdown",
      "source": [
        "# Viewing the data, the head view of the 1st 5 rows of the train data"
      ],
      "metadata": {
        "id": "5U6FZ6gOI3Zk"
      },
      "id": "5U6FZ6gOI3Zk"
    },
    {
      "cell_type": "code",
      "execution_count": null,
      "metadata": {
        "colab": {
          "base_uri": "https://localhost:8080/",
          "height": 303
        },
        "id": "zGOjN-LI6Pl4",
        "outputId": "db84e02d-59d2-4254-cb8f-9d8b1a9b1659"
      },
      "outputs": [
        {
          "output_type": "execute_result",
          "data": {
            "text/plain": [
              "  Item_Identifier  Item_Weight Item_Fat_Content  Item_Visibility  \\\n",
              "0           FDA15         9.30          Low Fat         0.016047   \n",
              "1           DRC01         5.92          Regular         0.019278   \n",
              "2           FDN15        17.50          Low Fat         0.016760   \n",
              "3           FDX07        19.20          Regular         0.000000   \n",
              "4           NCD19         8.93          Low Fat         0.000000   \n",
              "\n",
              "               Item_Type  Item_MRP Outlet_Identifier  \\\n",
              "0                  Dairy  249.8092            OUT049   \n",
              "1            Soft Drinks   48.2692            OUT018   \n",
              "2                   Meat  141.6180            OUT049   \n",
              "3  Fruits and Vegetables  182.0950            OUT010   \n",
              "4              Household   53.8614            OUT013   \n",
              "\n",
              "   Outlet_Establishment_Year Outlet_Size Outlet_Location_Type  \\\n",
              "0                       1999      Medium               Tier 1   \n",
              "1                       2009      Medium               Tier 3   \n",
              "2                       1999      Medium               Tier 1   \n",
              "3                       1998         NaN               Tier 3   \n",
              "4                       1987        High               Tier 3   \n",
              "\n",
              "         Outlet_Type  Item_Outlet_Sales  \n",
              "0  Supermarket Type1          3735.1380  \n",
              "1  Supermarket Type2           443.4228  \n",
              "2  Supermarket Type1          2097.2700  \n",
              "3      Grocery Store           732.3800  \n",
              "4  Supermarket Type1           994.7052  "
            ],
            "text/html": [
              "\n",
              "  <div id=\"df-21cb4749-4798-446b-8865-5b3fbbd96344\" class=\"colab-df-container\">\n",
              "    <div>\n",
              "<style scoped>\n",
              "    .dataframe tbody tr th:only-of-type {\n",
              "        vertical-align: middle;\n",
              "    }\n",
              "\n",
              "    .dataframe tbody tr th {\n",
              "        vertical-align: top;\n",
              "    }\n",
              "\n",
              "    .dataframe thead th {\n",
              "        text-align: right;\n",
              "    }\n",
              "</style>\n",
              "<table border=\"1\" class=\"dataframe\">\n",
              "  <thead>\n",
              "    <tr style=\"text-align: right;\">\n",
              "      <th></th>\n",
              "      <th>Item_Identifier</th>\n",
              "      <th>Item_Weight</th>\n",
              "      <th>Item_Fat_Content</th>\n",
              "      <th>Item_Visibility</th>\n",
              "      <th>Item_Type</th>\n",
              "      <th>Item_MRP</th>\n",
              "      <th>Outlet_Identifier</th>\n",
              "      <th>Outlet_Establishment_Year</th>\n",
              "      <th>Outlet_Size</th>\n",
              "      <th>Outlet_Location_Type</th>\n",
              "      <th>Outlet_Type</th>\n",
              "      <th>Item_Outlet_Sales</th>\n",
              "    </tr>\n",
              "  </thead>\n",
              "  <tbody>\n",
              "    <tr>\n",
              "      <th>0</th>\n",
              "      <td>FDA15</td>\n",
              "      <td>9.30</td>\n",
              "      <td>Low Fat</td>\n",
              "      <td>0.016047</td>\n",
              "      <td>Dairy</td>\n",
              "      <td>249.8092</td>\n",
              "      <td>OUT049</td>\n",
              "      <td>1999</td>\n",
              "      <td>Medium</td>\n",
              "      <td>Tier 1</td>\n",
              "      <td>Supermarket Type1</td>\n",
              "      <td>3735.1380</td>\n",
              "    </tr>\n",
              "    <tr>\n",
              "      <th>1</th>\n",
              "      <td>DRC01</td>\n",
              "      <td>5.92</td>\n",
              "      <td>Regular</td>\n",
              "      <td>0.019278</td>\n",
              "      <td>Soft Drinks</td>\n",
              "      <td>48.2692</td>\n",
              "      <td>OUT018</td>\n",
              "      <td>2009</td>\n",
              "      <td>Medium</td>\n",
              "      <td>Tier 3</td>\n",
              "      <td>Supermarket Type2</td>\n",
              "      <td>443.4228</td>\n",
              "    </tr>\n",
              "    <tr>\n",
              "      <th>2</th>\n",
              "      <td>FDN15</td>\n",
              "      <td>17.50</td>\n",
              "      <td>Low Fat</td>\n",
              "      <td>0.016760</td>\n",
              "      <td>Meat</td>\n",
              "      <td>141.6180</td>\n",
              "      <td>OUT049</td>\n",
              "      <td>1999</td>\n",
              "      <td>Medium</td>\n",
              "      <td>Tier 1</td>\n",
              "      <td>Supermarket Type1</td>\n",
              "      <td>2097.2700</td>\n",
              "    </tr>\n",
              "    <tr>\n",
              "      <th>3</th>\n",
              "      <td>FDX07</td>\n",
              "      <td>19.20</td>\n",
              "      <td>Regular</td>\n",
              "      <td>0.000000</td>\n",
              "      <td>Fruits and Vegetables</td>\n",
              "      <td>182.0950</td>\n",
              "      <td>OUT010</td>\n",
              "      <td>1998</td>\n",
              "      <td>NaN</td>\n",
              "      <td>Tier 3</td>\n",
              "      <td>Grocery Store</td>\n",
              "      <td>732.3800</td>\n",
              "    </tr>\n",
              "    <tr>\n",
              "      <th>4</th>\n",
              "      <td>NCD19</td>\n",
              "      <td>8.93</td>\n",
              "      <td>Low Fat</td>\n",
              "      <td>0.000000</td>\n",
              "      <td>Household</td>\n",
              "      <td>53.8614</td>\n",
              "      <td>OUT013</td>\n",
              "      <td>1987</td>\n",
              "      <td>High</td>\n",
              "      <td>Tier 3</td>\n",
              "      <td>Supermarket Type1</td>\n",
              "      <td>994.7052</td>\n",
              "    </tr>\n",
              "  </tbody>\n",
              "</table>\n",
              "</div>\n",
              "    <div class=\"colab-df-buttons\">\n",
              "\n",
              "  <div class=\"colab-df-container\">\n",
              "    <button class=\"colab-df-convert\" onclick=\"convertToInteractive('df-21cb4749-4798-446b-8865-5b3fbbd96344')\"\n",
              "            title=\"Convert this dataframe to an interactive table.\"\n",
              "            style=\"display:none;\">\n",
              "\n",
              "  <svg xmlns=\"http://www.w3.org/2000/svg\" height=\"24px\" viewBox=\"0 -960 960 960\">\n",
              "    <path d=\"M120-120v-720h720v720H120Zm60-500h600v-160H180v160Zm220 220h160v-160H400v160Zm0 220h160v-160H400v160ZM180-400h160v-160H180v160Zm440 0h160v-160H620v160ZM180-180h160v-160H180v160Zm440 0h160v-160H620v160Z\"/>\n",
              "  </svg>\n",
              "    </button>\n",
              "\n",
              "  <style>\n",
              "    .colab-df-container {\n",
              "      display:flex;\n",
              "      gap: 12px;\n",
              "    }\n",
              "\n",
              "    .colab-df-convert {\n",
              "      background-color: #E8F0FE;\n",
              "      border: none;\n",
              "      border-radius: 50%;\n",
              "      cursor: pointer;\n",
              "      display: none;\n",
              "      fill: #1967D2;\n",
              "      height: 32px;\n",
              "      padding: 0 0 0 0;\n",
              "      width: 32px;\n",
              "    }\n",
              "\n",
              "    .colab-df-convert:hover {\n",
              "      background-color: #E2EBFA;\n",
              "      box-shadow: 0px 1px 2px rgba(60, 64, 67, 0.3), 0px 1px 3px 1px rgba(60, 64, 67, 0.15);\n",
              "      fill: #174EA6;\n",
              "    }\n",
              "\n",
              "    .colab-df-buttons div {\n",
              "      margin-bottom: 4px;\n",
              "    }\n",
              "\n",
              "    [theme=dark] .colab-df-convert {\n",
              "      background-color: #3B4455;\n",
              "      fill: #D2E3FC;\n",
              "    }\n",
              "\n",
              "    [theme=dark] .colab-df-convert:hover {\n",
              "      background-color: #434B5C;\n",
              "      box-shadow: 0px 1px 3px 1px rgba(0, 0, 0, 0.15);\n",
              "      filter: drop-shadow(0px 1px 2px rgba(0, 0, 0, 0.3));\n",
              "      fill: #FFFFFF;\n",
              "    }\n",
              "  </style>\n",
              "\n",
              "    <script>\n",
              "      const buttonEl =\n",
              "        document.querySelector('#df-21cb4749-4798-446b-8865-5b3fbbd96344 button.colab-df-convert');\n",
              "      buttonEl.style.display =\n",
              "        google.colab.kernel.accessAllowed ? 'block' : 'none';\n",
              "\n",
              "      async function convertToInteractive(key) {\n",
              "        const element = document.querySelector('#df-21cb4749-4798-446b-8865-5b3fbbd96344');\n",
              "        const dataTable =\n",
              "          await google.colab.kernel.invokeFunction('convertToInteractive',\n",
              "                                                    [key], {});\n",
              "        if (!dataTable) return;\n",
              "\n",
              "        const docLinkHtml = 'Like what you see? Visit the ' +\n",
              "          '<a target=\"_blank\" href=https://colab.research.google.com/notebooks/data_table.ipynb>data table notebook</a>'\n",
              "          + ' to learn more about interactive tables.';\n",
              "        element.innerHTML = '';\n",
              "        dataTable['output_type'] = 'display_data';\n",
              "        await google.colab.output.renderOutput(dataTable, element);\n",
              "        const docLink = document.createElement('div');\n",
              "        docLink.innerHTML = docLinkHtml;\n",
              "        element.appendChild(docLink);\n",
              "      }\n",
              "    </script>\n",
              "  </div>\n",
              "\n",
              "\n",
              "<div id=\"df-6168c76e-8c6e-4944-b008-e86af950c6f7\">\n",
              "  <button class=\"colab-df-quickchart\" onclick=\"quickchart('df-6168c76e-8c6e-4944-b008-e86af950c6f7')\"\n",
              "            title=\"Suggest charts\"\n",
              "            style=\"display:none;\">\n",
              "\n",
              "<svg xmlns=\"http://www.w3.org/2000/svg\" height=\"24px\"viewBox=\"0 0 24 24\"\n",
              "     width=\"24px\">\n",
              "    <g>\n",
              "        <path d=\"M19 3H5c-1.1 0-2 .9-2 2v14c0 1.1.9 2 2 2h14c1.1 0 2-.9 2-2V5c0-1.1-.9-2-2-2zM9 17H7v-7h2v7zm4 0h-2V7h2v10zm4 0h-2v-4h2v4z\"/>\n",
              "    </g>\n",
              "</svg>\n",
              "  </button>\n",
              "\n",
              "<style>\n",
              "  .colab-df-quickchart {\n",
              "      --bg-color: #E8F0FE;\n",
              "      --fill-color: #1967D2;\n",
              "      --hover-bg-color: #E2EBFA;\n",
              "      --hover-fill-color: #174EA6;\n",
              "      --disabled-fill-color: #AAA;\n",
              "      --disabled-bg-color: #DDD;\n",
              "  }\n",
              "\n",
              "  [theme=dark] .colab-df-quickchart {\n",
              "      --bg-color: #3B4455;\n",
              "      --fill-color: #D2E3FC;\n",
              "      --hover-bg-color: #434B5C;\n",
              "      --hover-fill-color: #FFFFFF;\n",
              "      --disabled-bg-color: #3B4455;\n",
              "      --disabled-fill-color: #666;\n",
              "  }\n",
              "\n",
              "  .colab-df-quickchart {\n",
              "    background-color: var(--bg-color);\n",
              "    border: none;\n",
              "    border-radius: 50%;\n",
              "    cursor: pointer;\n",
              "    display: none;\n",
              "    fill: var(--fill-color);\n",
              "    height: 32px;\n",
              "    padding: 0;\n",
              "    width: 32px;\n",
              "  }\n",
              "\n",
              "  .colab-df-quickchart:hover {\n",
              "    background-color: var(--hover-bg-color);\n",
              "    box-shadow: 0 1px 2px rgba(60, 64, 67, 0.3), 0 1px 3px 1px rgba(60, 64, 67, 0.15);\n",
              "    fill: var(--button-hover-fill-color);\n",
              "  }\n",
              "\n",
              "  .colab-df-quickchart-complete:disabled,\n",
              "  .colab-df-quickchart-complete:disabled:hover {\n",
              "    background-color: var(--disabled-bg-color);\n",
              "    fill: var(--disabled-fill-color);\n",
              "    box-shadow: none;\n",
              "  }\n",
              "\n",
              "  .colab-df-spinner {\n",
              "    border: 2px solid var(--fill-color);\n",
              "    border-color: transparent;\n",
              "    border-bottom-color: var(--fill-color);\n",
              "    animation:\n",
              "      spin 1s steps(1) infinite;\n",
              "  }\n",
              "\n",
              "  @keyframes spin {\n",
              "    0% {\n",
              "      border-color: transparent;\n",
              "      border-bottom-color: var(--fill-color);\n",
              "      border-left-color: var(--fill-color);\n",
              "    }\n",
              "    20% {\n",
              "      border-color: transparent;\n",
              "      border-left-color: var(--fill-color);\n",
              "      border-top-color: var(--fill-color);\n",
              "    }\n",
              "    30% {\n",
              "      border-color: transparent;\n",
              "      border-left-color: var(--fill-color);\n",
              "      border-top-color: var(--fill-color);\n",
              "      border-right-color: var(--fill-color);\n",
              "    }\n",
              "    40% {\n",
              "      border-color: transparent;\n",
              "      border-right-color: var(--fill-color);\n",
              "      border-top-color: var(--fill-color);\n",
              "    }\n",
              "    60% {\n",
              "      border-color: transparent;\n",
              "      border-right-color: var(--fill-color);\n",
              "    }\n",
              "    80% {\n",
              "      border-color: transparent;\n",
              "      border-right-color: var(--fill-color);\n",
              "      border-bottom-color: var(--fill-color);\n",
              "    }\n",
              "    90% {\n",
              "      border-color: transparent;\n",
              "      border-bottom-color: var(--fill-color);\n",
              "    }\n",
              "  }\n",
              "</style>\n",
              "\n",
              "  <script>\n",
              "    async function quickchart(key) {\n",
              "      const quickchartButtonEl =\n",
              "        document.querySelector('#' + key + ' button');\n",
              "      quickchartButtonEl.disabled = true;  // To prevent multiple clicks.\n",
              "      quickchartButtonEl.classList.add('colab-df-spinner');\n",
              "      try {\n",
              "        const charts = await google.colab.kernel.invokeFunction(\n",
              "            'suggestCharts', [key], {});\n",
              "      } catch (error) {\n",
              "        console.error('Error during call to suggestCharts:', error);\n",
              "      }\n",
              "      quickchartButtonEl.classList.remove('colab-df-spinner');\n",
              "      quickchartButtonEl.classList.add('colab-df-quickchart-complete');\n",
              "    }\n",
              "    (() => {\n",
              "      let quickchartButtonEl =\n",
              "        document.querySelector('#df-6168c76e-8c6e-4944-b008-e86af950c6f7 button');\n",
              "      quickchartButtonEl.style.display =\n",
              "        google.colab.kernel.accessAllowed ? 'block' : 'none';\n",
              "    })();\n",
              "  </script>\n",
              "</div>\n",
              "    </div>\n",
              "  </div>\n"
            ]
          },
          "metadata": {},
          "execution_count": 4
        }
      ],
      "source": [
        "df_train.head()"
      ],
      "id": "zGOjN-LI6Pl4"
    },
    {
      "cell_type": "markdown",
      "source": [
        "# Task 5"
      ],
      "metadata": {
        "id": "OOV6N1g5RawB"
      },
      "id": "OOV6N1g5RawB"
    },
    {
      "cell_type": "markdown",
      "source": [
        "# Viewing the data, the head view of the 1st 5 rows of the test data"
      ],
      "metadata": {
        "id": "BacqFSqZJ3fJ"
      },
      "id": "BacqFSqZJ3fJ"
    },
    {
      "cell_type": "code",
      "execution_count": null,
      "metadata": {
        "colab": {
          "base_uri": "https://localhost:8080/",
          "height": 267
        },
        "id": "wo9wuzMk6Pl7",
        "outputId": "391eb6e5-14da-4bc6-b6a8-abbdd02207c9"
      },
      "outputs": [
        {
          "output_type": "execute_result",
          "data": {
            "text/plain": [
              "  Item_Identifier  Item_Weight Item_Fat_Content  Item_Visibility    Item_Type  \\\n",
              "0           FDW58       20.750          Low Fat         0.007565  Snack Foods   \n",
              "1           FDW14        8.300              reg         0.038428        Dairy   \n",
              "2           NCN55       14.600          Low Fat         0.099575       Others   \n",
              "3           FDQ58        7.315          Low Fat         0.015388  Snack Foods   \n",
              "4           FDY38          NaN          Regular         0.118599        Dairy   \n",
              "\n",
              "   Item_MRP Outlet_Identifier  Outlet_Establishment_Year Outlet_Size  \\\n",
              "0  107.8622            OUT049                       1999      Medium   \n",
              "1   87.3198            OUT017                       2007         NaN   \n",
              "2  241.7538            OUT010                       1998         NaN   \n",
              "3  155.0340            OUT017                       2007         NaN   \n",
              "4  234.2300            OUT027                       1985      Medium   \n",
              "\n",
              "  Outlet_Location_Type        Outlet_Type  \n",
              "0               Tier 1  Supermarket Type1  \n",
              "1               Tier 2  Supermarket Type1  \n",
              "2               Tier 3      Grocery Store  \n",
              "3               Tier 2  Supermarket Type1  \n",
              "4               Tier 3  Supermarket Type3  "
            ],
            "text/html": [
              "\n",
              "  <div id=\"df-b520c75c-5a49-411d-9242-e092ac7cd8ca\" class=\"colab-df-container\">\n",
              "    <div>\n",
              "<style scoped>\n",
              "    .dataframe tbody tr th:only-of-type {\n",
              "        vertical-align: middle;\n",
              "    }\n",
              "\n",
              "    .dataframe tbody tr th {\n",
              "        vertical-align: top;\n",
              "    }\n",
              "\n",
              "    .dataframe thead th {\n",
              "        text-align: right;\n",
              "    }\n",
              "</style>\n",
              "<table border=\"1\" class=\"dataframe\">\n",
              "  <thead>\n",
              "    <tr style=\"text-align: right;\">\n",
              "      <th></th>\n",
              "      <th>Item_Identifier</th>\n",
              "      <th>Item_Weight</th>\n",
              "      <th>Item_Fat_Content</th>\n",
              "      <th>Item_Visibility</th>\n",
              "      <th>Item_Type</th>\n",
              "      <th>Item_MRP</th>\n",
              "      <th>Outlet_Identifier</th>\n",
              "      <th>Outlet_Establishment_Year</th>\n",
              "      <th>Outlet_Size</th>\n",
              "      <th>Outlet_Location_Type</th>\n",
              "      <th>Outlet_Type</th>\n",
              "    </tr>\n",
              "  </thead>\n",
              "  <tbody>\n",
              "    <tr>\n",
              "      <th>0</th>\n",
              "      <td>FDW58</td>\n",
              "      <td>20.750</td>\n",
              "      <td>Low Fat</td>\n",
              "      <td>0.007565</td>\n",
              "      <td>Snack Foods</td>\n",
              "      <td>107.8622</td>\n",
              "      <td>OUT049</td>\n",
              "      <td>1999</td>\n",
              "      <td>Medium</td>\n",
              "      <td>Tier 1</td>\n",
              "      <td>Supermarket Type1</td>\n",
              "    </tr>\n",
              "    <tr>\n",
              "      <th>1</th>\n",
              "      <td>FDW14</td>\n",
              "      <td>8.300</td>\n",
              "      <td>reg</td>\n",
              "      <td>0.038428</td>\n",
              "      <td>Dairy</td>\n",
              "      <td>87.3198</td>\n",
              "      <td>OUT017</td>\n",
              "      <td>2007</td>\n",
              "      <td>NaN</td>\n",
              "      <td>Tier 2</td>\n",
              "      <td>Supermarket Type1</td>\n",
              "    </tr>\n",
              "    <tr>\n",
              "      <th>2</th>\n",
              "      <td>NCN55</td>\n",
              "      <td>14.600</td>\n",
              "      <td>Low Fat</td>\n",
              "      <td>0.099575</td>\n",
              "      <td>Others</td>\n",
              "      <td>241.7538</td>\n",
              "      <td>OUT010</td>\n",
              "      <td>1998</td>\n",
              "      <td>NaN</td>\n",
              "      <td>Tier 3</td>\n",
              "      <td>Grocery Store</td>\n",
              "    </tr>\n",
              "    <tr>\n",
              "      <th>3</th>\n",
              "      <td>FDQ58</td>\n",
              "      <td>7.315</td>\n",
              "      <td>Low Fat</td>\n",
              "      <td>0.015388</td>\n",
              "      <td>Snack Foods</td>\n",
              "      <td>155.0340</td>\n",
              "      <td>OUT017</td>\n",
              "      <td>2007</td>\n",
              "      <td>NaN</td>\n",
              "      <td>Tier 2</td>\n",
              "      <td>Supermarket Type1</td>\n",
              "    </tr>\n",
              "    <tr>\n",
              "      <th>4</th>\n",
              "      <td>FDY38</td>\n",
              "      <td>NaN</td>\n",
              "      <td>Regular</td>\n",
              "      <td>0.118599</td>\n",
              "      <td>Dairy</td>\n",
              "      <td>234.2300</td>\n",
              "      <td>OUT027</td>\n",
              "      <td>1985</td>\n",
              "      <td>Medium</td>\n",
              "      <td>Tier 3</td>\n",
              "      <td>Supermarket Type3</td>\n",
              "    </tr>\n",
              "  </tbody>\n",
              "</table>\n",
              "</div>\n",
              "    <div class=\"colab-df-buttons\">\n",
              "\n",
              "  <div class=\"colab-df-container\">\n",
              "    <button class=\"colab-df-convert\" onclick=\"convertToInteractive('df-b520c75c-5a49-411d-9242-e092ac7cd8ca')\"\n",
              "            title=\"Convert this dataframe to an interactive table.\"\n",
              "            style=\"display:none;\">\n",
              "\n",
              "  <svg xmlns=\"http://www.w3.org/2000/svg\" height=\"24px\" viewBox=\"0 -960 960 960\">\n",
              "    <path d=\"M120-120v-720h720v720H120Zm60-500h600v-160H180v160Zm220 220h160v-160H400v160Zm0 220h160v-160H400v160ZM180-400h160v-160H180v160Zm440 0h160v-160H620v160ZM180-180h160v-160H180v160Zm440 0h160v-160H620v160Z\"/>\n",
              "  </svg>\n",
              "    </button>\n",
              "\n",
              "  <style>\n",
              "    .colab-df-container {\n",
              "      display:flex;\n",
              "      gap: 12px;\n",
              "    }\n",
              "\n",
              "    .colab-df-convert {\n",
              "      background-color: #E8F0FE;\n",
              "      border: none;\n",
              "      border-radius: 50%;\n",
              "      cursor: pointer;\n",
              "      display: none;\n",
              "      fill: #1967D2;\n",
              "      height: 32px;\n",
              "      padding: 0 0 0 0;\n",
              "      width: 32px;\n",
              "    }\n",
              "\n",
              "    .colab-df-convert:hover {\n",
              "      background-color: #E2EBFA;\n",
              "      box-shadow: 0px 1px 2px rgba(60, 64, 67, 0.3), 0px 1px 3px 1px rgba(60, 64, 67, 0.15);\n",
              "      fill: #174EA6;\n",
              "    }\n",
              "\n",
              "    .colab-df-buttons div {\n",
              "      margin-bottom: 4px;\n",
              "    }\n",
              "\n",
              "    [theme=dark] .colab-df-convert {\n",
              "      background-color: #3B4455;\n",
              "      fill: #D2E3FC;\n",
              "    }\n",
              "\n",
              "    [theme=dark] .colab-df-convert:hover {\n",
              "      background-color: #434B5C;\n",
              "      box-shadow: 0px 1px 3px 1px rgba(0, 0, 0, 0.15);\n",
              "      filter: drop-shadow(0px 1px 2px rgba(0, 0, 0, 0.3));\n",
              "      fill: #FFFFFF;\n",
              "    }\n",
              "  </style>\n",
              "\n",
              "    <script>\n",
              "      const buttonEl =\n",
              "        document.querySelector('#df-b520c75c-5a49-411d-9242-e092ac7cd8ca button.colab-df-convert');\n",
              "      buttonEl.style.display =\n",
              "        google.colab.kernel.accessAllowed ? 'block' : 'none';\n",
              "\n",
              "      async function convertToInteractive(key) {\n",
              "        const element = document.querySelector('#df-b520c75c-5a49-411d-9242-e092ac7cd8ca');\n",
              "        const dataTable =\n",
              "          await google.colab.kernel.invokeFunction('convertToInteractive',\n",
              "                                                    [key], {});\n",
              "        if (!dataTable) return;\n",
              "\n",
              "        const docLinkHtml = 'Like what you see? Visit the ' +\n",
              "          '<a target=\"_blank\" href=https://colab.research.google.com/notebooks/data_table.ipynb>data table notebook</a>'\n",
              "          + ' to learn more about interactive tables.';\n",
              "        element.innerHTML = '';\n",
              "        dataTable['output_type'] = 'display_data';\n",
              "        await google.colab.output.renderOutput(dataTable, element);\n",
              "        const docLink = document.createElement('div');\n",
              "        docLink.innerHTML = docLinkHtml;\n",
              "        element.appendChild(docLink);\n",
              "      }\n",
              "    </script>\n",
              "  </div>\n",
              "\n",
              "\n",
              "<div id=\"df-c85c0fc8-9cdb-4ec1-995e-9c75f40f2b7d\">\n",
              "  <button class=\"colab-df-quickchart\" onclick=\"quickchart('df-c85c0fc8-9cdb-4ec1-995e-9c75f40f2b7d')\"\n",
              "            title=\"Suggest charts\"\n",
              "            style=\"display:none;\">\n",
              "\n",
              "<svg xmlns=\"http://www.w3.org/2000/svg\" height=\"24px\"viewBox=\"0 0 24 24\"\n",
              "     width=\"24px\">\n",
              "    <g>\n",
              "        <path d=\"M19 3H5c-1.1 0-2 .9-2 2v14c0 1.1.9 2 2 2h14c1.1 0 2-.9 2-2V5c0-1.1-.9-2-2-2zM9 17H7v-7h2v7zm4 0h-2V7h2v10zm4 0h-2v-4h2v4z\"/>\n",
              "    </g>\n",
              "</svg>\n",
              "  </button>\n",
              "\n",
              "<style>\n",
              "  .colab-df-quickchart {\n",
              "      --bg-color: #E8F0FE;\n",
              "      --fill-color: #1967D2;\n",
              "      --hover-bg-color: #E2EBFA;\n",
              "      --hover-fill-color: #174EA6;\n",
              "      --disabled-fill-color: #AAA;\n",
              "      --disabled-bg-color: #DDD;\n",
              "  }\n",
              "\n",
              "  [theme=dark] .colab-df-quickchart {\n",
              "      --bg-color: #3B4455;\n",
              "      --fill-color: #D2E3FC;\n",
              "      --hover-bg-color: #434B5C;\n",
              "      --hover-fill-color: #FFFFFF;\n",
              "      --disabled-bg-color: #3B4455;\n",
              "      --disabled-fill-color: #666;\n",
              "  }\n",
              "\n",
              "  .colab-df-quickchart {\n",
              "    background-color: var(--bg-color);\n",
              "    border: none;\n",
              "    border-radius: 50%;\n",
              "    cursor: pointer;\n",
              "    display: none;\n",
              "    fill: var(--fill-color);\n",
              "    height: 32px;\n",
              "    padding: 0;\n",
              "    width: 32px;\n",
              "  }\n",
              "\n",
              "  .colab-df-quickchart:hover {\n",
              "    background-color: var(--hover-bg-color);\n",
              "    box-shadow: 0 1px 2px rgba(60, 64, 67, 0.3), 0 1px 3px 1px rgba(60, 64, 67, 0.15);\n",
              "    fill: var(--button-hover-fill-color);\n",
              "  }\n",
              "\n",
              "  .colab-df-quickchart-complete:disabled,\n",
              "  .colab-df-quickchart-complete:disabled:hover {\n",
              "    background-color: var(--disabled-bg-color);\n",
              "    fill: var(--disabled-fill-color);\n",
              "    box-shadow: none;\n",
              "  }\n",
              "\n",
              "  .colab-df-spinner {\n",
              "    border: 2px solid var(--fill-color);\n",
              "    border-color: transparent;\n",
              "    border-bottom-color: var(--fill-color);\n",
              "    animation:\n",
              "      spin 1s steps(1) infinite;\n",
              "  }\n",
              "\n",
              "  @keyframes spin {\n",
              "    0% {\n",
              "      border-color: transparent;\n",
              "      border-bottom-color: var(--fill-color);\n",
              "      border-left-color: var(--fill-color);\n",
              "    }\n",
              "    20% {\n",
              "      border-color: transparent;\n",
              "      border-left-color: var(--fill-color);\n",
              "      border-top-color: var(--fill-color);\n",
              "    }\n",
              "    30% {\n",
              "      border-color: transparent;\n",
              "      border-left-color: var(--fill-color);\n",
              "      border-top-color: var(--fill-color);\n",
              "      border-right-color: var(--fill-color);\n",
              "    }\n",
              "    40% {\n",
              "      border-color: transparent;\n",
              "      border-right-color: var(--fill-color);\n",
              "      border-top-color: var(--fill-color);\n",
              "    }\n",
              "    60% {\n",
              "      border-color: transparent;\n",
              "      border-right-color: var(--fill-color);\n",
              "    }\n",
              "    80% {\n",
              "      border-color: transparent;\n",
              "      border-right-color: var(--fill-color);\n",
              "      border-bottom-color: var(--fill-color);\n",
              "    }\n",
              "    90% {\n",
              "      border-color: transparent;\n",
              "      border-bottom-color: var(--fill-color);\n",
              "    }\n",
              "  }\n",
              "</style>\n",
              "\n",
              "  <script>\n",
              "    async function quickchart(key) {\n",
              "      const quickchartButtonEl =\n",
              "        document.querySelector('#' + key + ' button');\n",
              "      quickchartButtonEl.disabled = true;  // To prevent multiple clicks.\n",
              "      quickchartButtonEl.classList.add('colab-df-spinner');\n",
              "      try {\n",
              "        const charts = await google.colab.kernel.invokeFunction(\n",
              "            'suggestCharts', [key], {});\n",
              "      } catch (error) {\n",
              "        console.error('Error during call to suggestCharts:', error);\n",
              "      }\n",
              "      quickchartButtonEl.classList.remove('colab-df-spinner');\n",
              "      quickchartButtonEl.classList.add('colab-df-quickchart-complete');\n",
              "    }\n",
              "    (() => {\n",
              "      let quickchartButtonEl =\n",
              "        document.querySelector('#df-c85c0fc8-9cdb-4ec1-995e-9c75f40f2b7d button');\n",
              "      quickchartButtonEl.style.display =\n",
              "        google.colab.kernel.accessAllowed ? 'block' : 'none';\n",
              "    })();\n",
              "  </script>\n",
              "</div>\n",
              "    </div>\n",
              "  </div>\n"
            ]
          },
          "metadata": {},
          "execution_count": 5
        }
      ],
      "source": [
        "df_test.head()"
      ],
      "id": "wo9wuzMk6Pl7"
    },
    {
      "cell_type": "markdown",
      "source": [
        "# Task 6"
      ],
      "metadata": {
        "id": "pDaiZ42xRisp"
      },
      "id": "pDaiZ42xRisp"
    },
    {
      "cell_type": "markdown",
      "source": [
        "# To view the shape of the train data"
      ],
      "metadata": {
        "id": "_JqCdBxhKClr"
      },
      "id": "_JqCdBxhKClr"
    },
    {
      "cell_type": "code",
      "execution_count": null,
      "metadata": {
        "colab": {
          "base_uri": "https://localhost:8080/"
        },
        "id": "Yzh70VmY6Pl8",
        "outputId": "84db85fb-3c71-411d-ef1a-c17df5e492fe"
      },
      "outputs": [
        {
          "output_type": "execute_result",
          "data": {
            "text/plain": [
              "(8523, 12)"
            ]
          },
          "metadata": {},
          "execution_count": 6
        }
      ],
      "source": [
        "df_train.shape"
      ],
      "id": "Yzh70VmY6Pl8"
    },
    {
      "cell_type": "markdown",
      "source": [
        "Train data contains 8523 files and 12 colums"
      ],
      "metadata": {
        "id": "pKQfIE8JKqdU"
      },
      "id": "pKQfIE8JKqdU"
    },
    {
      "cell_type": "markdown",
      "source": [
        "# Task 7"
      ],
      "metadata": {
        "id": "JmuBjiAhRrGA"
      },
      "id": "JmuBjiAhRrGA"
    },
    {
      "cell_type": "markdown",
      "source": [
        "#To view the shape of the test data"
      ],
      "metadata": {
        "id": "U7W6z1NfKXVg"
      },
      "id": "U7W6z1NfKXVg"
    },
    {
      "cell_type": "code",
      "source": [
        "df_test.shape"
      ],
      "metadata": {
        "colab": {
          "base_uri": "https://localhost:8080/"
        },
        "id": "6jvFvzKY8cWk",
        "outputId": "0d954ffc-7232-4b38-c5a0-595db65ea8c5"
      },
      "id": "6jvFvzKY8cWk",
      "execution_count": null,
      "outputs": [
        {
          "output_type": "execute_result",
          "data": {
            "text/plain": [
              "(5681, 11)"
            ]
          },
          "metadata": {},
          "execution_count": 7
        }
      ]
    },
    {
      "cell_type": "markdown",
      "source": [
        "Test data contains 5681 files and 11 colums"
      ],
      "metadata": {
        "id": "5vFJJlNuLDXK"
      },
      "id": "5vFJJlNuLDXK"
    },
    {
      "cell_type": "markdown",
      "source": [
        "# Task 8"
      ],
      "metadata": {
        "id": "Ui3-PH8NRxd5"
      },
      "id": "Ui3-PH8NRxd5"
    },
    {
      "cell_type": "markdown",
      "source": [
        "# Checking for NAN/NULL values(missing values) for train dataset"
      ],
      "metadata": {
        "id": "HaV9QyFVLXgq"
      },
      "id": "HaV9QyFVLXgq"
    },
    {
      "cell_type": "code",
      "execution_count": null,
      "metadata": {
        "colab": {
          "base_uri": "https://localhost:8080/"
        },
        "id": "vnoiN1Pa6Pl9",
        "outputId": "c938f9a1-8e6a-4cb2-bf75-7f19c22fb519"
      },
      "outputs": [
        {
          "output_type": "execute_result",
          "data": {
            "text/plain": [
              "Item_Identifier                 0\n",
              "Item_Weight                  1463\n",
              "Item_Fat_Content                0\n",
              "Item_Visibility                 0\n",
              "Item_Type                       0\n",
              "Item_MRP                        0\n",
              "Outlet_Identifier               0\n",
              "Outlet_Establishment_Year       0\n",
              "Outlet_Size                  2410\n",
              "Outlet_Location_Type            0\n",
              "Outlet_Type                     0\n",
              "Item_Outlet_Sales               0\n",
              "dtype: int64"
            ]
          },
          "metadata": {},
          "execution_count": 9
        }
      ],
      "source": [
        "df_train.isnull().sum()"
      ],
      "id": "vnoiN1Pa6Pl9"
    },
    {
      "cell_type": "markdown",
      "source": [
        "There are 1463 missing values in Item_Weight colume and 2410 missing values in Outlet_Size on train dataset respectively. That is large number of missing values considering the total number of my dataset values, i have to fill the missing values using mean method for numerical missing values and mode method for categorical values"
      ],
      "metadata": {
        "id": "sj9NiZJwHKwr"
      },
      "id": "sj9NiZJwHKwr"
    },
    {
      "cell_type": "markdown",
      "source": [
        "# Task 9"
      ],
      "metadata": {
        "id": "QcJIq0fkR5lT"
      },
      "id": "QcJIq0fkR5lT"
    },
    {
      "cell_type": "markdown",
      "source": [
        "# Checking for NAN/NULL values(missing values) for test dataset"
      ],
      "metadata": {
        "id": "7iN4DrbALi5d"
      },
      "id": "7iN4DrbALi5d"
    },
    {
      "cell_type": "code",
      "execution_count": null,
      "metadata": {
        "colab": {
          "base_uri": "https://localhost:8080/"
        },
        "id": "MGQjatXw6Pl-",
        "outputId": "b07896f9-915a-4b30-af7c-0d66f1ef9a4c"
      },
      "outputs": [
        {
          "output_type": "execute_result",
          "data": {
            "text/plain": [
              "Item_Identifier                 0\n",
              "Item_Weight                   976\n",
              "Item_Fat_Content                0\n",
              "Item_Visibility                 0\n",
              "Item_Type                       0\n",
              "Item_MRP                        0\n",
              "Outlet_Identifier               0\n",
              "Outlet_Establishment_Year       0\n",
              "Outlet_Size                  1606\n",
              "Outlet_Location_Type            0\n",
              "Outlet_Type                     0\n",
              "dtype: int64"
            ]
          },
          "metadata": {},
          "execution_count": 11
        }
      ],
      "source": [
        "df_test.isnull().sum()"
      ],
      "id": "MGQjatXw6Pl-"
    },
    {
      "cell_type": "markdown",
      "source": [
        "There are 976 missing values in Item_Weight colume and 1606 missing values in Outlet_Size on test dataset respectively."
      ],
      "metadata": {
        "id": "QOX6iWzdJKMz"
      },
      "id": "QOX6iWzdJKMz"
    },
    {
      "cell_type": "markdown",
      "source": [
        "# Task 10"
      ],
      "metadata": {
        "id": "XGY6oofkR-xH"
      },
      "id": "XGY6oofkR-xH"
    },
    {
      "cell_type": "markdown",
      "source": [
        "# To get the details of train data colums nature information"
      ],
      "metadata": {
        "id": "r1ztG2qALq1z"
      },
      "id": "r1ztG2qALq1z"
    },
    {
      "cell_type": "code",
      "execution_count": null,
      "metadata": {
        "colab": {
          "base_uri": "https://localhost:8080/"
        },
        "id": "nGMCWbll6Pl_",
        "outputId": "ffe4e2f3-4ce0-41c6-c935-7b70568533f7"
      },
      "outputs": [
        {
          "output_type": "stream",
          "name": "stdout",
          "text": [
            "<class 'pandas.core.frame.DataFrame'>\n",
            "RangeIndex: 8523 entries, 0 to 8522\n",
            "Data columns (total 12 columns):\n",
            " #   Column                     Non-Null Count  Dtype  \n",
            "---  ------                     --------------  -----  \n",
            " 0   Item_Identifier            8523 non-null   object \n",
            " 1   Item_Weight                7060 non-null   float64\n",
            " 2   Item_Fat_Content           8523 non-null   object \n",
            " 3   Item_Visibility            8523 non-null   float64\n",
            " 4   Item_Type                  8523 non-null   object \n",
            " 5   Item_MRP                   8523 non-null   float64\n",
            " 6   Outlet_Identifier          8523 non-null   object \n",
            " 7   Outlet_Establishment_Year  8523 non-null   int64  \n",
            " 8   Outlet_Size                6113 non-null   object \n",
            " 9   Outlet_Location_Type       8523 non-null   object \n",
            " 10  Outlet_Type                8523 non-null   object \n",
            " 11  Item_Outlet_Sales          8523 non-null   float64\n",
            "dtypes: float64(4), int64(1), object(7)\n",
            "memory usage: 799.2+ KB\n"
          ]
        }
      ],
      "source": [
        "df_train.info()"
      ],
      "id": "nGMCWbll6Pl_"
    },
    {
      "cell_type": "markdown",
      "source": [
        "There are 8523 entries, ranges from 0 to 8522 Data columns (total 12 columns)\n",
        "dtypes is float64(4), int64(1), object(7) in train dataset. I will convert the \"Object\" to \"Categorical\" for proper data cleaning order."
      ],
      "metadata": {
        "id": "_anOq1IFKEsd"
      },
      "id": "_anOq1IFKEsd"
    },
    {
      "cell_type": "markdown",
      "source": [
        "# Task 11"
      ],
      "metadata": {
        "id": "8zpN7lD5SJ2I"
      },
      "id": "8zpN7lD5SJ2I"
    },
    {
      "cell_type": "markdown",
      "source": [
        "# To get the details of test data colums nature information"
      ],
      "metadata": {
        "id": "JMh3Ve7eLx_6"
      },
      "id": "JMh3Ve7eLx_6"
    },
    {
      "cell_type": "code",
      "source": [
        "df_test.info()"
      ],
      "metadata": {
        "colab": {
          "base_uri": "https://localhost:8080/"
        },
        "id": "rz0K6XwB9KOD",
        "outputId": "3e63b863-b105-4f8b-e8eb-345eb2bd95f2"
      },
      "id": "rz0K6XwB9KOD",
      "execution_count": null,
      "outputs": [
        {
          "output_type": "stream",
          "name": "stdout",
          "text": [
            "<class 'pandas.core.frame.DataFrame'>\n",
            "RangeIndex: 5681 entries, 0 to 5680\n",
            "Data columns (total 11 columns):\n",
            " #   Column                     Non-Null Count  Dtype  \n",
            "---  ------                     --------------  -----  \n",
            " 0   Item_Identifier            5681 non-null   object \n",
            " 1   Item_Weight                4705 non-null   float64\n",
            " 2   Item_Fat_Content           5681 non-null   object \n",
            " 3   Item_Visibility            5681 non-null   float64\n",
            " 4   Item_Type                  5681 non-null   object \n",
            " 5   Item_MRP                   5681 non-null   float64\n",
            " 6   Outlet_Identifier          5681 non-null   object \n",
            " 7   Outlet_Establishment_Year  5681 non-null   int64  \n",
            " 8   Outlet_Size                4075 non-null   object \n",
            " 9   Outlet_Location_Type       5681 non-null   object \n",
            " 10  Outlet_Type                5681 non-null   object \n",
            "dtypes: float64(3), int64(1), object(7)\n",
            "memory usage: 488.3+ KB\n"
          ]
        }
      ]
    },
    {
      "cell_type": "markdown",
      "source": [
        "There are 5681 entries, ranges from 0 to 5680 Data columns (total 11 columns) dtypes is float64(3), int64(1), object(7) in test dataset. I will convert the \"Object\" to \"Categorical\" for proper data cleaning order."
      ],
      "metadata": {
        "id": "ch_3XEjcMCV1"
      },
      "id": "ch_3XEjcMCV1"
    },
    {
      "cell_type": "markdown",
      "source": [
        "# Task 12"
      ],
      "metadata": {
        "id": "MqKx6SEsSOus"
      },
      "id": "MqKx6SEsSOus"
    },
    {
      "cell_type": "markdown",
      "source": [
        "#To get the full descriptive statistics chart table for train dataset with missing values"
      ],
      "metadata": {
        "id": "pRxK37BiL4NR"
      },
      "id": "pRxK37BiL4NR"
    },
    {
      "cell_type": "code",
      "execution_count": null,
      "metadata": {
        "colab": {
          "base_uri": "https://localhost:8080/",
          "height": 291
        },
        "id": "fBNESO8c6PmA",
        "outputId": "0dd4d5f2-a003-4b3b-bf5c-312453cd3fe1"
      },
      "outputs": [
        {
          "output_type": "execute_result",
          "data": {
            "text/plain": [
              "       Item_Weight  Item_Visibility     Item_MRP  Outlet_Establishment_Year  \\\n",
              "count  7060.000000      8523.000000  8523.000000                8523.000000   \n",
              "mean     12.857645         0.066132   140.992782                1997.831867   \n",
              "std       4.643456         0.051598    62.275067                   8.371760   \n",
              "min       4.555000         0.000000    31.290000                1985.000000   \n",
              "25%       8.773750         0.026989    93.826500                1987.000000   \n",
              "50%      12.600000         0.053931   143.012800                1999.000000   \n",
              "75%      16.850000         0.094585   185.643700                2004.000000   \n",
              "max      21.350000         0.328391   266.888400                2009.000000   \n",
              "\n",
              "       Item_Outlet_Sales  \n",
              "count        8523.000000  \n",
              "mean         2181.288914  \n",
              "std          1706.499616  \n",
              "min            33.290000  \n",
              "25%           834.247400  \n",
              "50%          1794.331000  \n",
              "75%          3101.296400  \n",
              "max         13086.964800  "
            ],
            "text/html": [
              "\n",
              "  <div id=\"df-1b1a0688-9221-481f-b6f9-8b12873c6733\" class=\"colab-df-container\">\n",
              "    <div>\n",
              "<style scoped>\n",
              "    .dataframe tbody tr th:only-of-type {\n",
              "        vertical-align: middle;\n",
              "    }\n",
              "\n",
              "    .dataframe tbody tr th {\n",
              "        vertical-align: top;\n",
              "    }\n",
              "\n",
              "    .dataframe thead th {\n",
              "        text-align: right;\n",
              "    }\n",
              "</style>\n",
              "<table border=\"1\" class=\"dataframe\">\n",
              "  <thead>\n",
              "    <tr style=\"text-align: right;\">\n",
              "      <th></th>\n",
              "      <th>Item_Weight</th>\n",
              "      <th>Item_Visibility</th>\n",
              "      <th>Item_MRP</th>\n",
              "      <th>Outlet_Establishment_Year</th>\n",
              "      <th>Item_Outlet_Sales</th>\n",
              "    </tr>\n",
              "  </thead>\n",
              "  <tbody>\n",
              "    <tr>\n",
              "      <th>count</th>\n",
              "      <td>7060.000000</td>\n",
              "      <td>8523.000000</td>\n",
              "      <td>8523.000000</td>\n",
              "      <td>8523.000000</td>\n",
              "      <td>8523.000000</td>\n",
              "    </tr>\n",
              "    <tr>\n",
              "      <th>mean</th>\n",
              "      <td>12.857645</td>\n",
              "      <td>0.066132</td>\n",
              "      <td>140.992782</td>\n",
              "      <td>1997.831867</td>\n",
              "      <td>2181.288914</td>\n",
              "    </tr>\n",
              "    <tr>\n",
              "      <th>std</th>\n",
              "      <td>4.643456</td>\n",
              "      <td>0.051598</td>\n",
              "      <td>62.275067</td>\n",
              "      <td>8.371760</td>\n",
              "      <td>1706.499616</td>\n",
              "    </tr>\n",
              "    <tr>\n",
              "      <th>min</th>\n",
              "      <td>4.555000</td>\n",
              "      <td>0.000000</td>\n",
              "      <td>31.290000</td>\n",
              "      <td>1985.000000</td>\n",
              "      <td>33.290000</td>\n",
              "    </tr>\n",
              "    <tr>\n",
              "      <th>25%</th>\n",
              "      <td>8.773750</td>\n",
              "      <td>0.026989</td>\n",
              "      <td>93.826500</td>\n",
              "      <td>1987.000000</td>\n",
              "      <td>834.247400</td>\n",
              "    </tr>\n",
              "    <tr>\n",
              "      <th>50%</th>\n",
              "      <td>12.600000</td>\n",
              "      <td>0.053931</td>\n",
              "      <td>143.012800</td>\n",
              "      <td>1999.000000</td>\n",
              "      <td>1794.331000</td>\n",
              "    </tr>\n",
              "    <tr>\n",
              "      <th>75%</th>\n",
              "      <td>16.850000</td>\n",
              "      <td>0.094585</td>\n",
              "      <td>185.643700</td>\n",
              "      <td>2004.000000</td>\n",
              "      <td>3101.296400</td>\n",
              "    </tr>\n",
              "    <tr>\n",
              "      <th>max</th>\n",
              "      <td>21.350000</td>\n",
              "      <td>0.328391</td>\n",
              "      <td>266.888400</td>\n",
              "      <td>2009.000000</td>\n",
              "      <td>13086.964800</td>\n",
              "    </tr>\n",
              "  </tbody>\n",
              "</table>\n",
              "</div>\n",
              "    <div class=\"colab-df-buttons\">\n",
              "\n",
              "  <div class=\"colab-df-container\">\n",
              "    <button class=\"colab-df-convert\" onclick=\"convertToInteractive('df-1b1a0688-9221-481f-b6f9-8b12873c6733')\"\n",
              "            title=\"Convert this dataframe to an interactive table.\"\n",
              "            style=\"display:none;\">\n",
              "\n",
              "  <svg xmlns=\"http://www.w3.org/2000/svg\" height=\"24px\" viewBox=\"0 -960 960 960\">\n",
              "    <path d=\"M120-120v-720h720v720H120Zm60-500h600v-160H180v160Zm220 220h160v-160H400v160Zm0 220h160v-160H400v160ZM180-400h160v-160H180v160Zm440 0h160v-160H620v160ZM180-180h160v-160H180v160Zm440 0h160v-160H620v160Z\"/>\n",
              "  </svg>\n",
              "    </button>\n",
              "\n",
              "  <style>\n",
              "    .colab-df-container {\n",
              "      display:flex;\n",
              "      gap: 12px;\n",
              "    }\n",
              "\n",
              "    .colab-df-convert {\n",
              "      background-color: #E8F0FE;\n",
              "      border: none;\n",
              "      border-radius: 50%;\n",
              "      cursor: pointer;\n",
              "      display: none;\n",
              "      fill: #1967D2;\n",
              "      height: 32px;\n",
              "      padding: 0 0 0 0;\n",
              "      width: 32px;\n",
              "    }\n",
              "\n",
              "    .colab-df-convert:hover {\n",
              "      background-color: #E2EBFA;\n",
              "      box-shadow: 0px 1px 2px rgba(60, 64, 67, 0.3), 0px 1px 3px 1px rgba(60, 64, 67, 0.15);\n",
              "      fill: #174EA6;\n",
              "    }\n",
              "\n",
              "    .colab-df-buttons div {\n",
              "      margin-bottom: 4px;\n",
              "    }\n",
              "\n",
              "    [theme=dark] .colab-df-convert {\n",
              "      background-color: #3B4455;\n",
              "      fill: #D2E3FC;\n",
              "    }\n",
              "\n",
              "    [theme=dark] .colab-df-convert:hover {\n",
              "      background-color: #434B5C;\n",
              "      box-shadow: 0px 1px 3px 1px rgba(0, 0, 0, 0.15);\n",
              "      filter: drop-shadow(0px 1px 2px rgba(0, 0, 0, 0.3));\n",
              "      fill: #FFFFFF;\n",
              "    }\n",
              "  </style>\n",
              "\n",
              "    <script>\n",
              "      const buttonEl =\n",
              "        document.querySelector('#df-1b1a0688-9221-481f-b6f9-8b12873c6733 button.colab-df-convert');\n",
              "      buttonEl.style.display =\n",
              "        google.colab.kernel.accessAllowed ? 'block' : 'none';\n",
              "\n",
              "      async function convertToInteractive(key) {\n",
              "        const element = document.querySelector('#df-1b1a0688-9221-481f-b6f9-8b12873c6733');\n",
              "        const dataTable =\n",
              "          await google.colab.kernel.invokeFunction('convertToInteractive',\n",
              "                                                    [key], {});\n",
              "        if (!dataTable) return;\n",
              "\n",
              "        const docLinkHtml = 'Like what you see? Visit the ' +\n",
              "          '<a target=\"_blank\" href=https://colab.research.google.com/notebooks/data_table.ipynb>data table notebook</a>'\n",
              "          + ' to learn more about interactive tables.';\n",
              "        element.innerHTML = '';\n",
              "        dataTable['output_type'] = 'display_data';\n",
              "        await google.colab.output.renderOutput(dataTable, element);\n",
              "        const docLink = document.createElement('div');\n",
              "        docLink.innerHTML = docLinkHtml;\n",
              "        element.appendChild(docLink);\n",
              "      }\n",
              "    </script>\n",
              "  </div>\n",
              "\n",
              "\n",
              "<div id=\"df-04b1f043-2295-4d04-b3d4-cb078e5abdb2\">\n",
              "  <button class=\"colab-df-quickchart\" onclick=\"quickchart('df-04b1f043-2295-4d04-b3d4-cb078e5abdb2')\"\n",
              "            title=\"Suggest charts\"\n",
              "            style=\"display:none;\">\n",
              "\n",
              "<svg xmlns=\"http://www.w3.org/2000/svg\" height=\"24px\"viewBox=\"0 0 24 24\"\n",
              "     width=\"24px\">\n",
              "    <g>\n",
              "        <path d=\"M19 3H5c-1.1 0-2 .9-2 2v14c0 1.1.9 2 2 2h14c1.1 0 2-.9 2-2V5c0-1.1-.9-2-2-2zM9 17H7v-7h2v7zm4 0h-2V7h2v10zm4 0h-2v-4h2v4z\"/>\n",
              "    </g>\n",
              "</svg>\n",
              "  </button>\n",
              "\n",
              "<style>\n",
              "  .colab-df-quickchart {\n",
              "      --bg-color: #E8F0FE;\n",
              "      --fill-color: #1967D2;\n",
              "      --hover-bg-color: #E2EBFA;\n",
              "      --hover-fill-color: #174EA6;\n",
              "      --disabled-fill-color: #AAA;\n",
              "      --disabled-bg-color: #DDD;\n",
              "  }\n",
              "\n",
              "  [theme=dark] .colab-df-quickchart {\n",
              "      --bg-color: #3B4455;\n",
              "      --fill-color: #D2E3FC;\n",
              "      --hover-bg-color: #434B5C;\n",
              "      --hover-fill-color: #FFFFFF;\n",
              "      --disabled-bg-color: #3B4455;\n",
              "      --disabled-fill-color: #666;\n",
              "  }\n",
              "\n",
              "  .colab-df-quickchart {\n",
              "    background-color: var(--bg-color);\n",
              "    border: none;\n",
              "    border-radius: 50%;\n",
              "    cursor: pointer;\n",
              "    display: none;\n",
              "    fill: var(--fill-color);\n",
              "    height: 32px;\n",
              "    padding: 0;\n",
              "    width: 32px;\n",
              "  }\n",
              "\n",
              "  .colab-df-quickchart:hover {\n",
              "    background-color: var(--hover-bg-color);\n",
              "    box-shadow: 0 1px 2px rgba(60, 64, 67, 0.3), 0 1px 3px 1px rgba(60, 64, 67, 0.15);\n",
              "    fill: var(--button-hover-fill-color);\n",
              "  }\n",
              "\n",
              "  .colab-df-quickchart-complete:disabled,\n",
              "  .colab-df-quickchart-complete:disabled:hover {\n",
              "    background-color: var(--disabled-bg-color);\n",
              "    fill: var(--disabled-fill-color);\n",
              "    box-shadow: none;\n",
              "  }\n",
              "\n",
              "  .colab-df-spinner {\n",
              "    border: 2px solid var(--fill-color);\n",
              "    border-color: transparent;\n",
              "    border-bottom-color: var(--fill-color);\n",
              "    animation:\n",
              "      spin 1s steps(1) infinite;\n",
              "  }\n",
              "\n",
              "  @keyframes spin {\n",
              "    0% {\n",
              "      border-color: transparent;\n",
              "      border-bottom-color: var(--fill-color);\n",
              "      border-left-color: var(--fill-color);\n",
              "    }\n",
              "    20% {\n",
              "      border-color: transparent;\n",
              "      border-left-color: var(--fill-color);\n",
              "      border-top-color: var(--fill-color);\n",
              "    }\n",
              "    30% {\n",
              "      border-color: transparent;\n",
              "      border-left-color: var(--fill-color);\n",
              "      border-top-color: var(--fill-color);\n",
              "      border-right-color: var(--fill-color);\n",
              "    }\n",
              "    40% {\n",
              "      border-color: transparent;\n",
              "      border-right-color: var(--fill-color);\n",
              "      border-top-color: var(--fill-color);\n",
              "    }\n",
              "    60% {\n",
              "      border-color: transparent;\n",
              "      border-right-color: var(--fill-color);\n",
              "    }\n",
              "    80% {\n",
              "      border-color: transparent;\n",
              "      border-right-color: var(--fill-color);\n",
              "      border-bottom-color: var(--fill-color);\n",
              "    }\n",
              "    90% {\n",
              "      border-color: transparent;\n",
              "      border-bottom-color: var(--fill-color);\n",
              "    }\n",
              "  }\n",
              "</style>\n",
              "\n",
              "  <script>\n",
              "    async function quickchart(key) {\n",
              "      const quickchartButtonEl =\n",
              "        document.querySelector('#' + key + ' button');\n",
              "      quickchartButtonEl.disabled = true;  // To prevent multiple clicks.\n",
              "      quickchartButtonEl.classList.add('colab-df-spinner');\n",
              "      try {\n",
              "        const charts = await google.colab.kernel.invokeFunction(\n",
              "            'suggestCharts', [key], {});\n",
              "      } catch (error) {\n",
              "        console.error('Error during call to suggestCharts:', error);\n",
              "      }\n",
              "      quickchartButtonEl.classList.remove('colab-df-spinner');\n",
              "      quickchartButtonEl.classList.add('colab-df-quickchart-complete');\n",
              "    }\n",
              "    (() => {\n",
              "      let quickchartButtonEl =\n",
              "        document.querySelector('#df-04b1f043-2295-4d04-b3d4-cb078e5abdb2 button');\n",
              "      quickchartButtonEl.style.display =\n",
              "        google.colab.kernel.accessAllowed ? 'block' : 'none';\n",
              "    })();\n",
              "  </script>\n",
              "</div>\n",
              "    </div>\n",
              "  </div>\n"
            ]
          },
          "metadata": {},
          "execution_count": 13
        }
      ],
      "source": [
        "df_train.describe()"
      ],
      "id": "fBNESO8c6PmA"
    },
    {
      "cell_type": "markdown",
      "source": [
        "We can see that max of Item_Visibility is 0.328391 and the min is 0.000000, total count is 7060.000000.\n",
        " Max of Item_Weight is 21.350000 and the min is 4.555000, total count is 8523.000000.\n",
        " Max of Item_MRP is 266.888400 and the min is 31.290000, total count is 8523.000000.\n",
        "  Max of Outlet_Establishment_Year is 2009.000000 and the min is 1985.000000, total count is 8523.000000.\n",
        "  Max of Item_Outlet_Sales is 13086.964800 and the min is 33.290000, total count is 8523.000000. And many more informations can be gotten from the chart."
      ],
      "metadata": {
        "id": "wK_KBxQANNGC"
      },
      "id": "wK_KBxQANNGC"
    },
    {
      "cell_type": "markdown",
      "source": [
        "# Task 13"
      ],
      "metadata": {
        "id": "XQebn6w0SUq3"
      },
      "id": "XQebn6w0SUq3"
    },
    {
      "cell_type": "markdown",
      "source": [
        "# To clean the data, i have to display the missing values colums for train dataset"
      ],
      "metadata": {
        "id": "T1CFGTXNMAsI"
      },
      "id": "T1CFGTXNMAsI"
    },
    {
      "cell_type": "code",
      "source": [
        "df_train.isnull().sum()"
      ],
      "metadata": {
        "colab": {
          "base_uri": "https://localhost:8080/"
        },
        "id": "sKzre9T_RIjD",
        "outputId": "ee4ae607-e7cd-4077-9873-23f4b1c1f0ca"
      },
      "id": "sKzre9T_RIjD",
      "execution_count": null,
      "outputs": [
        {
          "output_type": "execute_result",
          "data": {
            "text/plain": [
              "Item_Identifier                 0\n",
              "Item_Weight                  1463\n",
              "Item_Fat_Content                0\n",
              "Item_Visibility                 0\n",
              "Item_Type                       0\n",
              "Item_MRP                        0\n",
              "Outlet_Identifier               0\n",
              "Outlet_Establishment_Year       0\n",
              "Outlet_Size                  2410\n",
              "Outlet_Location_Type            0\n",
              "Outlet_Type                     0\n",
              "Item_Outlet_Sales               0\n",
              "dtype: int64"
            ]
          },
          "metadata": {},
          "execution_count": 15
        }
      ]
    },
    {
      "cell_type": "markdown",
      "source": [
        "Item_Weight and Outlet_Size colums contains missing values\n"
      ],
      "metadata": {
        "id": "s4JdQfMjR1co"
      },
      "id": "s4JdQfMjR1co"
    },
    {
      "cell_type": "markdown",
      "source": [
        "# Task 14"
      ],
      "metadata": {
        "id": "QdNyEAORSzN7"
      },
      "id": "QdNyEAORSzN7"
    },
    {
      "cell_type": "markdown",
      "source": [
        "# Descripyive analysis of 'Item_Weight', to get insights from the data, most important is to get the mean value of 'Item_Weight' so that we can use it to fill the missing value in 'Item_Weight' colum"
      ],
      "metadata": {
        "id": "wwUsTHShMIbC"
      },
      "id": "wwUsTHShMIbC"
    },
    {
      "cell_type": "code",
      "execution_count": null,
      "metadata": {
        "colab": {
          "base_uri": "https://localhost:8080/"
        },
        "id": "akOlV_be6PmG",
        "outputId": "02f21f79-0e78-41ff-9b31-80a18e8456f3"
      },
      "outputs": [
        {
          "output_type": "execute_result",
          "data": {
            "text/plain": [
              "count    7060.000000\n",
              "mean       12.857645\n",
              "std         4.643456\n",
              "min         4.555000\n",
              "25%         8.773750\n",
              "50%        12.600000\n",
              "75%        16.850000\n",
              "max        21.350000\n",
              "Name: Item_Weight, dtype: float64"
            ]
          },
          "metadata": {},
          "execution_count": 16
        }
      ],
      "source": [
        "df_train['Item_Weight'].describe()"
      ],
      "id": "akOlV_be6PmG"
    },
    {
      "cell_type": "markdown",
      "source": [
        "Item_Weight is numerical column so i fill it with Mean Imputation.\n",
        "To remove null values in Item_Weight by computing the mean value of the column since Item_Weight is an numerical values"
      ],
      "metadata": {
        "id": "hAu9NnePTTDa"
      },
      "id": "hAu9NnePTTDa"
    },
    {
      "cell_type": "markdown",
      "source": [
        "# Task 15"
      ],
      "metadata": {
        "id": "H7HNtKOBS8g-"
      },
      "id": "H7HNtKOBS8g-"
    },
    {
      "cell_type": "markdown",
      "source": [
        "# Computing mean value Item_Weight to the missing values in train and test datasets"
      ],
      "metadata": {
        "id": "HnJGCLodM7AH"
      },
      "id": "HnJGCLodM7AH"
    },
    {
      "cell_type": "code",
      "execution_count": null,
      "metadata": {
        "id": "VTrSfuBc6PmH"
      },
      "outputs": [],
      "source": [
        "df_train['Item_Weight'].fillna(df_train['Item_Weight'].mean(),inplace=True)\n",
        "df_test['Item_Weight'].fillna(df_test['Item_Weight'].mean(),inplace=True)"
      ],
      "id": "VTrSfuBc6PmH"
    },
    {
      "cell_type": "markdown",
      "source": [
        "# Task 16"
      ],
      "metadata": {
        "id": "cNcNBSsxTItc"
      },
      "id": "cNcNBSsxTItc"
    },
    {
      "cell_type": "markdown",
      "source": [
        "# To check for null values in Item_Weight for train dataset"
      ],
      "metadata": {
        "id": "Hi2XEJdwNJlZ"
      },
      "id": "Hi2XEJdwNJlZ"
    },
    {
      "cell_type": "code",
      "execution_count": null,
      "metadata": {
        "id": "CGayAM1J6PmI",
        "outputId": "d183853e-dcb8-44f7-85dd-bc90878895ec",
        "colab": {
          "base_uri": "https://localhost:8080/"
        }
      },
      "outputs": [
        {
          "output_type": "execute_result",
          "data": {
            "text/plain": [
              "Item_Identifier                 0\n",
              "Item_Weight                     0\n",
              "Item_Fat_Content                0\n",
              "Item_Visibility                 0\n",
              "Item_Type                       0\n",
              "Item_MRP                        0\n",
              "Outlet_Identifier               0\n",
              "Outlet_Establishment_Year       0\n",
              "Outlet_Size                  2410\n",
              "Outlet_Location_Type            0\n",
              "Outlet_Type                     0\n",
              "Item_Outlet_Sales               0\n",
              "dtype: int64"
            ]
          },
          "metadata": {},
          "execution_count": 20
        }
      ],
      "source": [
        "df_train.isnull().sum()"
      ],
      "id": "CGayAM1J6PmI"
    },
    {
      "cell_type": "markdown",
      "source": [
        "we can observe that the missing values in 'Item_Weight' colum have been replaced with the mean value of 'Item_Weight'"
      ],
      "metadata": {
        "id": "PbYtD84GUYxX"
      },
      "id": "PbYtD84GUYxX"
    },
    {
      "cell_type": "markdown",
      "source": [
        "# Task 17"
      ],
      "metadata": {
        "id": "ngoKbau4TSFl"
      },
      "id": "ngoKbau4TSFl"
    },
    {
      "cell_type": "markdown",
      "source": [
        "#To check for null values in Item_Weight for test dataset"
      ],
      "metadata": {
        "id": "BDYlQiUCNZz6"
      },
      "id": "BDYlQiUCNZz6"
    },
    {
      "cell_type": "code",
      "source": [
        "df_test.isnull().sum()"
      ],
      "metadata": {
        "colab": {
          "base_uri": "https://localhost:8080/"
        },
        "id": "Bbs9QCjADEh0",
        "outputId": "54ae41a0-6279-4dc2-f9fa-5649c24275d6"
      },
      "id": "Bbs9QCjADEh0",
      "execution_count": null,
      "outputs": [
        {
          "output_type": "execute_result",
          "data": {
            "text/plain": [
              "Item_Identifier                 0\n",
              "Item_Weight                     0\n",
              "Item_Fat_Content                0\n",
              "Item_Visibility                 0\n",
              "Item_Type                       0\n",
              "Item_MRP                        0\n",
              "Outlet_Identifier               0\n",
              "Outlet_Establishment_Year       0\n",
              "Outlet_Size                  1606\n",
              "Outlet_Location_Type            0\n",
              "Outlet_Type                     0\n",
              "dtype: int64"
            ]
          },
          "metadata": {},
          "execution_count": 21
        }
      ]
    },
    {
      "cell_type": "markdown",
      "source": [
        "We can observe that all the missing values in Item_Weight colum in test dataset have been replaced with the mean of Item_Weight"
      ],
      "metadata": {
        "id": "DuUQc41IUj6x"
      },
      "id": "DuUQc41IUj6x"
    },
    {
      "cell_type": "markdown",
      "source": [
        "# Task 18"
      ],
      "metadata": {
        "id": "GqU4w6roTXit"
      },
      "id": "GqU4w6roTXit"
    },
    {
      "cell_type": "markdown",
      "source": [
        "#Descripyive analysis of 'Item_Weight', to get insights from the data."
      ],
      "metadata": {
        "id": "22ISS_BpOaNL"
      },
      "id": "22ISS_BpOaNL"
    },
    {
      "cell_type": "code",
      "execution_count": null,
      "metadata": {
        "colab": {
          "base_uri": "https://localhost:8080/"
        },
        "id": "XXQAeQu56PmJ",
        "outputId": "21e6d9a0-b19f-4817-e082-506b0d0c01f8"
      },
      "outputs": [
        {
          "output_type": "execute_result",
          "data": {
            "text/plain": [
              "count    8523.000000\n",
              "mean       12.857645\n",
              "std         4.226124\n",
              "min         4.555000\n",
              "25%         9.310000\n",
              "50%        12.857645\n",
              "75%        16.000000\n",
              "max        21.350000\n",
              "Name: Item_Weight, dtype: float64"
            ]
          },
          "metadata": {},
          "execution_count": 22
        }
      ],
      "source": [
        "df_train['Item_Weight'].describe()"
      ],
      "id": "XXQAeQu56PmJ"
    },
    {
      "cell_type": "markdown",
      "source": [
        "We can see that the total count of Item_Weight has increase due to replacement of the missing values.  "
      ],
      "metadata": {
        "id": "ls428lApVfpj"
      },
      "id": "ls428lApVfpj"
    },
    {
      "cell_type": "markdown",
      "source": [
        "#Outlet_Size colum contain missing values\n"
      ],
      "metadata": {
        "id": "RZwF4HiUWfkh"
      },
      "id": "RZwF4HiUWfkh"
    },
    {
      "cell_type": "markdown",
      "source": [
        "# Task 19"
      ],
      "metadata": {
        "id": "4_pNuINuTi0K"
      },
      "id": "4_pNuINuTi0K"
    },
    {
      "cell_type": "markdown",
      "source": [
        "#Descripyive analysis of 'Outlet_Size', to get insights from the data, most important is to get the mode value of 'Outlet_Size' so that we can use it to fill the missing value in 'Outlet_Size' colum"
      ],
      "metadata": {
        "id": "NXLBJslyOuw7"
      },
      "id": "NXLBJslyOuw7"
    },
    {
      "cell_type": "code",
      "execution_count": null,
      "metadata": {
        "colab": {
          "base_uri": "https://localhost:8080/"
        },
        "id": "kvxfS3IW6PmM",
        "outputId": "dddd398e-e0b0-4b5f-e30f-f474a525bcc6"
      },
      "outputs": [
        {
          "output_type": "execute_result",
          "data": {
            "text/plain": [
              "Medium    2793\n",
              "Small     2388\n",
              "High       932\n",
              "Name: Outlet_Size, dtype: int64"
            ]
          },
          "metadata": {},
          "execution_count": 23
        }
      ],
      "source": [
        "df_train['Outlet_Size'].value_counts()"
      ],
      "id": "kvxfS3IW6PmM"
    },
    {
      "cell_type": "markdown",
      "source": [
        "The most occuring number is 'Medium ', we will use it to fill the missing values of 'Outlet_Size' colum in train data"
      ],
      "metadata": {
        "id": "NsvOk0JNPJQ6"
      },
      "id": "NsvOk0JNPJQ6"
    },
    {
      "cell_type": "markdown",
      "source": [
        "# Task 20"
      ],
      "metadata": {
        "id": "cfdQsI7QTpAt"
      },
      "id": "cfdQsI7QTpAt"
    },
    {
      "cell_type": "markdown",
      "source": [
        "#Descripyive analysis of 'Outlet_Size', to get insights from the data, most important is to get the mode value of 'Outlet_Size' so that we can use it to fill the missing value in 'Outlet_Size' colum for test data"
      ],
      "metadata": {
        "id": "uyaPY9xmuDOj"
      },
      "id": "uyaPY9xmuDOj"
    },
    {
      "cell_type": "code",
      "source": [
        "df_test['Outlet_Size'].value_counts()"
      ],
      "metadata": {
        "colab": {
          "base_uri": "https://localhost:8080/"
        },
        "id": "5Ux27qZZEPEr",
        "outputId": "6c0a4f95-c37a-4fbd-823e-afa20a6a2a7b"
      },
      "id": "5Ux27qZZEPEr",
      "execution_count": null,
      "outputs": [
        {
          "output_type": "execute_result",
          "data": {
            "text/plain": [
              "Medium    1862\n",
              "Small     1592\n",
              "High       621\n",
              "Name: Outlet_Size, dtype: int64"
            ]
          },
          "metadata": {},
          "execution_count": 24
        }
      ]
    },
    {
      "cell_type": "markdown",
      "source": [
        "The most occuring number is 'Medium ', we will use it to fill the missing values of 'Outlet_Size' colum in test data"
      ],
      "metadata": {
        "id": "rOD8GWiFPrZi"
      },
      "id": "rOD8GWiFPrZi"
    },
    {
      "cell_type": "markdown",
      "source": [
        "#Outlet_Size is catagorical column so we fill it with Mode Imputation"
      ],
      "metadata": {
        "id": "CWiOZK1QXD3r"
      },
      "id": "CWiOZK1QXD3r"
    },
    {
      "cell_type": "markdown",
      "source": [
        "# Task 21"
      ],
      "metadata": {
        "id": "X33cE_AMT46_"
      },
      "id": "X33cE_AMT46_"
    },
    {
      "cell_type": "markdown",
      "source": [
        "## mode inputation on Outlet_Size colum to replace missing for train data"
      ],
      "metadata": {
        "id": "-vow5capP804"
      },
      "id": "-vow5capP804"
    },
    {
      "cell_type": "code",
      "execution_count": null,
      "metadata": {
        "colab": {
          "base_uri": "https://localhost:8080/"
        },
        "id": "c3EL9B-o6PmN",
        "outputId": "eb83683b-ae59-430e-9770-94e80c2c777a"
      },
      "outputs": [
        {
          "output_type": "execute_result",
          "data": {
            "text/plain": [
              "0    Medium\n",
              "Name: Outlet_Size, dtype: object"
            ]
          },
          "metadata": {},
          "execution_count": 27
        }
      ],
      "source": [
        "df_train['Outlet_Size'].mode()"
      ],
      "id": "c3EL9B-o6PmN"
    },
    {
      "cell_type": "markdown",
      "source": [
        "The mode is 'Medium'"
      ],
      "metadata": {
        "id": "UHb4IWe9Qcbi"
      },
      "id": "UHb4IWe9Qcbi"
    },
    {
      "cell_type": "markdown",
      "source": [
        "#Task 22"
      ],
      "metadata": {
        "id": "tG8FTI-PT8xg"
      },
      "id": "tG8FTI-PT8xg"
    },
    {
      "cell_type": "markdown",
      "source": [
        "# mode inputation on Outlet_Size colum to replace missing for test data"
      ],
      "metadata": {
        "id": "E2hz8RfoQONs"
      },
      "id": "E2hz8RfoQONs"
    },
    {
      "cell_type": "code",
      "source": [
        "df_test['Outlet_Size'].mode()"
      ],
      "metadata": {
        "colab": {
          "base_uri": "https://localhost:8080/"
        },
        "id": "eAZoT7YQEfpX",
        "outputId": "8d1d6c03-b592-44db-f536-2a1925fc003d"
      },
      "id": "eAZoT7YQEfpX",
      "execution_count": null,
      "outputs": [
        {
          "output_type": "execute_result",
          "data": {
            "text/plain": [
              "0    Medium\n",
              "Name: Outlet_Size, dtype: object"
            ]
          },
          "metadata": {},
          "execution_count": 28
        }
      ]
    },
    {
      "cell_type": "markdown",
      "source": [
        "The mode is 'Medium'"
      ],
      "metadata": {
        "id": "IBrO1a1uQu84"
      },
      "id": "IBrO1a1uQu84"
    },
    {
      "cell_type": "markdown",
      "source": [
        "# Task 23"
      ],
      "metadata": {
        "id": "22C8a5Z4UCbL"
      },
      "id": "22C8a5Z4UCbL"
    },
    {
      "cell_type": "markdown",
      "source": [
        "# inserting the mode for train and test datasets"
      ],
      "metadata": {
        "id": "UvPqfFaiQ119"
      },
      "id": "UvPqfFaiQ119"
    },
    {
      "cell_type": "code",
      "execution_count": null,
      "metadata": {
        "id": "OJq6gSdo6PmP"
      },
      "outputs": [],
      "source": [
        "df_train['Outlet_Size'].fillna(df_train['Outlet_Size'].mode()[0],inplace=True)\n",
        "df_test['Outlet_Size'].fillna(df_test['Outlet_Size'].mode()[0],inplace=True)"
      ],
      "id": "OJq6gSdo6PmP"
    },
    {
      "cell_type": "markdown",
      "source": [
        "# Task 24"
      ],
      "metadata": {
        "id": "fSwo05TAUHM6"
      },
      "id": "fSwo05TAUHM6"
    },
    {
      "cell_type": "markdown",
      "source": [
        "# checking for null value for train data"
      ],
      "metadata": {
        "id": "MtkPXBJwQ-mH"
      },
      "id": "MtkPXBJwQ-mH"
    },
    {
      "cell_type": "code",
      "execution_count": null,
      "metadata": {
        "colab": {
          "base_uri": "https://localhost:8080/"
        },
        "id": "pBSZ3IO56PmQ",
        "outputId": "87ba7ab8-c054-4e5a-914c-0295cdfce155"
      },
      "outputs": [
        {
          "output_type": "execute_result",
          "data": {
            "text/plain": [
              "Item_Identifier              0\n",
              "Item_Weight                  0\n",
              "Item_Fat_Content             0\n",
              "Item_Visibility              0\n",
              "Item_Type                    0\n",
              "Item_MRP                     0\n",
              "Outlet_Identifier            0\n",
              "Outlet_Establishment_Year    0\n",
              "Outlet_Size                  0\n",
              "Outlet_Location_Type         0\n",
              "Outlet_Type                  0\n",
              "Item_Outlet_Sales            0\n",
              "dtype: int64"
            ]
          },
          "metadata": {},
          "execution_count": 30
        }
      ],
      "source": [
        "df_train.isnull().sum()"
      ],
      "id": "pBSZ3IO56PmQ"
    },
    {
      "cell_type": "markdown",
      "source": [
        "No null or missing value in train data"
      ],
      "metadata": {
        "id": "-d-bnhukRKtq"
      },
      "id": "-d-bnhukRKtq"
    },
    {
      "cell_type": "markdown",
      "source": [
        "# Task 25"
      ],
      "metadata": {
        "id": "KQU7h8TeUOg6"
      },
      "id": "KQU7h8TeUOg6"
    },
    {
      "cell_type": "markdown",
      "source": [
        "# checking for null value for test data"
      ],
      "metadata": {
        "id": "BbC4Oyk9RV6J"
      },
      "id": "BbC4Oyk9RV6J"
    },
    {
      "cell_type": "code",
      "execution_count": null,
      "metadata": {
        "colab": {
          "base_uri": "https://localhost:8080/"
        },
        "id": "6gb-Kdg46PmR",
        "outputId": "b69ad43b-8645-4b2a-d071-b21db1cb7e23"
      },
      "outputs": [
        {
          "output_type": "execute_result",
          "data": {
            "text/plain": [
              "Item_Identifier              0\n",
              "Item_Weight                  0\n",
              "Item_Fat_Content             0\n",
              "Item_Visibility              0\n",
              "Item_Type                    0\n",
              "Item_MRP                     0\n",
              "Outlet_Identifier            0\n",
              "Outlet_Establishment_Year    0\n",
              "Outlet_Size                  0\n",
              "Outlet_Location_Type         0\n",
              "Outlet_Type                  0\n",
              "dtype: int64"
            ]
          },
          "metadata": {},
          "execution_count": 31
        }
      ],
      "source": [
        "df_test.isnull().sum()"
      ],
      "id": "6gb-Kdg46PmR"
    },
    {
      "cell_type": "markdown",
      "source": [
        "No null or missing value. We can see that our data is clean from missing values. All the missing values have been filled up for both train and test dataset"
      ],
      "metadata": {
        "id": "UnzRL1qtYPT6"
      },
      "id": "UnzRL1qtYPT6"
    },
    {
      "cell_type": "markdown",
      "source": [
        "# Task 26"
      ],
      "metadata": {
        "id": "Uwl_AV7MUVYW"
      },
      "id": "Uwl_AV7MUVYW"
    },
    {
      "cell_type": "markdown",
      "source": [
        "# Selecting features based on purpose or aim of the analysis, i have to drop Item_Identifier','Outlet_Identifier' colums because i don`t need them for my analysis"
      ],
      "metadata": {
        "id": "UMRw4Y2lRxrY"
      },
      "id": "UMRw4Y2lRxrY"
    },
    {
      "cell_type": "code",
      "execution_count": null,
      "metadata": {
        "id": "dXGqcFo16PmU"
      },
      "outputs": [],
      "source": [
        "df_train.drop(['Item_Identifier','Outlet_Identifier'],axis=1,inplace=True)\n",
        "df_test.drop(['Item_Identifier','Outlet_Identifier'],axis=1,inplace=True)"
      ],
      "id": "dXGqcFo16PmU"
    },
    {
      "cell_type": "code",
      "execution_count": null,
      "metadata": {
        "colab": {
          "base_uri": "https://localhost:8080/",
          "height": 411
        },
        "id": "TqKjcBta6PmV",
        "outputId": "6f2954b8-f5c2-4a6c-f46f-e3597bde4b6d"
      },
      "outputs": [
        {
          "output_type": "execute_result",
          "data": {
            "text/plain": [
              "      Item_Weight Item_Fat_Content  Item_Visibility              Item_Type  \\\n",
              "0           9.300          Low Fat         0.016047                  Dairy   \n",
              "1           5.920          Regular         0.019278            Soft Drinks   \n",
              "2          17.500          Low Fat         0.016760                   Meat   \n",
              "3          19.200          Regular         0.000000  Fruits and Vegetables   \n",
              "4           8.930          Low Fat         0.000000              Household   \n",
              "...           ...              ...              ...                    ...   \n",
              "8518        6.865          Low Fat         0.056783            Snack Foods   \n",
              "8519        8.380          Regular         0.046982           Baking Goods   \n",
              "8520       10.600          Low Fat         0.035186     Health and Hygiene   \n",
              "8521        7.210          Regular         0.145221            Snack Foods   \n",
              "8522       14.800          Low Fat         0.044878            Soft Drinks   \n",
              "\n",
              "      Item_MRP  Outlet_Establishment_Year Outlet_Size Outlet_Location_Type  \\\n",
              "0     249.8092                       1999      Medium               Tier 1   \n",
              "1      48.2692                       2009      Medium               Tier 3   \n",
              "2     141.6180                       1999      Medium               Tier 1   \n",
              "3     182.0950                       1998      Medium               Tier 3   \n",
              "4      53.8614                       1987        High               Tier 3   \n",
              "...        ...                        ...         ...                  ...   \n",
              "8518  214.5218                       1987        High               Tier 3   \n",
              "8519  108.1570                       2002      Medium               Tier 2   \n",
              "8520   85.1224                       2004       Small               Tier 2   \n",
              "8521  103.1332                       2009      Medium               Tier 3   \n",
              "8522   75.4670                       1997       Small               Tier 1   \n",
              "\n",
              "            Outlet_Type  Item_Outlet_Sales  \n",
              "0     Supermarket Type1          3735.1380  \n",
              "1     Supermarket Type2           443.4228  \n",
              "2     Supermarket Type1          2097.2700  \n",
              "3         Grocery Store           732.3800  \n",
              "4     Supermarket Type1           994.7052  \n",
              "...                 ...                ...  \n",
              "8518  Supermarket Type1          2778.3834  \n",
              "8519  Supermarket Type1           549.2850  \n",
              "8520  Supermarket Type1          1193.1136  \n",
              "8521  Supermarket Type2          1845.5976  \n",
              "8522  Supermarket Type1           765.6700  \n",
              "\n",
              "[8523 rows x 10 columns]"
            ],
            "text/html": [
              "\n",
              "  <div id=\"df-fb903589-834d-4cb1-bb35-46673698e9c7\" class=\"colab-df-container\">\n",
              "    <div>\n",
              "<style scoped>\n",
              "    .dataframe tbody tr th:only-of-type {\n",
              "        vertical-align: middle;\n",
              "    }\n",
              "\n",
              "    .dataframe tbody tr th {\n",
              "        vertical-align: top;\n",
              "    }\n",
              "\n",
              "    .dataframe thead th {\n",
              "        text-align: right;\n",
              "    }\n",
              "</style>\n",
              "<table border=\"1\" class=\"dataframe\">\n",
              "  <thead>\n",
              "    <tr style=\"text-align: right;\">\n",
              "      <th></th>\n",
              "      <th>Item_Weight</th>\n",
              "      <th>Item_Fat_Content</th>\n",
              "      <th>Item_Visibility</th>\n",
              "      <th>Item_Type</th>\n",
              "      <th>Item_MRP</th>\n",
              "      <th>Outlet_Establishment_Year</th>\n",
              "      <th>Outlet_Size</th>\n",
              "      <th>Outlet_Location_Type</th>\n",
              "      <th>Outlet_Type</th>\n",
              "      <th>Item_Outlet_Sales</th>\n",
              "    </tr>\n",
              "  </thead>\n",
              "  <tbody>\n",
              "    <tr>\n",
              "      <th>0</th>\n",
              "      <td>9.300</td>\n",
              "      <td>Low Fat</td>\n",
              "      <td>0.016047</td>\n",
              "      <td>Dairy</td>\n",
              "      <td>249.8092</td>\n",
              "      <td>1999</td>\n",
              "      <td>Medium</td>\n",
              "      <td>Tier 1</td>\n",
              "      <td>Supermarket Type1</td>\n",
              "      <td>3735.1380</td>\n",
              "    </tr>\n",
              "    <tr>\n",
              "      <th>1</th>\n",
              "      <td>5.920</td>\n",
              "      <td>Regular</td>\n",
              "      <td>0.019278</td>\n",
              "      <td>Soft Drinks</td>\n",
              "      <td>48.2692</td>\n",
              "      <td>2009</td>\n",
              "      <td>Medium</td>\n",
              "      <td>Tier 3</td>\n",
              "      <td>Supermarket Type2</td>\n",
              "      <td>443.4228</td>\n",
              "    </tr>\n",
              "    <tr>\n",
              "      <th>2</th>\n",
              "      <td>17.500</td>\n",
              "      <td>Low Fat</td>\n",
              "      <td>0.016760</td>\n",
              "      <td>Meat</td>\n",
              "      <td>141.6180</td>\n",
              "      <td>1999</td>\n",
              "      <td>Medium</td>\n",
              "      <td>Tier 1</td>\n",
              "      <td>Supermarket Type1</td>\n",
              "      <td>2097.2700</td>\n",
              "    </tr>\n",
              "    <tr>\n",
              "      <th>3</th>\n",
              "      <td>19.200</td>\n",
              "      <td>Regular</td>\n",
              "      <td>0.000000</td>\n",
              "      <td>Fruits and Vegetables</td>\n",
              "      <td>182.0950</td>\n",
              "      <td>1998</td>\n",
              "      <td>Medium</td>\n",
              "      <td>Tier 3</td>\n",
              "      <td>Grocery Store</td>\n",
              "      <td>732.3800</td>\n",
              "    </tr>\n",
              "    <tr>\n",
              "      <th>4</th>\n",
              "      <td>8.930</td>\n",
              "      <td>Low Fat</td>\n",
              "      <td>0.000000</td>\n",
              "      <td>Household</td>\n",
              "      <td>53.8614</td>\n",
              "      <td>1987</td>\n",
              "      <td>High</td>\n",
              "      <td>Tier 3</td>\n",
              "      <td>Supermarket Type1</td>\n",
              "      <td>994.7052</td>\n",
              "    </tr>\n",
              "    <tr>\n",
              "      <th>...</th>\n",
              "      <td>...</td>\n",
              "      <td>...</td>\n",
              "      <td>...</td>\n",
              "      <td>...</td>\n",
              "      <td>...</td>\n",
              "      <td>...</td>\n",
              "      <td>...</td>\n",
              "      <td>...</td>\n",
              "      <td>...</td>\n",
              "      <td>...</td>\n",
              "    </tr>\n",
              "    <tr>\n",
              "      <th>8518</th>\n",
              "      <td>6.865</td>\n",
              "      <td>Low Fat</td>\n",
              "      <td>0.056783</td>\n",
              "      <td>Snack Foods</td>\n",
              "      <td>214.5218</td>\n",
              "      <td>1987</td>\n",
              "      <td>High</td>\n",
              "      <td>Tier 3</td>\n",
              "      <td>Supermarket Type1</td>\n",
              "      <td>2778.3834</td>\n",
              "    </tr>\n",
              "    <tr>\n",
              "      <th>8519</th>\n",
              "      <td>8.380</td>\n",
              "      <td>Regular</td>\n",
              "      <td>0.046982</td>\n",
              "      <td>Baking Goods</td>\n",
              "      <td>108.1570</td>\n",
              "      <td>2002</td>\n",
              "      <td>Medium</td>\n",
              "      <td>Tier 2</td>\n",
              "      <td>Supermarket Type1</td>\n",
              "      <td>549.2850</td>\n",
              "    </tr>\n",
              "    <tr>\n",
              "      <th>8520</th>\n",
              "      <td>10.600</td>\n",
              "      <td>Low Fat</td>\n",
              "      <td>0.035186</td>\n",
              "      <td>Health and Hygiene</td>\n",
              "      <td>85.1224</td>\n",
              "      <td>2004</td>\n",
              "      <td>Small</td>\n",
              "      <td>Tier 2</td>\n",
              "      <td>Supermarket Type1</td>\n",
              "      <td>1193.1136</td>\n",
              "    </tr>\n",
              "    <tr>\n",
              "      <th>8521</th>\n",
              "      <td>7.210</td>\n",
              "      <td>Regular</td>\n",
              "      <td>0.145221</td>\n",
              "      <td>Snack Foods</td>\n",
              "      <td>103.1332</td>\n",
              "      <td>2009</td>\n",
              "      <td>Medium</td>\n",
              "      <td>Tier 3</td>\n",
              "      <td>Supermarket Type2</td>\n",
              "      <td>1845.5976</td>\n",
              "    </tr>\n",
              "    <tr>\n",
              "      <th>8522</th>\n",
              "      <td>14.800</td>\n",
              "      <td>Low Fat</td>\n",
              "      <td>0.044878</td>\n",
              "      <td>Soft Drinks</td>\n",
              "      <td>75.4670</td>\n",
              "      <td>1997</td>\n",
              "      <td>Small</td>\n",
              "      <td>Tier 1</td>\n",
              "      <td>Supermarket Type1</td>\n",
              "      <td>765.6700</td>\n",
              "    </tr>\n",
              "  </tbody>\n",
              "</table>\n",
              "<p>8523 rows × 10 columns</p>\n",
              "</div>\n",
              "    <div class=\"colab-df-buttons\">\n",
              "\n",
              "  <div class=\"colab-df-container\">\n",
              "    <button class=\"colab-df-convert\" onclick=\"convertToInteractive('df-fb903589-834d-4cb1-bb35-46673698e9c7')\"\n",
              "            title=\"Convert this dataframe to an interactive table.\"\n",
              "            style=\"display:none;\">\n",
              "\n",
              "  <svg xmlns=\"http://www.w3.org/2000/svg\" height=\"24px\" viewBox=\"0 -960 960 960\">\n",
              "    <path d=\"M120-120v-720h720v720H120Zm60-500h600v-160H180v160Zm220 220h160v-160H400v160Zm0 220h160v-160H400v160ZM180-400h160v-160H180v160Zm440 0h160v-160H620v160ZM180-180h160v-160H180v160Zm440 0h160v-160H620v160Z\"/>\n",
              "  </svg>\n",
              "    </button>\n",
              "\n",
              "  <style>\n",
              "    .colab-df-container {\n",
              "      display:flex;\n",
              "      gap: 12px;\n",
              "    }\n",
              "\n",
              "    .colab-df-convert {\n",
              "      background-color: #E8F0FE;\n",
              "      border: none;\n",
              "      border-radius: 50%;\n",
              "      cursor: pointer;\n",
              "      display: none;\n",
              "      fill: #1967D2;\n",
              "      height: 32px;\n",
              "      padding: 0 0 0 0;\n",
              "      width: 32px;\n",
              "    }\n",
              "\n",
              "    .colab-df-convert:hover {\n",
              "      background-color: #E2EBFA;\n",
              "      box-shadow: 0px 1px 2px rgba(60, 64, 67, 0.3), 0px 1px 3px 1px rgba(60, 64, 67, 0.15);\n",
              "      fill: #174EA6;\n",
              "    }\n",
              "\n",
              "    .colab-df-buttons div {\n",
              "      margin-bottom: 4px;\n",
              "    }\n",
              "\n",
              "    [theme=dark] .colab-df-convert {\n",
              "      background-color: #3B4455;\n",
              "      fill: #D2E3FC;\n",
              "    }\n",
              "\n",
              "    [theme=dark] .colab-df-convert:hover {\n",
              "      background-color: #434B5C;\n",
              "      box-shadow: 0px 1px 3px 1px rgba(0, 0, 0, 0.15);\n",
              "      filter: drop-shadow(0px 1px 2px rgba(0, 0, 0, 0.3));\n",
              "      fill: #FFFFFF;\n",
              "    }\n",
              "  </style>\n",
              "\n",
              "    <script>\n",
              "      const buttonEl =\n",
              "        document.querySelector('#df-fb903589-834d-4cb1-bb35-46673698e9c7 button.colab-df-convert');\n",
              "      buttonEl.style.display =\n",
              "        google.colab.kernel.accessAllowed ? 'block' : 'none';\n",
              "\n",
              "      async function convertToInteractive(key) {\n",
              "        const element = document.querySelector('#df-fb903589-834d-4cb1-bb35-46673698e9c7');\n",
              "        const dataTable =\n",
              "          await google.colab.kernel.invokeFunction('convertToInteractive',\n",
              "                                                    [key], {});\n",
              "        if (!dataTable) return;\n",
              "\n",
              "        const docLinkHtml = 'Like what you see? Visit the ' +\n",
              "          '<a target=\"_blank\" href=https://colab.research.google.com/notebooks/data_table.ipynb>data table notebook</a>'\n",
              "          + ' to learn more about interactive tables.';\n",
              "        element.innerHTML = '';\n",
              "        dataTable['output_type'] = 'display_data';\n",
              "        await google.colab.output.renderOutput(dataTable, element);\n",
              "        const docLink = document.createElement('div');\n",
              "        docLink.innerHTML = docLinkHtml;\n",
              "        element.appendChild(docLink);\n",
              "      }\n",
              "    </script>\n",
              "  </div>\n",
              "\n",
              "\n",
              "<div id=\"df-abb0171e-a08e-440b-9234-868c57c61e18\">\n",
              "  <button class=\"colab-df-quickchart\" onclick=\"quickchart('df-abb0171e-a08e-440b-9234-868c57c61e18')\"\n",
              "            title=\"Suggest charts\"\n",
              "            style=\"display:none;\">\n",
              "\n",
              "<svg xmlns=\"http://www.w3.org/2000/svg\" height=\"24px\"viewBox=\"0 0 24 24\"\n",
              "     width=\"24px\">\n",
              "    <g>\n",
              "        <path d=\"M19 3H5c-1.1 0-2 .9-2 2v14c0 1.1.9 2 2 2h14c1.1 0 2-.9 2-2V5c0-1.1-.9-2-2-2zM9 17H7v-7h2v7zm4 0h-2V7h2v10zm4 0h-2v-4h2v4z\"/>\n",
              "    </g>\n",
              "</svg>\n",
              "  </button>\n",
              "\n",
              "<style>\n",
              "  .colab-df-quickchart {\n",
              "      --bg-color: #E8F0FE;\n",
              "      --fill-color: #1967D2;\n",
              "      --hover-bg-color: #E2EBFA;\n",
              "      --hover-fill-color: #174EA6;\n",
              "      --disabled-fill-color: #AAA;\n",
              "      --disabled-bg-color: #DDD;\n",
              "  }\n",
              "\n",
              "  [theme=dark] .colab-df-quickchart {\n",
              "      --bg-color: #3B4455;\n",
              "      --fill-color: #D2E3FC;\n",
              "      --hover-bg-color: #434B5C;\n",
              "      --hover-fill-color: #FFFFFF;\n",
              "      --disabled-bg-color: #3B4455;\n",
              "      --disabled-fill-color: #666;\n",
              "  }\n",
              "\n",
              "  .colab-df-quickchart {\n",
              "    background-color: var(--bg-color);\n",
              "    border: none;\n",
              "    border-radius: 50%;\n",
              "    cursor: pointer;\n",
              "    display: none;\n",
              "    fill: var(--fill-color);\n",
              "    height: 32px;\n",
              "    padding: 0;\n",
              "    width: 32px;\n",
              "  }\n",
              "\n",
              "  .colab-df-quickchart:hover {\n",
              "    background-color: var(--hover-bg-color);\n",
              "    box-shadow: 0 1px 2px rgba(60, 64, 67, 0.3), 0 1px 3px 1px rgba(60, 64, 67, 0.15);\n",
              "    fill: var(--button-hover-fill-color);\n",
              "  }\n",
              "\n",
              "  .colab-df-quickchart-complete:disabled,\n",
              "  .colab-df-quickchart-complete:disabled:hover {\n",
              "    background-color: var(--disabled-bg-color);\n",
              "    fill: var(--disabled-fill-color);\n",
              "    box-shadow: none;\n",
              "  }\n",
              "\n",
              "  .colab-df-spinner {\n",
              "    border: 2px solid var(--fill-color);\n",
              "    border-color: transparent;\n",
              "    border-bottom-color: var(--fill-color);\n",
              "    animation:\n",
              "      spin 1s steps(1) infinite;\n",
              "  }\n",
              "\n",
              "  @keyframes spin {\n",
              "    0% {\n",
              "      border-color: transparent;\n",
              "      border-bottom-color: var(--fill-color);\n",
              "      border-left-color: var(--fill-color);\n",
              "    }\n",
              "    20% {\n",
              "      border-color: transparent;\n",
              "      border-left-color: var(--fill-color);\n",
              "      border-top-color: var(--fill-color);\n",
              "    }\n",
              "    30% {\n",
              "      border-color: transparent;\n",
              "      border-left-color: var(--fill-color);\n",
              "      border-top-color: var(--fill-color);\n",
              "      border-right-color: var(--fill-color);\n",
              "    }\n",
              "    40% {\n",
              "      border-color: transparent;\n",
              "      border-right-color: var(--fill-color);\n",
              "      border-top-color: var(--fill-color);\n",
              "    }\n",
              "    60% {\n",
              "      border-color: transparent;\n",
              "      border-right-color: var(--fill-color);\n",
              "    }\n",
              "    80% {\n",
              "      border-color: transparent;\n",
              "      border-right-color: var(--fill-color);\n",
              "      border-bottom-color: var(--fill-color);\n",
              "    }\n",
              "    90% {\n",
              "      border-color: transparent;\n",
              "      border-bottom-color: var(--fill-color);\n",
              "    }\n",
              "  }\n",
              "</style>\n",
              "\n",
              "  <script>\n",
              "    async function quickchart(key) {\n",
              "      const quickchartButtonEl =\n",
              "        document.querySelector('#' + key + ' button');\n",
              "      quickchartButtonEl.disabled = true;  // To prevent multiple clicks.\n",
              "      quickchartButtonEl.classList.add('colab-df-spinner');\n",
              "      try {\n",
              "        const charts = await google.colab.kernel.invokeFunction(\n",
              "            'suggestCharts', [key], {});\n",
              "      } catch (error) {\n",
              "        console.error('Error during call to suggestCharts:', error);\n",
              "      }\n",
              "      quickchartButtonEl.classList.remove('colab-df-spinner');\n",
              "      quickchartButtonEl.classList.add('colab-df-quickchart-complete');\n",
              "    }\n",
              "    (() => {\n",
              "      let quickchartButtonEl =\n",
              "        document.querySelector('#df-abb0171e-a08e-440b-9234-868c57c61e18 button');\n",
              "      quickchartButtonEl.style.display =\n",
              "        google.colab.kernel.accessAllowed ? 'block' : 'none';\n",
              "    })();\n",
              "  </script>\n",
              "</div>\n",
              "    </div>\n",
              "  </div>\n"
            ]
          },
          "metadata": {},
          "execution_count": 52
        }
      ],
      "source": [
        "df_train"
      ],
      "id": "TqKjcBta6PmV"
    },
    {
      "cell_type": "markdown",
      "source": [
        "# Task 27"
      ],
      "metadata": {
        "id": "XrcZaCXVUved"
      },
      "id": "XrcZaCXVUved"
    },
    {
      "cell_type": "markdown",
      "source": [
        "#Getting the details of 'Outlet_Establishment_Year' colum to obtain to 'Outlet_Establishment_Year'score"
      ],
      "metadata": {
        "id": "_1fjF56ESAff"
      },
      "id": "_1fjF56ESAff"
    },
    {
      "cell_type": "code",
      "source": [
        "df_train['Outlet_Establishment_Year'].value_counts()"
      ],
      "metadata": {
        "colab": {
          "base_uri": "https://localhost:8080/"
        },
        "id": "rZ_q13OmAmE6",
        "outputId": "09af012c-09a4-4e97-f63c-38203cadfff2"
      },
      "id": "rZ_q13OmAmE6",
      "execution_count": null,
      "outputs": [
        {
          "output_type": "execute_result",
          "data": {
            "text/plain": [
              "1985    1463\n",
              "1987     932\n",
              "1999     930\n",
              "1997     930\n",
              "2004     930\n",
              "2002     929\n",
              "2009     928\n",
              "2007     926\n",
              "1998     555\n",
              "Name: Outlet_Establishment_Year, dtype: int64"
            ]
          },
          "metadata": {},
          "execution_count": 111
        }
      ]
    },
    {
      "cell_type": "markdown",
      "source": [
        "In our training dataset, the Outlet_Establishment_Year attribute indicates that the highest year of establishment for outlets is 1985 with 1463 outlets. This suggests that 1985 was the most common year for setting up outlets, providing insight into the distribution of establishment years in our data."
      ],
      "metadata": {
        "id": "sAQfkc7RBgs9"
      },
      "id": "sAQfkc7RBgs9"
    },
    {
      "cell_type": "markdown",
      "source": [
        "# Task 28"
      ],
      "metadata": {
        "id": "uk_sWPi8U2Lv"
      },
      "id": "uk_sWPi8U2Lv"
    },
    {
      "cell_type": "markdown",
      "source": [
        "# Descriptive analysis of the train data"
      ],
      "metadata": {
        "id": "Ntdhya8xSqHN"
      },
      "id": "Ntdhya8xSqHN"
    },
    {
      "cell_type": "code",
      "source": [
        "df_train.describe()"
      ],
      "metadata": {
        "colab": {
          "base_uri": "https://localhost:8080/",
          "height": 291
        },
        "id": "SvNYbxjk-DBH",
        "outputId": "425b979a-103b-4eb9-de70-82dca85ee94d"
      },
      "id": "SvNYbxjk-DBH",
      "execution_count": null,
      "outputs": [
        {
          "output_type": "execute_result",
          "data": {
            "text/plain": [
              "       Item_Weight  Item_Fat_Content  Item_Visibility    Item_Type  \\\n",
              "count  8523.000000       8523.000000      8523.000000  8523.000000   \n",
              "mean     12.857646          1.369354         0.066132     7.226681   \n",
              "std       4.226124          0.644810         0.051598     4.209990   \n",
              "min       4.555000          0.000000         0.000000     0.000000   \n",
              "25%       9.310000          1.000000         0.026989     4.000000   \n",
              "50%      12.857645          1.000000         0.053931     6.000000   \n",
              "75%      16.000000          2.000000         0.094585    10.000000   \n",
              "max      21.350000          4.000000         0.328391    15.000000   \n",
              "\n",
              "          Item_MRP  Outlet_Establishment_Year  Outlet_Size  \\\n",
              "count  8523.000000                8523.000000  8523.000000   \n",
              "mean    140.992767                1997.831867     1.170832   \n",
              "std      62.275066                   8.371760     0.600327   \n",
              "min      31.290001                1985.000000     0.000000   \n",
              "25%      93.826500                1987.000000     1.000000   \n",
              "50%     143.012802                1999.000000     1.000000   \n",
              "75%     185.643700                2004.000000     2.000000   \n",
              "max     266.888397                2009.000000     2.000000   \n",
              "\n",
              "       Outlet_Location_Type  Outlet_Type  Item_Outlet_Sales  \n",
              "count           8523.000000  8523.000000        8523.000000  \n",
              "mean               1.112871     1.201220        2181.288818  \n",
              "std                0.812757     0.796459        1706.499634  \n",
              "min                0.000000     0.000000          33.290001  \n",
              "25%                0.000000     1.000000         834.247406  \n",
              "50%                1.000000     1.000000        1794.331055  \n",
              "75%                2.000000     1.000000        3101.296387  \n",
              "max                2.000000     3.000000       13086.964844  "
            ],
            "text/html": [
              "\n",
              "  <div id=\"df-dfc411b5-34e3-4db5-89ba-a88040556cf3\" class=\"colab-df-container\">\n",
              "    <div>\n",
              "<style scoped>\n",
              "    .dataframe tbody tr th:only-of-type {\n",
              "        vertical-align: middle;\n",
              "    }\n",
              "\n",
              "    .dataframe tbody tr th {\n",
              "        vertical-align: top;\n",
              "    }\n",
              "\n",
              "    .dataframe thead th {\n",
              "        text-align: right;\n",
              "    }\n",
              "</style>\n",
              "<table border=\"1\" class=\"dataframe\">\n",
              "  <thead>\n",
              "    <tr style=\"text-align: right;\">\n",
              "      <th></th>\n",
              "      <th>Item_Weight</th>\n",
              "      <th>Item_Fat_Content</th>\n",
              "      <th>Item_Visibility</th>\n",
              "      <th>Item_Type</th>\n",
              "      <th>Item_MRP</th>\n",
              "      <th>Outlet_Establishment_Year</th>\n",
              "      <th>Outlet_Size</th>\n",
              "      <th>Outlet_Location_Type</th>\n",
              "      <th>Outlet_Type</th>\n",
              "      <th>Item_Outlet_Sales</th>\n",
              "    </tr>\n",
              "  </thead>\n",
              "  <tbody>\n",
              "    <tr>\n",
              "      <th>count</th>\n",
              "      <td>8523.000000</td>\n",
              "      <td>8523.000000</td>\n",
              "      <td>8523.000000</td>\n",
              "      <td>8523.000000</td>\n",
              "      <td>8523.000000</td>\n",
              "      <td>8523.000000</td>\n",
              "      <td>8523.000000</td>\n",
              "      <td>8523.000000</td>\n",
              "      <td>8523.000000</td>\n",
              "      <td>8523.000000</td>\n",
              "    </tr>\n",
              "    <tr>\n",
              "      <th>mean</th>\n",
              "      <td>12.857646</td>\n",
              "      <td>1.369354</td>\n",
              "      <td>0.066132</td>\n",
              "      <td>7.226681</td>\n",
              "      <td>140.992767</td>\n",
              "      <td>1997.831867</td>\n",
              "      <td>1.170832</td>\n",
              "      <td>1.112871</td>\n",
              "      <td>1.201220</td>\n",
              "      <td>2181.288818</td>\n",
              "    </tr>\n",
              "    <tr>\n",
              "      <th>std</th>\n",
              "      <td>4.226124</td>\n",
              "      <td>0.644810</td>\n",
              "      <td>0.051598</td>\n",
              "      <td>4.209990</td>\n",
              "      <td>62.275066</td>\n",
              "      <td>8.371760</td>\n",
              "      <td>0.600327</td>\n",
              "      <td>0.812757</td>\n",
              "      <td>0.796459</td>\n",
              "      <td>1706.499634</td>\n",
              "    </tr>\n",
              "    <tr>\n",
              "      <th>min</th>\n",
              "      <td>4.555000</td>\n",
              "      <td>0.000000</td>\n",
              "      <td>0.000000</td>\n",
              "      <td>0.000000</td>\n",
              "      <td>31.290001</td>\n",
              "      <td>1985.000000</td>\n",
              "      <td>0.000000</td>\n",
              "      <td>0.000000</td>\n",
              "      <td>0.000000</td>\n",
              "      <td>33.290001</td>\n",
              "    </tr>\n",
              "    <tr>\n",
              "      <th>25%</th>\n",
              "      <td>9.310000</td>\n",
              "      <td>1.000000</td>\n",
              "      <td>0.026989</td>\n",
              "      <td>4.000000</td>\n",
              "      <td>93.826500</td>\n",
              "      <td>1987.000000</td>\n",
              "      <td>1.000000</td>\n",
              "      <td>0.000000</td>\n",
              "      <td>1.000000</td>\n",
              "      <td>834.247406</td>\n",
              "    </tr>\n",
              "    <tr>\n",
              "      <th>50%</th>\n",
              "      <td>12.857645</td>\n",
              "      <td>1.000000</td>\n",
              "      <td>0.053931</td>\n",
              "      <td>6.000000</td>\n",
              "      <td>143.012802</td>\n",
              "      <td>1999.000000</td>\n",
              "      <td>1.000000</td>\n",
              "      <td>1.000000</td>\n",
              "      <td>1.000000</td>\n",
              "      <td>1794.331055</td>\n",
              "    </tr>\n",
              "    <tr>\n",
              "      <th>75%</th>\n",
              "      <td>16.000000</td>\n",
              "      <td>2.000000</td>\n",
              "      <td>0.094585</td>\n",
              "      <td>10.000000</td>\n",
              "      <td>185.643700</td>\n",
              "      <td>2004.000000</td>\n",
              "      <td>2.000000</td>\n",
              "      <td>2.000000</td>\n",
              "      <td>1.000000</td>\n",
              "      <td>3101.296387</td>\n",
              "    </tr>\n",
              "    <tr>\n",
              "      <th>max</th>\n",
              "      <td>21.350000</td>\n",
              "      <td>4.000000</td>\n",
              "      <td>0.328391</td>\n",
              "      <td>15.000000</td>\n",
              "      <td>266.888397</td>\n",
              "      <td>2009.000000</td>\n",
              "      <td>2.000000</td>\n",
              "      <td>2.000000</td>\n",
              "      <td>3.000000</td>\n",
              "      <td>13086.964844</td>\n",
              "    </tr>\n",
              "  </tbody>\n",
              "</table>\n",
              "</div>\n",
              "    <div class=\"colab-df-buttons\">\n",
              "\n",
              "  <div class=\"colab-df-container\">\n",
              "    <button class=\"colab-df-convert\" onclick=\"convertToInteractive('df-dfc411b5-34e3-4db5-89ba-a88040556cf3')\"\n",
              "            title=\"Convert this dataframe to an interactive table.\"\n",
              "            style=\"display:none;\">\n",
              "\n",
              "  <svg xmlns=\"http://www.w3.org/2000/svg\" height=\"24px\" viewBox=\"0 -960 960 960\">\n",
              "    <path d=\"M120-120v-720h720v720H120Zm60-500h600v-160H180v160Zm220 220h160v-160H400v160Zm0 220h160v-160H400v160ZM180-400h160v-160H180v160Zm440 0h160v-160H620v160ZM180-180h160v-160H180v160Zm440 0h160v-160H620v160Z\"/>\n",
              "  </svg>\n",
              "    </button>\n",
              "\n",
              "  <style>\n",
              "    .colab-df-container {\n",
              "      display:flex;\n",
              "      gap: 12px;\n",
              "    }\n",
              "\n",
              "    .colab-df-convert {\n",
              "      background-color: #E8F0FE;\n",
              "      border: none;\n",
              "      border-radius: 50%;\n",
              "      cursor: pointer;\n",
              "      display: none;\n",
              "      fill: #1967D2;\n",
              "      height: 32px;\n",
              "      padding: 0 0 0 0;\n",
              "      width: 32px;\n",
              "    }\n",
              "\n",
              "    .colab-df-convert:hover {\n",
              "      background-color: #E2EBFA;\n",
              "      box-shadow: 0px 1px 2px rgba(60, 64, 67, 0.3), 0px 1px 3px 1px rgba(60, 64, 67, 0.15);\n",
              "      fill: #174EA6;\n",
              "    }\n",
              "\n",
              "    .colab-df-buttons div {\n",
              "      margin-bottom: 4px;\n",
              "    }\n",
              "\n",
              "    [theme=dark] .colab-df-convert {\n",
              "      background-color: #3B4455;\n",
              "      fill: #D2E3FC;\n",
              "    }\n",
              "\n",
              "    [theme=dark] .colab-df-convert:hover {\n",
              "      background-color: #434B5C;\n",
              "      box-shadow: 0px 1px 3px 1px rgba(0, 0, 0, 0.15);\n",
              "      filter: drop-shadow(0px 1px 2px rgba(0, 0, 0, 0.3));\n",
              "      fill: #FFFFFF;\n",
              "    }\n",
              "  </style>\n",
              "\n",
              "    <script>\n",
              "      const buttonEl =\n",
              "        document.querySelector('#df-dfc411b5-34e3-4db5-89ba-a88040556cf3 button.colab-df-convert');\n",
              "      buttonEl.style.display =\n",
              "        google.colab.kernel.accessAllowed ? 'block' : 'none';\n",
              "\n",
              "      async function convertToInteractive(key) {\n",
              "        const element = document.querySelector('#df-dfc411b5-34e3-4db5-89ba-a88040556cf3');\n",
              "        const dataTable =\n",
              "          await google.colab.kernel.invokeFunction('convertToInteractive',\n",
              "                                                    [key], {});\n",
              "        if (!dataTable) return;\n",
              "\n",
              "        const docLinkHtml = 'Like what you see? Visit the ' +\n",
              "          '<a target=\"_blank\" href=https://colab.research.google.com/notebooks/data_table.ipynb>data table notebook</a>'\n",
              "          + ' to learn more about interactive tables.';\n",
              "        element.innerHTML = '';\n",
              "        dataTable['output_type'] = 'display_data';\n",
              "        await google.colab.output.renderOutput(dataTable, element);\n",
              "        const docLink = document.createElement('div');\n",
              "        docLink.innerHTML = docLinkHtml;\n",
              "        element.appendChild(docLink);\n",
              "      }\n",
              "    </script>\n",
              "  </div>\n",
              "\n",
              "\n",
              "<div id=\"df-020ba6cd-78c0-4509-a394-0364ac610653\">\n",
              "  <button class=\"colab-df-quickchart\" onclick=\"quickchart('df-020ba6cd-78c0-4509-a394-0364ac610653')\"\n",
              "            title=\"Suggest charts\"\n",
              "            style=\"display:none;\">\n",
              "\n",
              "<svg xmlns=\"http://www.w3.org/2000/svg\" height=\"24px\"viewBox=\"0 0 24 24\"\n",
              "     width=\"24px\">\n",
              "    <g>\n",
              "        <path d=\"M19 3H5c-1.1 0-2 .9-2 2v14c0 1.1.9 2 2 2h14c1.1 0 2-.9 2-2V5c0-1.1-.9-2-2-2zM9 17H7v-7h2v7zm4 0h-2V7h2v10zm4 0h-2v-4h2v4z\"/>\n",
              "    </g>\n",
              "</svg>\n",
              "  </button>\n",
              "\n",
              "<style>\n",
              "  .colab-df-quickchart {\n",
              "      --bg-color: #E8F0FE;\n",
              "      --fill-color: #1967D2;\n",
              "      --hover-bg-color: #E2EBFA;\n",
              "      --hover-fill-color: #174EA6;\n",
              "      --disabled-fill-color: #AAA;\n",
              "      --disabled-bg-color: #DDD;\n",
              "  }\n",
              "\n",
              "  [theme=dark] .colab-df-quickchart {\n",
              "      --bg-color: #3B4455;\n",
              "      --fill-color: #D2E3FC;\n",
              "      --hover-bg-color: #434B5C;\n",
              "      --hover-fill-color: #FFFFFF;\n",
              "      --disabled-bg-color: #3B4455;\n",
              "      --disabled-fill-color: #666;\n",
              "  }\n",
              "\n",
              "  .colab-df-quickchart {\n",
              "    background-color: var(--bg-color);\n",
              "    border: none;\n",
              "    border-radius: 50%;\n",
              "    cursor: pointer;\n",
              "    display: none;\n",
              "    fill: var(--fill-color);\n",
              "    height: 32px;\n",
              "    padding: 0;\n",
              "    width: 32px;\n",
              "  }\n",
              "\n",
              "  .colab-df-quickchart:hover {\n",
              "    background-color: var(--hover-bg-color);\n",
              "    box-shadow: 0 1px 2px rgba(60, 64, 67, 0.3), 0 1px 3px 1px rgba(60, 64, 67, 0.15);\n",
              "    fill: var(--button-hover-fill-color);\n",
              "  }\n",
              "\n",
              "  .colab-df-quickchart-complete:disabled,\n",
              "  .colab-df-quickchart-complete:disabled:hover {\n",
              "    background-color: var(--disabled-bg-color);\n",
              "    fill: var(--disabled-fill-color);\n",
              "    box-shadow: none;\n",
              "  }\n",
              "\n",
              "  .colab-df-spinner {\n",
              "    border: 2px solid var(--fill-color);\n",
              "    border-color: transparent;\n",
              "    border-bottom-color: var(--fill-color);\n",
              "    animation:\n",
              "      spin 1s steps(1) infinite;\n",
              "  }\n",
              "\n",
              "  @keyframes spin {\n",
              "    0% {\n",
              "      border-color: transparent;\n",
              "      border-bottom-color: var(--fill-color);\n",
              "      border-left-color: var(--fill-color);\n",
              "    }\n",
              "    20% {\n",
              "      border-color: transparent;\n",
              "      border-left-color: var(--fill-color);\n",
              "      border-top-color: var(--fill-color);\n",
              "    }\n",
              "    30% {\n",
              "      border-color: transparent;\n",
              "      border-left-color: var(--fill-color);\n",
              "      border-top-color: var(--fill-color);\n",
              "      border-right-color: var(--fill-color);\n",
              "    }\n",
              "    40% {\n",
              "      border-color: transparent;\n",
              "      border-right-color: var(--fill-color);\n",
              "      border-top-color: var(--fill-color);\n",
              "    }\n",
              "    60% {\n",
              "      border-color: transparent;\n",
              "      border-right-color: var(--fill-color);\n",
              "    }\n",
              "    80% {\n",
              "      border-color: transparent;\n",
              "      border-right-color: var(--fill-color);\n",
              "      border-bottom-color: var(--fill-color);\n",
              "    }\n",
              "    90% {\n",
              "      border-color: transparent;\n",
              "      border-bottom-color: var(--fill-color);\n",
              "    }\n",
              "  }\n",
              "</style>\n",
              "\n",
              "  <script>\n",
              "    async function quickchart(key) {\n",
              "      const quickchartButtonEl =\n",
              "        document.querySelector('#' + key + ' button');\n",
              "      quickchartButtonEl.disabled = true;  // To prevent multiple clicks.\n",
              "      quickchartButtonEl.classList.add('colab-df-spinner');\n",
              "      try {\n",
              "        const charts = await google.colab.kernel.invokeFunction(\n",
              "            'suggestCharts', [key], {});\n",
              "      } catch (error) {\n",
              "        console.error('Error during call to suggestCharts:', error);\n",
              "      }\n",
              "      quickchartButtonEl.classList.remove('colab-df-spinner');\n",
              "      quickchartButtonEl.classList.add('colab-df-quickchart-complete');\n",
              "    }\n",
              "    (() => {\n",
              "      let quickchartButtonEl =\n",
              "        document.querySelector('#df-020ba6cd-78c0-4509-a394-0364ac610653 button');\n",
              "      quickchartButtonEl.style.display =\n",
              "        google.colab.kernel.accessAllowed ? 'block' : 'none';\n",
              "    })();\n",
              "  </script>\n",
              "</div>\n",
              "    </div>\n",
              "  </div>\n"
            ]
          },
          "metadata": {},
          "execution_count": 112
        }
      ]
    },
    {
      "cell_type": "markdown",
      "source": [
        "From the analysis view point, the Max of Item_Outlet_Sales is 13086.964844 while the Min of Item_Outlet_Sales is 33.290001, we can see the much difference between the maximum sales and the minimum sales, a wide difference when we consider the range."
      ],
      "metadata": {
        "id": "rfS9A6EVCDqc"
      },
      "id": "rfS9A6EVCDqc"
    },
    {
      "cell_type": "markdown",
      "source": [
        "#Task 29"
      ],
      "metadata": {
        "id": "VgqAzAkMU9GG"
      },
      "id": "VgqAzAkMU9GG"
    },
    {
      "cell_type": "markdown",
      "source": [
        "# Plotting the line graph distributions of the 'Item_Outlet_Sales' to obtain the visualization of the 'Item_Outlet_Sales' colum"
      ],
      "metadata": {
        "id": "D7-LOL2lTr5B"
      },
      "id": "D7-LOL2lTr5B"
    },
    {
      "source": [
        "from matplotlib import pyplot as plt\n",
        "_df_38['Item_Outlet_Sales'].plot(kind='line', figsize=(8, 4), title='Item_Outlet_Sales')\n",
        "plt.gca().spines[['top', 'right']].set_visible(False)"
      ],
      "cell_type": "code",
      "metadata": {
        "colab": {
          "base_uri": "https://localhost:8080/",
          "height": 390
        },
        "id": "L4E45ybn-kJ6",
        "outputId": "10746c3a-f4b6-4bd4-b642-0fd459abe51e"
      },
      "id": "L4E45ybn-kJ6",
      "execution_count": null,
      "outputs": [
        {
          "output_type": "display_data",
          "data": {
            "text/plain": [
              "<Figure size 800x400 with 1 Axes>"
            ],
            "image/png": "[encoded data removed]"
          },
          "metadata": {}
        }
      ]
    },
    {
      "cell_type": "markdown",
      "source": [
        "We can see the increase of the sales according to the 'Item_Outlet_Sales' line graph"
      ],
      "metadata": {
        "id": "MNTHy9mJUORd"
      },
      "id": "MNTHy9mJUORd"
    },
    {
      "cell_type": "markdown",
      "source": [
        "#Task 30"
      ],
      "metadata": {
        "id": "jCk5pVKRVfnq"
      },
      "id": "jCk5pVKRVfnq"
    },
    {
      "cell_type": "markdown",
      "source": [
        "# Graph of 'Outlet_Establishment_Year' distribution"
      ],
      "metadata": {
        "id": "Yzvj1jxgUsv0"
      },
      "id": "Yzvj1jxgUsv0"
    },
    {
      "cell_type": "code",
      "source": [
        "from matplotlib import pyplot as plt\n",
        "_df_9.plot(kind='scatter', x='Item_Outlet_Sales', y='Outlet_Establishment_Year', s=32, alpha=.8)\n",
        "plt.gca().spines[['top', 'right',]].set_visible(False)"
      ],
      "metadata": {
        "colab": {
          "base_uri": "https://localhost:8080/",
          "height": 451
        },
        "id": "64eViujr_iOY",
        "outputId": "1dd5a22c-8c5e-4e7f-8f1d-9d9f3226c3aa"
      },
      "id": "64eViujr_iOY",
      "execution_count": null,
      "outputs": [
        {
          "output_type": "display_data",
          "data": {
            "text/plain": [
              "<Figure size 640x480 with 1 Axes>"
            ],
            "image/png": "[encoded data removed]"
          },
          "metadata": {}
        }
      ]
    },
    {
      "cell_type": "markdown",
      "source": [
        "We can see that 1985 'Outlet_Establishment_Year' generated the highest distribution according to the 'Outlet_Establishment_Year' scatter distribution graph"
      ],
      "metadata": {
        "id": "-MYXyIyhU4Pp"
      },
      "id": "-MYXyIyhU4Pp"
    },
    {
      "cell_type": "markdown",
      "source": [
        "#Task 31"
      ],
      "metadata": {
        "id": "3jE4MvbhVkPP"
      },
      "id": "3jE4MvbhVkPP"
    },
    {
      "cell_type": "markdown",
      "source": [
        "#Plotting the scatter graph of 'Item_Outlet_Sales' and 'Outlet_Location_Type' to obtain the 'Outlet_Location_Type' that generated the highest sales"
      ],
      "metadata": {
        "id": "k7hZX0fqVnuo"
      },
      "id": "k7hZX0fqVnuo"
    },
    {
      "source": [
        "from matplotlib import pyplot as plt\n",
        "_df_9.plot(kind='scatter', x='Outlet_Location_Type', y='Item_Outlet_Sales', s=32, alpha=.8)\n",
        "plt.gca().spines[['top', 'right',]].set_visible(False)"
      ],
      "cell_type": "code",
      "metadata": {
        "colab": {
          "base_uri": "https://localhost:8080/",
          "height": 449
        },
        "id": "LG39m8bTbtSD",
        "outputId": "cd690742-cb8e-4212-f793-b88157da4fa9"
      },
      "id": "LG39m8bTbtSD",
      "execution_count": null,
      "outputs": [
        {
          "output_type": "display_data",
          "data": {
            "text/plain": [
              "<Figure size 640x480 with 1 Axes>"
            ],
            "image/png": "[encoded data removed]"
          },
          "metadata": {}
        }
      ]
    },
    {
      "cell_type": "markdown",
      "source": [
        "The scatter plot graph reveals distinct patterns in sales distribution across different Outlet_Location Tiers. Notably, Outlet_Location Tier3 stands out with the highest distribution, surpassing 12000 in sales. In contrast, Tier1 exhibits the least distribution, ranging from 8000 to 10000. This discrepancy highlights the significance of Tier3 locations in driving sales, potentially due to higher population density or increased customer demand. The data suggests that focusing on Outlet_Location Tier3 could be strategically advantageous for maximizing sales and catering to the majority of the distribution, reflecting the importance of geographical considerations in the retail landscape."
      ],
      "metadata": {
        "id": "hygzHaDhh2eR"
      },
      "id": "hygzHaDhh2eR"
    },
    {
      "cell_type": "markdown",
      "source": [
        "#Task 32"
      ],
      "metadata": {
        "id": "SsEPVomBVpsr"
      },
      "id": "SsEPVomBVpsr"
    },
    {
      "cell_type": "markdown",
      "source": [
        "# Plotting the graph of 'Outlet_Type' to obtain the 'Outlet_Type' that generated highest sales or 'Outlet_Type' that has the major distribution score"
      ],
      "metadata": {
        "id": "f_LA8mHPWvpY"
      },
      "id": "f_LA8mHPWvpY"
    },
    {
      "source": [
        "from matplotlib import pyplot as plt\n",
        "import seaborn as sns\n",
        "_df_7.groupby('Outlet_Type').size().plot(kind='barh', color=sns.palettes.mpl_palette('Dark2'))\n",
        "plt.gca().spines[['top', 'right',]].set_visible(False)"
      ],
      "cell_type": "code",
      "metadata": {
        "colab": {
          "base_uri": "https://localhost:8080/",
          "height": 429
        },
        "id": "U5LoEFgQbiIp",
        "outputId": "3a7418a2-aad6-43b4-9052-161bc0149584"
      },
      "id": "U5LoEFgQbiIp",
      "execution_count": null,
      "outputs": [
        {
          "output_type": "display_data",
          "data": {
            "text/plain": [
              "<Figure size 640x480 with 1 Axes>"
            ],
            "image/png": "[encoded data removed]"
          },
          "metadata": {}
        }
      ]
    },
    {
      "cell_type": "markdown",
      "source": [
        "The sales distribution analysis reveals that Supermarket Type1 significantly outperforms other outlet types, reaching 5000 and above in sales. This stark difference in distribution is evident in the graph, where Supermarket Type1 dominates. The majority of sales are concentrated in this outlet type, indicating its popularity or strategic positioning. Understanding and leveraging the factors contributing to the success of Supermarket Type1 could provide valuable insights for optimizing sales strategies and potentially expanding the presence of similar outlet types. This underscores the importance of identifying and capitalizing on high-performing segments within the retail landscape for sustainable business growth."
      ],
      "metadata": {
        "id": "nQ2CTJXzjkCZ"
      },
      "id": "nQ2CTJXzjkCZ"
    },
    {
      "cell_type": "markdown",
      "source": [
        "#Task 33"
      ],
      "metadata": {
        "id": "FOTTLauPVuM5"
      },
      "id": "FOTTLauPVuM5"
    },
    {
      "cell_type": "markdown",
      "source": [
        "# Plotting the graph of 'Outlet_Location_Type' colum"
      ],
      "metadata": {
        "id": "fhpcwDHXYAwN"
      },
      "id": "fhpcwDHXYAwN"
    },
    {
      "source": [
        "from matplotlib import pyplot as plt\n",
        "import seaborn as sns\n",
        "_df_6.groupby('Outlet_Location_Type').size().plot(kind='barh', color=sns.palettes.mpl_palette('Dark2'))\n",
        "plt.gca().spines[['top', 'right',]].set_visible(False)"
      ],
      "cell_type": "code",
      "metadata": {
        "colab": {
          "base_uri": "https://localhost:8080/",
          "height": 429
        },
        "id": "aiAEuZEqbWG4",
        "outputId": "19c67ddf-1aa6-41fb-edca-f704296c892e"
      },
      "id": "aiAEuZEqbWG4",
      "execution_count": null,
      "outputs": [
        {
          "output_type": "display_data",
          "data": {
            "text/plain": [
              "<Figure size 640x480 with 1 Axes>"
            ],
            "image/png": "[encoded data removed]"
          },
          "metadata": {}
        }
      ]
    },
    {
      "cell_type": "markdown",
      "source": [
        "In the sales distribution analysis, Outlet_Location Tier3 emerges as the frontrunner, boasting 3000 and above in distribution, marking it as the highest-performing location. On the contrary, Tier1 lags behind with distributions of 2400 and less, ranking as the least among the outlet locations. This disparity in distribution underscores the significance of geographical placement and consumer demographics in shaping sales outcomes. Understanding the dynamics at play in Tier3, the top-performing location, could unveil valuable insights for optimizing strategies and potentially elevating the performance of Tier1 outlets. Identifying and addressing these location-specific nuances is crucial for strategic retail management and market penetration."
      ],
      "metadata": {
        "id": "8jPyV57skTsn"
      },
      "id": "8jPyV57skTsn"
    },
    {
      "cell_type": "markdown",
      "source": [
        "#Task 34"
      ],
      "metadata": {
        "id": "u2Uh-n24VznF"
      },
      "id": "u2Uh-n24VznF"
    },
    {
      "cell_type": "markdown",
      "source": [
        "# Plotting the graph of 'Outlet_Size' to obtaing the 'Outlet_Size' that has the highest distribution"
      ],
      "metadata": {
        "id": "yEV61Vw_YPy6"
      },
      "id": "yEV61Vw_YPy6"
    },
    {
      "source": [
        "from matplotlib import pyplot as plt\n",
        "import seaborn as sns\n",
        "_df_5.groupby('Outlet_Size').size().plot(kind='barh', color=sns.palettes.mpl_palette('Dark2'))\n",
        "plt.gca().spines[['top', 'right',]].set_visible(False)"
      ],
      "cell_type": "code",
      "metadata": {
        "colab": {
          "base_uri": "https://localhost:8080/",
          "height": 429
        },
        "id": "RrEWJ2BSbNd1",
        "outputId": "460b4e41-f66a-4f8a-ea2c-ff336060ed17"
      },
      "id": "RrEWJ2BSbNd1",
      "execution_count": null,
      "outputs": [
        {
          "output_type": "display_data",
          "data": {
            "text/plain": [
              "<Figure size 640x480 with 1 Axes>"
            ],
            "image/png": "[encoded data removed]"
          },
          "metadata": {}
        }
      ]
    },
    {
      "cell_type": "markdown",
      "source": [
        "In the realm of outlet size distribution, Medium outlets shine as the top contenders, boasting a robust 5000 and above in distribution. This category outperforms others significantly, showcasing its prominence in the market. On the flip side, High outlets lag behind with meager distributions of 900 and less, marking them as the least distributed among outlet sizes. This disparity underscores the critical role of outlet size in influencing consumer engagement and sales. Recognizing the impact of size-based distinctions is pivotal for retail strategies, aiding in the development of targeted approaches to cater to diverse consumer preferences and optimize overall performance."
      ],
      "metadata": {
        "id": "pPHwzu6tl--j"
      },
      "id": "pPHwzu6tl--j"
    },
    {
      "cell_type": "markdown",
      "source": [
        "#Task 35"
      ],
      "metadata": {
        "id": "aWvn_TR9V4rC"
      },
      "id": "aWvn_TR9V4rC"
    },
    {
      "cell_type": "markdown",
      "source": [
        "#Plotting the graph of 'Item_Fat_Content' to determine the 'Item_Fat_Content' that has the highest distributions"
      ],
      "metadata": {
        "id": "_PIGWq4PY7R_"
      },
      "id": "_PIGWq4PY7R_"
    },
    {
      "source": [
        "from matplotlib import pyplot as plt\n",
        "import seaborn as sns\n",
        "_df_4.groupby('Item_Fat_Content').size().plot(kind='barh', color=sns.palettes.mpl_palette('Dark2'))\n",
        "plt.gca().spines[['top', 'right',]].set_visible(False)"
      ],
      "cell_type": "code",
      "metadata": {
        "colab": {
          "base_uri": "https://localhost:8080/",
          "height": 429
        },
        "id": "34mQ6zDDa-EF",
        "outputId": "ddc822d7-6f9c-4e9b-9704-882add438bfc"
      },
      "id": "34mQ6zDDa-EF",
      "execution_count": null,
      "outputs": [
        {
          "output_type": "display_data",
          "data": {
            "text/plain": [
              "<Figure size 640x480 with 1 Axes>"
            ],
            "image/png": "[encoded data removed]"
          },
          "metadata": {}
        }
      ]
    },
    {
      "cell_type": "markdown",
      "source": [
        "Low Fat items dominate the product landscape, emerging as the undisputed leaders with a distribution of 5000 and above, making them the most sought-after in the market. The consumer preference for Low Fat items is evident from this robust distribution, indicating a prevailing health-conscious trend among buyers. The emphasis on healthier choices aligns with the evolving lifestyles and wellness priorities of the population. Understanding and capitalizing on this preference for Low Fat items can empower retailers to tailor their product offerings, ensuring alignment with consumer demands and optimizing sales in this health-conscious era."
      ],
      "metadata": {
        "id": "hm2jkfD6m7Ye"
      },
      "id": "hm2jkfD6m7Ye"
    },
    {
      "cell_type": "markdown",
      "source": [
        "#Task 36"
      ],
      "metadata": {
        "id": "lfxupEBAV9LT"
      },
      "id": "lfxupEBAV9LT"
    },
    {
      "cell_type": "markdown",
      "source": [
        "# Plotting 'Item_Visibility' graph"
      ],
      "metadata": {
        "id": "18JZ7E9CZdNQ"
      },
      "id": "18JZ7E9CZdNQ"
    },
    {
      "source": [
        "from matplotlib import pyplot as plt\n",
        "_df_2['Item_Visibility'].plot(kind='hist', bins=20, title='Item_Visibility')\n",
        "plt.gca().spines[['top', 'right',]].set_visible(False)"
      ],
      "cell_type": "code",
      "metadata": {
        "colab": {
          "base_uri": "https://localhost:8080/",
          "height": 451
        },
        "id": "G00Ot36va0Q5",
        "outputId": "8f6bf9df-d40c-45a2-c8f9-f29f18d0030f"
      },
      "id": "G00Ot36va0Q5",
      "execution_count": null,
      "outputs": [
        {
          "output_type": "display_data",
          "data": {
            "text/plain": [
              "<Figure size 640x480 with 1 Axes>"
            ],
            "image/png": "[encoded data removed]"
          },
          "metadata": {}
        }
      ]
    },
    {
      "cell_type": "markdown",
      "source": [
        "Analyzing the item_visibility graph reveals a fascinating trend where visibility rates ranging from 0.02 to 0.04 experience the highest distribution scores. This insight indicates that items falling within this visibility range are more prominently featured and, consequently, witness increased consumer engagement. However, as item_visibility rises beyond this range, the frequency of distribution shows a noticeable decline. This inverse relationship suggests that excessively visible items may not necessarily translate to higher distribution scores. Retailers can leverage this understanding to strategically manage product placement, ensuring optimal visibility within the sweet spot for increased sales and customer attention."
      ],
      "metadata": {
        "id": "6W5IZXX9oHg7"
      },
      "id": "6W5IZXX9oHg7"
    },
    {
      "cell_type": "markdown",
      "source": [
        "#Task 37"
      ],
      "metadata": {
        "id": "KKxRLzD3WCRp"
      },
      "id": "KKxRLzD3WCRp"
    },
    {
      "cell_type": "markdown",
      "source": [
        "#Plotting the graph of Item_MRP(Item Market Rate Value)"
      ],
      "metadata": {
        "id": "zCvZxLwfZ3YE"
      },
      "id": "zCvZxLwfZ3YE"
    },
    {
      "source": [
        "from matplotlib import pyplot as plt\n",
        "_df_3['Item_MRP'].plot(kind='hist', bins=20, title='Item_MRP')\n",
        "plt.gca().spines[['top', 'right',]].set_visible(False)"
      ],
      "cell_type": "code",
      "metadata": {
        "colab": {
          "base_uri": "https://localhost:8080/",
          "height": 451
        },
        "id": "luPpY2VFamod",
        "outputId": "c1a2bda7-bb4d-47f9-c159-9351b7775745"
      },
      "id": "luPpY2VFamod",
      "execution_count": null,
      "outputs": [
        {
          "output_type": "display_data",
          "data": {
            "text/plain": [
              "<Figure size 640x480 with 1 Axes>"
            ],
            "image/png": "[encoded data removed]"
          },
          "metadata": {}
        }
      ]
    },
    {
      "cell_type": "markdown",
      "source": [
        "Examining the distribution graph of item_MRP (market rate price) reveals intriguing patterns. The highest MRP falls within the range of 100 to 199, suggesting a concentration of items in this price bracket. However, the distribution is not uniform or consistent; it fluctuates based on frequency. The price rates exhibit variability, with noticeable shifts in both upward and downward directions, as vividly illustrated in the graph. This inconsistency implies that consumers encounter diverse pricing across products, possibly influenced by factors such as brand positioning or promotional strategies. Retailers can strategically navigate this variance to optimize pricing strategies and enhance overall sales performance."
      ],
      "metadata": {
        "id": "qcp4L7gupYIZ"
      },
      "id": "qcp4L7gupYIZ"
    },
    {
      "cell_type": "markdown",
      "source": [
        "#Task 38"
      ],
      "metadata": {
        "id": "_OHLyPlzWF9Q"
      },
      "id": "_OHLyPlzWF9Q"
    },
    {
      "cell_type": "markdown",
      "source": [
        "#Plotting the graph of 'Item_Weight' to obtain the point where major distributions happenend in accordiance with the 'Item_Weight'."
      ],
      "metadata": {
        "id": "Mv7SpbVxalUo"
      },
      "id": "Mv7SpbVxalUo"
    },
    {
      "source": [
        "from matplotlib import pyplot as plt\n",
        "_df_1['Item_Weight'].plot(kind='hist', bins=20, title='Item_Weight')\n",
        "plt.gca().spines[['top', 'right',]].set_visible(False)"
      ],
      "cell_type": "code",
      "metadata": {
        "colab": {
          "base_uri": "https://localhost:8080/",
          "height": 451
        },
        "id": "OshRed9IaL26",
        "outputId": "f8a79fa6-a9fc-471d-8176-3a6ea8cd152c"
      },
      "id": "OshRed9IaL26",
      "execution_count": null,
      "outputs": [
        {
          "output_type": "display_data",
          "data": {
            "text/plain": [
              "<Figure size 640x480 with 1 Axes>"
            ],
            "image/png": "[encoded data removed]"
          },
          "metadata": {}
        }
      ]
    },
    {
      "cell_type": "markdown",
      "source": [
        "Examining the item_weight distribution graph highlights a distinct pattern, with the highest concentration observed at point 12.5. This particular weight value stands out prominently, showcasing a substantial departure from the distribution of other item weights. The graph clearly illustrates that the majority of items cluster around the point 12.5 region, suggesting a prevalence of items with this specific weight. Understanding this weight-related distribution can inform inventory management strategies, helping retailers prioritize and optimize the stocking of items at or around the pivotal weight value of 12.5 to meet consumer demand effectively."
      ],
      "metadata": {
        "id": "Qzx_5nyxqdyq"
      },
      "id": "Qzx_5nyxqdyq"
    },
    {
      "cell_type": "markdown",
      "metadata": {
        "id": "gqKeK4KX6Pmg"
      },
      "source": [
        "# EDA using Klib Library"
      ],
      "id": "gqKeK4KX6Pmg"
    },
    {
      "cell_type": "code",
      "source": [
        "import klib"
      ],
      "metadata": {
        "id": "YOoxkcJHgnBN"
      },
      "id": "YOoxkcJHgnBN",
      "execution_count": null,
      "outputs": []
    },
    {
      "cell_type": "markdown",
      "source": [
        "#Task 39"
      ],
      "metadata": {
        "id": "UcK2yyV1WOhi"
      },
      "id": "UcK2yyV1WOhi"
    },
    {
      "cell_type": "markdown",
      "source": [
        "# Generating a visualization of the number and frequency of categorical features\n"
      ],
      "metadata": {
        "id": "h1KVZO3Jb4o6"
      },
      "id": "h1KVZO3Jb4o6"
    },
    {
      "cell_type": "code",
      "execution_count": null,
      "metadata": {
        "colab": {
          "base_uri": "https://localhost:8080/",
          "height": 1000
        },
        "id": "DyliypCe6Pmi",
        "outputId": "ca1f2d63-6169-4fe2-bb48-88f08e43f32d"
      },
      "outputs": [
        {
          "output_type": "execute_result",
          "data": {
            "text/plain": [
              "GridSpec(6, 5)"
            ]
          },
          "metadata": {},
          "execution_count": 53
        },
        {
          "output_type": "display_data",
          "data": {
            "text/plain": [
              "<Figure size 1800x1800 with 11 Axes>"
            ],
            "image/png": "[encoded data removed]"
          },
          "metadata": {}
        }
      ],
      "source": [
        "# klib.describe - functions for visualizing datasets\n",
        "klib.cat_plot(df_train)"
      ],
      "id": "DyliypCe6Pmi"
    },
    {
      "cell_type": "markdown",
      "source": [
        "Analyzing the sales distribution graph reveals several key insights into product performance and consumer preferences. 'Low Fat' items dominate the market, with a significant sales volume of 5000, surpassing other categories. Within the 'Item_Type' category, 'Fruits and Vegetables' emerge as the top-selling items, recording a substantial value of 1200, while 'Seafood' represents the least popular category. Medium-sized outlets experience higher sales compared to other outlet sizes, while 'High' outlets trail with the least sales. In terms of location, Outlet_Location Tier3 commands the highest distribution, contrasting with Tier1, which exhibits the lowest distribution. Additionally, Supermarket Type1 leads in distribution, outperforming Supermarket Type2 with the least sales."
      ],
      "metadata": {
        "id": "EVRFDr-BrgKF"
      },
      "id": "EVRFDr-BrgKF"
    },
    {
      "cell_type": "markdown",
      "source": [
        "#Task 40"
      ],
      "metadata": {
        "id": "xUtr7ONIWSjg"
      },
      "id": "xUtr7ONIWSjg"
    },
    {
      "cell_type": "markdown",
      "source": [
        "#Getting the correlation matrix of the train data"
      ],
      "metadata": {
        "id": "hdRIt63eetfp"
      },
      "id": "hdRIt63eetfp"
    },
    {
      "cell_type": "code",
      "execution_count": null,
      "metadata": {
        "colab": {
          "base_uri": "https://localhost:8080/",
          "height": 201
        },
        "id": "ne6UTSsP6Pmj",
        "outputId": "2c85affc-7387-4228-ef42-a1974ce41fa5"
      },
      "outputs": [
        {
          "output_type": "execute_result",
          "data": {
            "text/plain": [
              "<pandas.io.formats.style.Styler at 0x7ef46c680580>"
            ],
            "text/html": [
              "<style type=\"text/css\">\n",
              "#T_18837_row0_col0, #T_18837_row0_col2, #T_18837_row0_col4, #T_18837_row1_col1, #T_18837_row2_col0, #T_18837_row2_col2, #T_18837_row2_col3, #T_18837_row2_col4, #T_18837_row3_col2, #T_18837_row3_col3, #T_18837_row4_col0, #T_18837_row4_col2, #T_18837_row4_col4 {\n",
              "  color: None;\n",
              "}\n",
              "#T_18837_row0_col1, #T_18837_row0_col3, #T_18837_row1_col0, #T_18837_row1_col2, #T_18837_row1_col3, #T_18837_row1_col4, #T_18837_row2_col1, #T_18837_row3_col0, #T_18837_row3_col1, #T_18837_row3_col4, #T_18837_row4_col1, #T_18837_row4_col3 {\n",
              "  color: #FF3344;\n",
              "}\n",
              "</style>\n",
              "<table id=\"T_18837\" class=\"dataframe\">\n",
              "  <thead>\n",
              "    <tr>\n",
              "      <th class=\"blank level0\" >&nbsp;</th>\n",
              "      <th id=\"T_18837_level0_col0\" class=\"col_heading level0 col0\" >Item_Weight</th>\n",
              "      <th id=\"T_18837_level0_col1\" class=\"col_heading level0 col1\" >Item_Visibility</th>\n",
              "      <th id=\"T_18837_level0_col2\" class=\"col_heading level0 col2\" >Item_MRP</th>\n",
              "      <th id=\"T_18837_level0_col3\" class=\"col_heading level0 col3\" >Outlet_Establishment_Year</th>\n",
              "      <th id=\"T_18837_level0_col4\" class=\"col_heading level0 col4\" >Item_Outlet_Sales</th>\n",
              "    </tr>\n",
              "  </thead>\n",
              "  <tbody>\n",
              "    <tr>\n",
              "      <th id=\"T_18837_level0_row0\" class=\"row_heading level0 row0\" >Item_Weight</th>\n",
              "      <td id=\"T_18837_row0_col0\" class=\"data row0 col0\" >1.00</td>\n",
              "      <td id=\"T_18837_row0_col1\" class=\"data row0 col1\" >-0.01</td>\n",
              "      <td id=\"T_18837_row0_col2\" class=\"data row0 col2\" >0.02</td>\n",
              "      <td id=\"T_18837_row0_col3\" class=\"data row0 col3\" >-0.01</td>\n",
              "      <td id=\"T_18837_row0_col4\" class=\"data row0 col4\" >0.01</td>\n",
              "    </tr>\n",
              "    <tr>\n",
              "      <th id=\"T_18837_level0_row1\" class=\"row_heading level0 row1\" >Item_Visibility</th>\n",
              "      <td id=\"T_18837_row1_col0\" class=\"data row1 col0\" >-0.01</td>\n",
              "      <td id=\"T_18837_row1_col1\" class=\"data row1 col1\" >1.00</td>\n",
              "      <td id=\"T_18837_row1_col2\" class=\"data row1 col2\" >-0.00</td>\n",
              "      <td id=\"T_18837_row1_col3\" class=\"data row1 col3\" >-0.07</td>\n",
              "      <td id=\"T_18837_row1_col4\" class=\"data row1 col4\" >-0.13</td>\n",
              "    </tr>\n",
              "    <tr>\n",
              "      <th id=\"T_18837_level0_row2\" class=\"row_heading level0 row2\" >Item_MRP</th>\n",
              "      <td id=\"T_18837_row2_col0\" class=\"data row2 col0\" >0.02</td>\n",
              "      <td id=\"T_18837_row2_col1\" class=\"data row2 col1\" >-0.00</td>\n",
              "      <td id=\"T_18837_row2_col2\" class=\"data row2 col2\" >1.00</td>\n",
              "      <td id=\"T_18837_row2_col3\" class=\"data row2 col3\" >0.01</td>\n",
              "      <td id=\"T_18837_row2_col4\" class=\"data row2 col4\" >0.57</td>\n",
              "    </tr>\n",
              "    <tr>\n",
              "      <th id=\"T_18837_level0_row3\" class=\"row_heading level0 row3\" >Outlet_Establishment_Year</th>\n",
              "      <td id=\"T_18837_row3_col0\" class=\"data row3 col0\" >-0.01</td>\n",
              "      <td id=\"T_18837_row3_col1\" class=\"data row3 col1\" >-0.07</td>\n",
              "      <td id=\"T_18837_row3_col2\" class=\"data row3 col2\" >0.01</td>\n",
              "      <td id=\"T_18837_row3_col3\" class=\"data row3 col3\" >1.00</td>\n",
              "      <td id=\"T_18837_row3_col4\" class=\"data row3 col4\" >-0.05</td>\n",
              "    </tr>\n",
              "    <tr>\n",
              "      <th id=\"T_18837_level0_row4\" class=\"row_heading level0 row4\" >Item_Outlet_Sales</th>\n",
              "      <td id=\"T_18837_row4_col0\" class=\"data row4 col0\" >0.01</td>\n",
              "      <td id=\"T_18837_row4_col1\" class=\"data row4 col1\" >-0.13</td>\n",
              "      <td id=\"T_18837_row4_col2\" class=\"data row4 col2\" >0.57</td>\n",
              "      <td id=\"T_18837_row4_col3\" class=\"data row4 col3\" >-0.05</td>\n",
              "      <td id=\"T_18837_row4_col4\" class=\"data row4 col4\" >1.00</td>\n",
              "    </tr>\n",
              "  </tbody>\n",
              "</table>\n"
            ]
          },
          "metadata": {},
          "execution_count": 54
        }
      ],
      "source": [
        "klib.corr_mat(df_train) # returns a color-encoded correlation matrix\n"
      ],
      "id": "ne6UTSsP6Pmj"
    },
    {
      "cell_type": "code",
      "execution_count": null,
      "metadata": {
        "colab": {
          "base_uri": "https://localhost:8080/",
          "height": 1000
        },
        "id": "5G_owOUI6Pmk",
        "outputId": "957964d5-d488-4606-fcf9-d76c1300e48c"
      },
      "outputs": [
        {
          "output_type": "execute_result",
          "data": {
            "text/plain": [
              "<Axes: title={'center': 'Feature-correlation (pearson)'}>"
            ]
          },
          "metadata": {},
          "execution_count": 55
        },
        {
          "output_type": "display_data",
          "data": {
            "text/plain": [
              "<Figure size 1200x1000 with 2 Axes>"
            ],
            "image/png": "[encoded data removed]"
          },
          "metadata": {}
        }
      ],
      "source": [
        "klib.corr_plot(df_train) # returns a color-encoded heatmap, ideal for correlations\n"
      ],
      "id": "5G_owOUI6Pmk"
    },
    {
      "cell_type": "markdown",
      "source": [
        "#Task 41"
      ],
      "metadata": {
        "id": "tOYWyg12WdSv"
      },
      "id": "tOYWyg12WdSv"
    },
    {
      "cell_type": "markdown",
      "source": [
        "#Getting the numeric plot for every numeric distribution"
      ],
      "metadata": {
        "id": "SmV7L3Mzfj1P"
      },
      "id": "SmV7L3Mzfj1P"
    },
    {
      "cell_type": "code",
      "execution_count": null,
      "metadata": {
        "colab": {
          "base_uri": "https://localhost:8080/",
          "height": 323
        },
        "id": "Z_9MtJPu6Pml",
        "outputId": "bffe8f8c-e9e1-42b0-dcec-6ea183fe0d31"
      },
      "outputs": [
        {
          "output_type": "execute_result",
          "data": {
            "text/plain": [
              "<Axes: xlabel='Item_Weight', ylabel='Density'>"
            ]
          },
          "metadata": {},
          "execution_count": 56
        },
        {
          "output_type": "display_data",
          "data": {
            "text/plain": [
              "<Figure size 1500x300 with 1 Axes>"
            ],
            "image/png": "[encoded data removed]"
          },
          "metadata": {}
        }
      ],
      "source": [
        "klib.dist_plot(df_train) # returns a distribution plot for every numeric feature\n"
      ],
      "id": "Z_9MtJPu6Pml"
    },
    {
      "cell_type": "markdown",
      "source": [
        "The dataset comprises a total count of 8523 instances, indicating a considerable sample size. The distribution is centered around the mean point of 12.86, highlighting the dataset's central tendency. The standard deviation of 4.23 suggests a moderate degree of variability within the data. The skewness of 0.09 indicates a slight asymmetry, potentially leaning towards the right. The negative kurtosis value of -0.86 suggests a relatively flat and less peaked distribution compared to a normal distribution. Overall, these statistical measures provide insights into the central tendency, variability, and shape of the item weight distribution."
      ],
      "metadata": {
        "id": "S-KwAG8NgcTG"
      },
      "id": "S-KwAG8NgcTG"
    },
    {
      "cell_type": "markdown",
      "source": [
        "#Task 42"
      ],
      "metadata": {
        "id": "ieLUUHexWkdN"
      },
      "id": "ieLUUHexWkdN"
    },
    {
      "cell_type": "markdown",
      "source": [
        "#Checking for missing values"
      ],
      "metadata": {
        "id": "MZoKZoPThbUL"
      },
      "id": "MZoKZoPThbUL"
    },
    {
      "cell_type": "code",
      "execution_count": null,
      "metadata": {
        "colab": {
          "base_uri": "https://localhost:8080/"
        },
        "id": "kA_NQXnN6Pml",
        "outputId": "d3dd1dd1-23ef-45d7-b5e7-1509f5e2e102"
      },
      "outputs": [
        {
          "output_type": "stream",
          "name": "stdout",
          "text": [
            "No missing values found in the dataset.\n"
          ]
        }
      ],
      "source": [
        "klib.missingval_plot(df_train) # returns a figure containing information about missing values"
      ],
      "id": "kA_NQXnN6Pml"
    },
    {
      "cell_type": "markdown",
      "source": [
        "No missing value in the train data"
      ],
      "metadata": {
        "id": "Uai7TfJIhhI7"
      },
      "id": "Uai7TfJIhhI7"
    },
    {
      "cell_type": "markdown",
      "metadata": {
        "id": "4JLytFHH6Pmn"
      },
      "source": [
        "# Data Cleaning using Klib Library"
      ],
      "id": "4JLytFHH6Pmn"
    },
    {
      "cell_type": "markdown",
      "source": [
        "#Task 43"
      ],
      "metadata": {
        "id": "4xFi-9uwWqwe"
      },
      "id": "4xFi-9uwWqwe"
    },
    {
      "cell_type": "markdown",
      "source": [
        "# Cleaning the train data performs data cleaning (drop duplicates & empty rows/cols)"
      ],
      "metadata": {
        "id": "QoVRjZ6ChtZW"
      },
      "id": "QoVRjZ6ChtZW"
    },
    {
      "cell_type": "code",
      "execution_count": null,
      "metadata": {
        "colab": {
          "base_uri": "https://localhost:8080/",
          "height": 592
        },
        "id": "TCHeLQo16Pmn",
        "outputId": "fedebd49-6dd0-45ce-9a74-55b3aa1b99a3"
      },
      "outputs": [
        {
          "output_type": "stream",
          "name": "stdout",
          "text": [
            "Shape of cleaned data: (8523, 10) - Remaining NAs: 0\n",
            "\n",
            "\n",
            "Dropped rows: 0\n",
            "     of which 0 duplicates. (Rows (first 150 shown): [])\n",
            "\n",
            "Dropped columns: 0\n",
            "     of which 0 single valued.     Columns: []\n",
            "Dropped missing values: 0\n",
            "Reduced memory by at least: 0.46 MB (-70.77%)\n",
            "\n"
          ]
        },
        {
          "output_type": "execute_result",
          "data": {
            "text/plain": [
              "      item_weight item_fat_content  item_visibility              item_type  \\\n",
              "0        9.300000          Low Fat         0.016047                  Dairy   \n",
              "1        5.920000          Regular         0.019278            Soft Drinks   \n",
              "2       17.500000          Low Fat         0.016760                   Meat   \n",
              "3       19.200001          Regular         0.000000  Fruits and Vegetables   \n",
              "4        8.930000          Low Fat         0.000000              Household   \n",
              "...           ...              ...              ...                    ...   \n",
              "8518     6.865000          Low Fat         0.056783            Snack Foods   \n",
              "8519     8.380000          Regular         0.046982           Baking Goods   \n",
              "8520    10.600000          Low Fat         0.035186     Health and Hygiene   \n",
              "8521     7.210000          Regular         0.145221            Snack Foods   \n",
              "8522    14.800000          Low Fat         0.044878            Soft Drinks   \n",
              "\n",
              "        item_mrp  outlet_establishment_year outlet_size outlet_location_type  \\\n",
              "0     249.809204                       1999      Medium               Tier 1   \n",
              "1      48.269199                       2009      Medium               Tier 3   \n",
              "2     141.617996                       1999      Medium               Tier 1   \n",
              "3     182.095001                       1998      Medium               Tier 3   \n",
              "4      53.861401                       1987        High               Tier 3   \n",
              "...          ...                        ...         ...                  ...   \n",
              "8518  214.521805                       1987        High               Tier 3   \n",
              "8519  108.156998                       2002      Medium               Tier 2   \n",
              "8520   85.122398                       2004       Small               Tier 2   \n",
              "8521  103.133202                       2009      Medium               Tier 3   \n",
              "8522   75.467003                       1997       Small               Tier 1   \n",
              "\n",
              "            outlet_type  item_outlet_sales  \n",
              "0     Supermarket Type1        3735.137939  \n",
              "1     Supermarket Type2         443.422791  \n",
              "2     Supermarket Type1        2097.270020  \n",
              "3         Grocery Store         732.380005  \n",
              "4     Supermarket Type1         994.705200  \n",
              "...                 ...                ...  \n",
              "8518  Supermarket Type1        2778.383301  \n",
              "8519  Supermarket Type1         549.284973  \n",
              "8520  Supermarket Type1        1193.113647  \n",
              "8521  Supermarket Type2        1845.597656  \n",
              "8522  Supermarket Type1         765.669983  \n",
              "\n",
              "[8523 rows x 10 columns]"
            ],
            "text/html": [
              "\n",
              "  <div id=\"df-c205e0bb-afa7-41f5-8d04-279dfbad672d\" class=\"colab-df-container\">\n",
              "    <div>\n",
              "<style scoped>\n",
              "    .dataframe tbody tr th:only-of-type {\n",
              "        vertical-align: middle;\n",
              "    }\n",
              "\n",
              "    .dataframe tbody tr th {\n",
              "        vertical-align: top;\n",
              "    }\n",
              "\n",
              "    .dataframe thead th {\n",
              "        text-align: right;\n",
              "    }\n",
              "</style>\n",
              "<table border=\"1\" class=\"dataframe\">\n",
              "  <thead>\n",
              "    <tr style=\"text-align: right;\">\n",
              "      <th></th>\n",
              "      <th>item_weight</th>\n",
              "      <th>item_fat_content</th>\n",
              "      <th>item_visibility</th>\n",
              "      <th>item_type</th>\n",
              "      <th>item_mrp</th>\n",
              "      <th>outlet_establishment_year</th>\n",
              "      <th>outlet_size</th>\n",
              "      <th>outlet_location_type</th>\n",
              "      <th>outlet_type</th>\n",
              "      <th>item_outlet_sales</th>\n",
              "    </tr>\n",
              "  </thead>\n",
              "  <tbody>\n",
              "    <tr>\n",
              "      <th>0</th>\n",
              "      <td>9.300000</td>\n",
              "      <td>Low Fat</td>\n",
              "      <td>0.016047</td>\n",
              "      <td>Dairy</td>\n",
              "      <td>249.809204</td>\n",
              "      <td>1999</td>\n",
              "      <td>Medium</td>\n",
              "      <td>Tier 1</td>\n",
              "      <td>Supermarket Type1</td>\n",
              "      <td>3735.137939</td>\n",
              "    </tr>\n",
              "    <tr>\n",
              "      <th>1</th>\n",
              "      <td>5.920000</td>\n",
              "      <td>Regular</td>\n",
              "      <td>0.019278</td>\n",
              "      <td>Soft Drinks</td>\n",
              "      <td>48.269199</td>\n",
              "      <td>2009</td>\n",
              "      <td>Medium</td>\n",
              "      <td>Tier 3</td>\n",
              "      <td>Supermarket Type2</td>\n",
              "      <td>443.422791</td>\n",
              "    </tr>\n",
              "    <tr>\n",
              "      <th>2</th>\n",
              "      <td>17.500000</td>\n",
              "      <td>Low Fat</td>\n",
              "      <td>0.016760</td>\n",
              "      <td>Meat</td>\n",
              "      <td>141.617996</td>\n",
              "      <td>1999</td>\n",
              "      <td>Medium</td>\n",
              "      <td>Tier 1</td>\n",
              "      <td>Supermarket Type1</td>\n",
              "      <td>2097.270020</td>\n",
              "    </tr>\n",
              "    <tr>\n",
              "      <th>3</th>\n",
              "      <td>19.200001</td>\n",
              "      <td>Regular</td>\n",
              "      <td>0.000000</td>\n",
              "      <td>Fruits and Vegetables</td>\n",
              "      <td>182.095001</td>\n",
              "      <td>1998</td>\n",
              "      <td>Medium</td>\n",
              "      <td>Tier 3</td>\n",
              "      <td>Grocery Store</td>\n",
              "      <td>732.380005</td>\n",
              "    </tr>\n",
              "    <tr>\n",
              "      <th>4</th>\n",
              "      <td>8.930000</td>\n",
              "      <td>Low Fat</td>\n",
              "      <td>0.000000</td>\n",
              "      <td>Household</td>\n",
              "      <td>53.861401</td>\n",
              "      <td>1987</td>\n",
              "      <td>High</td>\n",
              "      <td>Tier 3</td>\n",
              "      <td>Supermarket Type1</td>\n",
              "      <td>994.705200</td>\n",
              "    </tr>\n",
              "    <tr>\n",
              "      <th>...</th>\n",
              "      <td>...</td>\n",
              "      <td>...</td>\n",
              "      <td>...</td>\n",
              "      <td>...</td>\n",
              "      <td>...</td>\n",
              "      <td>...</td>\n",
              "      <td>...</td>\n",
              "      <td>...</td>\n",
              "      <td>...</td>\n",
              "      <td>...</td>\n",
              "    </tr>\n",
              "    <tr>\n",
              "      <th>8518</th>\n",
              "      <td>6.865000</td>\n",
              "      <td>Low Fat</td>\n",
              "      <td>0.056783</td>\n",
              "      <td>Snack Foods</td>\n",
              "      <td>214.521805</td>\n",
              "      <td>1987</td>\n",
              "      <td>High</td>\n",
              "      <td>Tier 3</td>\n",
              "      <td>Supermarket Type1</td>\n",
              "      <td>2778.383301</td>\n",
              "    </tr>\n",
              "    <tr>\n",
              "      <th>8519</th>\n",
              "      <td>8.380000</td>\n",
              "      <td>Regular</td>\n",
              "      <td>0.046982</td>\n",
              "      <td>Baking Goods</td>\n",
              "      <td>108.156998</td>\n",
              "      <td>2002</td>\n",
              "      <td>Medium</td>\n",
              "      <td>Tier 2</td>\n",
              "      <td>Supermarket Type1</td>\n",
              "      <td>549.284973</td>\n",
              "    </tr>\n",
              "    <tr>\n",
              "      <th>8520</th>\n",
              "      <td>10.600000</td>\n",
              "      <td>Low Fat</td>\n",
              "      <td>0.035186</td>\n",
              "      <td>Health and Hygiene</td>\n",
              "      <td>85.122398</td>\n",
              "      <td>2004</td>\n",
              "      <td>Small</td>\n",
              "      <td>Tier 2</td>\n",
              "      <td>Supermarket Type1</td>\n",
              "      <td>1193.113647</td>\n",
              "    </tr>\n",
              "    <tr>\n",
              "      <th>8521</th>\n",
              "      <td>7.210000</td>\n",
              "      <td>Regular</td>\n",
              "      <td>0.145221</td>\n",
              "      <td>Snack Foods</td>\n",
              "      <td>103.133202</td>\n",
              "      <td>2009</td>\n",
              "      <td>Medium</td>\n",
              "      <td>Tier 3</td>\n",
              "      <td>Supermarket Type2</td>\n",
              "      <td>1845.597656</td>\n",
              "    </tr>\n",
              "    <tr>\n",
              "      <th>8522</th>\n",
              "      <td>14.800000</td>\n",
              "      <td>Low Fat</td>\n",
              "      <td>0.044878</td>\n",
              "      <td>Soft Drinks</td>\n",
              "      <td>75.467003</td>\n",
              "      <td>1997</td>\n",
              "      <td>Small</td>\n",
              "      <td>Tier 1</td>\n",
              "      <td>Supermarket Type1</td>\n",
              "      <td>765.669983</td>\n",
              "    </tr>\n",
              "  </tbody>\n",
              "</table>\n",
              "<p>8523 rows × 10 columns</p>\n",
              "</div>\n",
              "    <div class=\"colab-df-buttons\">\n",
              "\n",
              "  <div class=\"colab-df-container\">\n",
              "    <button class=\"colab-df-convert\" onclick=\"convertToInteractive('df-c205e0bb-afa7-41f5-8d04-279dfbad672d')\"\n",
              "            title=\"Convert this dataframe to an interactive table.\"\n",
              "            style=\"display:none;\">\n",
              "\n",
              "  <svg xmlns=\"http://www.w3.org/2000/svg\" height=\"24px\" viewBox=\"0 -960 960 960\">\n",
              "    <path d=\"M120-120v-720h720v720H120Zm60-500h600v-160H180v160Zm220 220h160v-160H400v160Zm0 220h160v-160H400v160ZM180-400h160v-160H180v160Zm440 0h160v-160H620v160ZM180-180h160v-160H180v160Zm440 0h160v-160H620v160Z\"/>\n",
              "  </svg>\n",
              "    </button>\n",
              "\n",
              "  <style>\n",
              "    .colab-df-container {\n",
              "      display:flex;\n",
              "      gap: 12px;\n",
              "    }\n",
              "\n",
              "    .colab-df-convert {\n",
              "      background-color: #E8F0FE;\n",
              "      border: none;\n",
              "      border-radius: 50%;\n",
              "      cursor: pointer;\n",
              "      display: none;\n",
              "      fill: #1967D2;\n",
              "      height: 32px;\n",
              "      padding: 0 0 0 0;\n",
              "      width: 32px;\n",
              "    }\n",
              "\n",
              "    .colab-df-convert:hover {\n",
              "      background-color: #E2EBFA;\n",
              "      box-shadow: 0px 1px 2px rgba(60, 64, 67, 0.3), 0px 1px 3px 1px rgba(60, 64, 67, 0.15);\n",
              "      fill: #174EA6;\n",
              "    }\n",
              "\n",
              "    .colab-df-buttons div {\n",
              "      margin-bottom: 4px;\n",
              "    }\n",
              "\n",
              "    [theme=dark] .colab-df-convert {\n",
              "      background-color: #3B4455;\n",
              "      fill: #D2E3FC;\n",
              "    }\n",
              "\n",
              "    [theme=dark] .colab-df-convert:hover {\n",
              "      background-color: #434B5C;\n",
              "      box-shadow: 0px 1px 3px 1px rgba(0, 0, 0, 0.15);\n",
              "      filter: drop-shadow(0px 1px 2px rgba(0, 0, 0, 0.3));\n",
              "      fill: #FFFFFF;\n",
              "    }\n",
              "  </style>\n",
              "\n",
              "    <script>\n",
              "      const buttonEl =\n",
              "        document.querySelector('#df-c205e0bb-afa7-41f5-8d04-279dfbad672d button.colab-df-convert');\n",
              "      buttonEl.style.display =\n",
              "        google.colab.kernel.accessAllowed ? 'block' : 'none';\n",
              "\n",
              "      async function convertToInteractive(key) {\n",
              "        const element = document.querySelector('#df-c205e0bb-afa7-41f5-8d04-279dfbad672d');\n",
              "        const dataTable =\n",
              "          await google.colab.kernel.invokeFunction('convertToInteractive',\n",
              "                                                    [key], {});\n",
              "        if (!dataTable) return;\n",
              "\n",
              "        const docLinkHtml = 'Like what you see? Visit the ' +\n",
              "          '<a target=\"_blank\" href=https://colab.research.google.com/notebooks/data_table.ipynb>data table notebook</a>'\n",
              "          + ' to learn more about interactive tables.';\n",
              "        element.innerHTML = '';\n",
              "        dataTable['output_type'] = 'display_data';\n",
              "        await google.colab.output.renderOutput(dataTable, element);\n",
              "        const docLink = document.createElement('div');\n",
              "        docLink.innerHTML = docLinkHtml;\n",
              "        element.appendChild(docLink);\n",
              "      }\n",
              "    </script>\n",
              "  </div>\n",
              "\n",
              "\n",
              "<div id=\"df-3eb1464c-30f0-48f1-9423-f07769cd0c8d\">\n",
              "  <button class=\"colab-df-quickchart\" onclick=\"quickchart('df-3eb1464c-30f0-48f1-9423-f07769cd0c8d')\"\n",
              "            title=\"Suggest charts\"\n",
              "            style=\"display:none;\">\n",
              "\n",
              "<svg xmlns=\"http://www.w3.org/2000/svg\" height=\"24px\"viewBox=\"0 0 24 24\"\n",
              "     width=\"24px\">\n",
              "    <g>\n",
              "        <path d=\"M19 3H5c-1.1 0-2 .9-2 2v14c0 1.1.9 2 2 2h14c1.1 0 2-.9 2-2V5c0-1.1-.9-2-2-2zM9 17H7v-7h2v7zm4 0h-2V7h2v10zm4 0h-2v-4h2v4z\"/>\n",
              "    </g>\n",
              "</svg>\n",
              "  </button>\n",
              "\n",
              "<style>\n",
              "  .colab-df-quickchart {\n",
              "      --bg-color: #E8F0FE;\n",
              "      --fill-color: #1967D2;\n",
              "      --hover-bg-color: #E2EBFA;\n",
              "      --hover-fill-color: #174EA6;\n",
              "      --disabled-fill-color: #AAA;\n",
              "      --disabled-bg-color: #DDD;\n",
              "  }\n",
              "\n",
              "  [theme=dark] .colab-df-quickchart {\n",
              "      --bg-color: #3B4455;\n",
              "      --fill-color: #D2E3FC;\n",
              "      --hover-bg-color: #434B5C;\n",
              "      --hover-fill-color: #FFFFFF;\n",
              "      --disabled-bg-color: #3B4455;\n",
              "      --disabled-fill-color: #666;\n",
              "  }\n",
              "\n",
              "  .colab-df-quickchart {\n",
              "    background-color: var(--bg-color);\n",
              "    border: none;\n",
              "    border-radius: 50%;\n",
              "    cursor: pointer;\n",
              "    display: none;\n",
              "    fill: var(--fill-color);\n",
              "    height: 32px;\n",
              "    padding: 0;\n",
              "    width: 32px;\n",
              "  }\n",
              "\n",
              "  .colab-df-quickchart:hover {\n",
              "    background-color: var(--hover-bg-color);\n",
              "    box-shadow: 0 1px 2px rgba(60, 64, 67, 0.3), 0 1px 3px 1px rgba(60, 64, 67, 0.15);\n",
              "    fill: var(--button-hover-fill-color);\n",
              "  }\n",
              "\n",
              "  .colab-df-quickchart-complete:disabled,\n",
              "  .colab-df-quickchart-complete:disabled:hover {\n",
              "    background-color: var(--disabled-bg-color);\n",
              "    fill: var(--disabled-fill-color);\n",
              "    box-shadow: none;\n",
              "  }\n",
              "\n",
              "  .colab-df-spinner {\n",
              "    border: 2px solid var(--fill-color);\n",
              "    border-color: transparent;\n",
              "    border-bottom-color: var(--fill-color);\n",
              "    animation:\n",
              "      spin 1s steps(1) infinite;\n",
              "  }\n",
              "\n",
              "  @keyframes spin {\n",
              "    0% {\n",
              "      border-color: transparent;\n",
              "      border-bottom-color: var(--fill-color);\n",
              "      border-left-color: var(--fill-color);\n",
              "    }\n",
              "    20% {\n",
              "      border-color: transparent;\n",
              "      border-left-color: var(--fill-color);\n",
              "      border-top-color: var(--fill-color);\n",
              "    }\n",
              "    30% {\n",
              "      border-color: transparent;\n",
              "      border-left-color: var(--fill-color);\n",
              "      border-top-color: var(--fill-color);\n",
              "      border-right-color: var(--fill-color);\n",
              "    }\n",
              "    40% {\n",
              "      border-color: transparent;\n",
              "      border-right-color: var(--fill-color);\n",
              "      border-top-color: var(--fill-color);\n",
              "    }\n",
              "    60% {\n",
              "      border-color: transparent;\n",
              "      border-right-color: var(--fill-color);\n",
              "    }\n",
              "    80% {\n",
              "      border-color: transparent;\n",
              "      border-right-color: var(--fill-color);\n",
              "      border-bottom-color: var(--fill-color);\n",
              "    }\n",
              "    90% {\n",
              "      border-color: transparent;\n",
              "      border-bottom-color: var(--fill-color);\n",
              "    }\n",
              "  }\n",
              "</style>\n",
              "\n",
              "  <script>\n",
              "    async function quickchart(key) {\n",
              "      const quickchartButtonEl =\n",
              "        document.querySelector('#' + key + ' button');\n",
              "      quickchartButtonEl.disabled = true;  // To prevent multiple clicks.\n",
              "      quickchartButtonEl.classList.add('colab-df-spinner');\n",
              "      try {\n",
              "        const charts = await google.colab.kernel.invokeFunction(\n",
              "            'suggestCharts', [key], {});\n",
              "      } catch (error) {\n",
              "        console.error('Error during call to suggestCharts:', error);\n",
              "      }\n",
              "      quickchartButtonEl.classList.remove('colab-df-spinner');\n",
              "      quickchartButtonEl.classList.add('colab-df-quickchart-complete');\n",
              "    }\n",
              "    (() => {\n",
              "      let quickchartButtonEl =\n",
              "        document.querySelector('#df-3eb1464c-30f0-48f1-9423-f07769cd0c8d button');\n",
              "      quickchartButtonEl.style.display =\n",
              "        google.colab.kernel.accessAllowed ? 'block' : 'none';\n",
              "    })();\n",
              "  </script>\n",
              "</div>\n",
              "    </div>\n",
              "  </div>\n"
            ]
          },
          "metadata": {},
          "execution_count": 59
        }
      ],
      "source": [
        "# klib.clean - functions for cleaning datasets\n",
        "klib.data_cleaning(df_train)\n"
      ],
      "id": "TCHeLQo16Pmn"
    },
    {
      "cell_type": "markdown",
      "source": [
        "#Cleaning the test data performs data cleaning (drop duplicates & empty rows/cols)"
      ],
      "metadata": {
        "id": "VbV_IYK6iIwK"
      },
      "id": "VbV_IYK6iIwK"
    },
    {
      "cell_type": "code",
      "execution_count": null,
      "metadata": {
        "colab": {
          "base_uri": "https://localhost:8080/",
          "height": 592
        },
        "id": "L6csKEAC6Pmo",
        "outputId": "3d6c526a-1659-4c45-ed7d-2639022b3e56"
      },
      "outputs": [
        {
          "output_type": "stream",
          "name": "stdout",
          "text": [
            "Shape of cleaned data: (5681, 9) - Remaining NAs: 0\n",
            "\n",
            "\n",
            "Dropped rows: 0\n",
            "     of which 0 duplicates. (Rows (first 150 shown): [])\n",
            "\n",
            "Dropped columns: 0\n",
            "     of which 0 single valued.     Columns: []\n",
            "Dropped missing values: 0\n",
            "Reduced memory by at least: 0.29 MB (-74.36%)\n",
            "\n"
          ]
        },
        {
          "output_type": "execute_result",
          "data": {
            "text/plain": [
              "      item_weight item_fat_content  item_visibility           item_type  \\\n",
              "0       20.750000          Low Fat         0.007565         Snack Foods   \n",
              "1        8.300000              reg         0.038428               Dairy   \n",
              "2       14.600000          Low Fat         0.099575              Others   \n",
              "3        7.315000          Low Fat         0.015388         Snack Foods   \n",
              "4       12.695633          Regular         0.118599               Dairy   \n",
              "...           ...              ...              ...                 ...   \n",
              "5676    10.500000          Regular         0.013496         Snack Foods   \n",
              "5677     7.600000          Regular         0.142991       Starchy Foods   \n",
              "5678    10.000000          Low Fat         0.073529  Health and Hygiene   \n",
              "5679    15.300000          Regular         0.000000              Canned   \n",
              "5680     9.500000          Regular         0.104720              Canned   \n",
              "\n",
              "        item_mrp  outlet_establishment_year outlet_size outlet_location_type  \\\n",
              "0     107.862198                       1999      Medium               Tier 1   \n",
              "1      87.319801                       2007      Medium               Tier 2   \n",
              "2     241.753799                       1998      Medium               Tier 3   \n",
              "3     155.033997                       2007      Medium               Tier 2   \n",
              "4     234.229996                       1985      Medium               Tier 3   \n",
              "...          ...                        ...         ...                  ...   \n",
              "5676  141.315399                       1997       Small               Tier 1   \n",
              "5677  169.144806                       2009      Medium               Tier 3   \n",
              "5678  118.744003                       2002      Medium               Tier 2   \n",
              "5679  214.621796                       2007      Medium               Tier 2   \n",
              "5680   79.795998                       2002      Medium               Tier 2   \n",
              "\n",
              "            outlet_type  \n",
              "0     Supermarket Type1  \n",
              "1     Supermarket Type1  \n",
              "2         Grocery Store  \n",
              "3     Supermarket Type1  \n",
              "4     Supermarket Type3  \n",
              "...                 ...  \n",
              "5676  Supermarket Type1  \n",
              "5677  Supermarket Type2  \n",
              "5678  Supermarket Type1  \n",
              "5679  Supermarket Type1  \n",
              "5680  Supermarket Type1  \n",
              "\n",
              "[5681 rows x 9 columns]"
            ],
            "text/html": [
              "\n",
              "  <div id=\"df-b76db517-3717-4f97-ad9c-6a54cd66585a\" class=\"colab-df-container\">\n",
              "    <div>\n",
              "<style scoped>\n",
              "    .dataframe tbody tr th:only-of-type {\n",
              "        vertical-align: middle;\n",
              "    }\n",
              "\n",
              "    .dataframe tbody tr th {\n",
              "        vertical-align: top;\n",
              "    }\n",
              "\n",
              "    .dataframe thead th {\n",
              "        text-align: right;\n",
              "    }\n",
              "</style>\n",
              "<table border=\"1\" class=\"dataframe\">\n",
              "  <thead>\n",
              "    <tr style=\"text-align: right;\">\n",
              "      <th></th>\n",
              "      <th>item_weight</th>\n",
              "      <th>item_fat_content</th>\n",
              "      <th>item_visibility</th>\n",
              "      <th>item_type</th>\n",
              "      <th>item_mrp</th>\n",
              "      <th>outlet_establishment_year</th>\n",
              "      <th>outlet_size</th>\n",
              "      <th>outlet_location_type</th>\n",
              "      <th>outlet_type</th>\n",
              "    </tr>\n",
              "  </thead>\n",
              "  <tbody>\n",
              "    <tr>\n",
              "      <th>0</th>\n",
              "      <td>20.750000</td>\n",
              "      <td>Low Fat</td>\n",
              "      <td>0.007565</td>\n",
              "      <td>Snack Foods</td>\n",
              "      <td>107.862198</td>\n",
              "      <td>1999</td>\n",
              "      <td>Medium</td>\n",
              "      <td>Tier 1</td>\n",
              "      <td>Supermarket Type1</td>\n",
              "    </tr>\n",
              "    <tr>\n",
              "      <th>1</th>\n",
              "      <td>8.300000</td>\n",
              "      <td>reg</td>\n",
              "      <td>0.038428</td>\n",
              "      <td>Dairy</td>\n",
              "      <td>87.319801</td>\n",
              "      <td>2007</td>\n",
              "      <td>Medium</td>\n",
              "      <td>Tier 2</td>\n",
              "      <td>Supermarket Type1</td>\n",
              "    </tr>\n",
              "    <tr>\n",
              "      <th>2</th>\n",
              "      <td>14.600000</td>\n",
              "      <td>Low Fat</td>\n",
              "      <td>0.099575</td>\n",
              "      <td>Others</td>\n",
              "      <td>241.753799</td>\n",
              "      <td>1998</td>\n",
              "      <td>Medium</td>\n",
              "      <td>Tier 3</td>\n",
              "      <td>Grocery Store</td>\n",
              "    </tr>\n",
              "    <tr>\n",
              "      <th>3</th>\n",
              "      <td>7.315000</td>\n",
              "      <td>Low Fat</td>\n",
              "      <td>0.015388</td>\n",
              "      <td>Snack Foods</td>\n",
              "      <td>155.033997</td>\n",
              "      <td>2007</td>\n",
              "      <td>Medium</td>\n",
              "      <td>Tier 2</td>\n",
              "      <td>Supermarket Type1</td>\n",
              "    </tr>\n",
              "    <tr>\n",
              "      <th>4</th>\n",
              "      <td>12.695633</td>\n",
              "      <td>Regular</td>\n",
              "      <td>0.118599</td>\n",
              "      <td>Dairy</td>\n",
              "      <td>234.229996</td>\n",
              "      <td>1985</td>\n",
              "      <td>Medium</td>\n",
              "      <td>Tier 3</td>\n",
              "      <td>Supermarket Type3</td>\n",
              "    </tr>\n",
              "    <tr>\n",
              "      <th>...</th>\n",
              "      <td>...</td>\n",
              "      <td>...</td>\n",
              "      <td>...</td>\n",
              "      <td>...</td>\n",
              "      <td>...</td>\n",
              "      <td>...</td>\n",
              "      <td>...</td>\n",
              "      <td>...</td>\n",
              "      <td>...</td>\n",
              "    </tr>\n",
              "    <tr>\n",
              "      <th>5676</th>\n",
              "      <td>10.500000</td>\n",
              "      <td>Regular</td>\n",
              "      <td>0.013496</td>\n",
              "      <td>Snack Foods</td>\n",
              "      <td>141.315399</td>\n",
              "      <td>1997</td>\n",
              "      <td>Small</td>\n",
              "      <td>Tier 1</td>\n",
              "      <td>Supermarket Type1</td>\n",
              "    </tr>\n",
              "    <tr>\n",
              "      <th>5677</th>\n",
              "      <td>7.600000</td>\n",
              "      <td>Regular</td>\n",
              "      <td>0.142991</td>\n",
              "      <td>Starchy Foods</td>\n",
              "      <td>169.144806</td>\n",
              "      <td>2009</td>\n",
              "      <td>Medium</td>\n",
              "      <td>Tier 3</td>\n",
              "      <td>Supermarket Type2</td>\n",
              "    </tr>\n",
              "    <tr>\n",
              "      <th>5678</th>\n",
              "      <td>10.000000</td>\n",
              "      <td>Low Fat</td>\n",
              "      <td>0.073529</td>\n",
              "      <td>Health and Hygiene</td>\n",
              "      <td>118.744003</td>\n",
              "      <td>2002</td>\n",
              "      <td>Medium</td>\n",
              "      <td>Tier 2</td>\n",
              "      <td>Supermarket Type1</td>\n",
              "    </tr>\n",
              "    <tr>\n",
              "      <th>5679</th>\n",
              "      <td>15.300000</td>\n",
              "      <td>Regular</td>\n",
              "      <td>0.000000</td>\n",
              "      <td>Canned</td>\n",
              "      <td>214.621796</td>\n",
              "      <td>2007</td>\n",
              "      <td>Medium</td>\n",
              "      <td>Tier 2</td>\n",
              "      <td>Supermarket Type1</td>\n",
              "    </tr>\n",
              "    <tr>\n",
              "      <th>5680</th>\n",
              "      <td>9.500000</td>\n",
              "      <td>Regular</td>\n",
              "      <td>0.104720</td>\n",
              "      <td>Canned</td>\n",
              "      <td>79.795998</td>\n",
              "      <td>2002</td>\n",
              "      <td>Medium</td>\n",
              "      <td>Tier 2</td>\n",
              "      <td>Supermarket Type1</td>\n",
              "    </tr>\n",
              "  </tbody>\n",
              "</table>\n",
              "<p>5681 rows × 9 columns</p>\n",
              "</div>\n",
              "    <div class=\"colab-df-buttons\">\n",
              "\n",
              "  <div class=\"colab-df-container\">\n",
              "    <button class=\"colab-df-convert\" onclick=\"convertToInteractive('df-b76db517-3717-4f97-ad9c-6a54cd66585a')\"\n",
              "            title=\"Convert this dataframe to an interactive table.\"\n",
              "            style=\"display:none;\">\n",
              "\n",
              "  <svg xmlns=\"http://www.w3.org/2000/svg\" height=\"24px\" viewBox=\"0 -960 960 960\">\n",
              "    <path d=\"M120-120v-720h720v720H120Zm60-500h600v-160H180v160Zm220 220h160v-160H400v160Zm0 220h160v-160H400v160ZM180-400h160v-160H180v160Zm440 0h160v-160H620v160ZM180-180h160v-160H180v160Zm440 0h160v-160H620v160Z\"/>\n",
              "  </svg>\n",
              "    </button>\n",
              "\n",
              "  <style>\n",
              "    .colab-df-container {\n",
              "      display:flex;\n",
              "      gap: 12px;\n",
              "    }\n",
              "\n",
              "    .colab-df-convert {\n",
              "      background-color: #E8F0FE;\n",
              "      border: none;\n",
              "      border-radius: 50%;\n",
              "      cursor: pointer;\n",
              "      display: none;\n",
              "      fill: #1967D2;\n",
              "      height: 32px;\n",
              "      padding: 0 0 0 0;\n",
              "      width: 32px;\n",
              "    }\n",
              "\n",
              "    .colab-df-convert:hover {\n",
              "      background-color: #E2EBFA;\n",
              "      box-shadow: 0px 1px 2px rgba(60, 64, 67, 0.3), 0px 1px 3px 1px rgba(60, 64, 67, 0.15);\n",
              "      fill: #174EA6;\n",
              "    }\n",
              "\n",
              "    .colab-df-buttons div {\n",
              "      margin-bottom: 4px;\n",
              "    }\n",
              "\n",
              "    [theme=dark] .colab-df-convert {\n",
              "      background-color: #3B4455;\n",
              "      fill: #D2E3FC;\n",
              "    }\n",
              "\n",
              "    [theme=dark] .colab-df-convert:hover {\n",
              "      background-color: #434B5C;\n",
              "      box-shadow: 0px 1px 3px 1px rgba(0, 0, 0, 0.15);\n",
              "      filter: drop-shadow(0px 1px 2px rgba(0, 0, 0, 0.3));\n",
              "      fill: #FFFFFF;\n",
              "    }\n",
              "  </style>\n",
              "\n",
              "    <script>\n",
              "      const buttonEl =\n",
              "        document.querySelector('#df-b76db517-3717-4f97-ad9c-6a54cd66585a button.colab-df-convert');\n",
              "      buttonEl.style.display =\n",
              "        google.colab.kernel.accessAllowed ? 'block' : 'none';\n",
              "\n",
              "      async function convertToInteractive(key) {\n",
              "        const element = document.querySelector('#df-b76db517-3717-4f97-ad9c-6a54cd66585a');\n",
              "        const dataTable =\n",
              "          await google.colab.kernel.invokeFunction('convertToInteractive',\n",
              "                                                    [key], {});\n",
              "        if (!dataTable) return;\n",
              "\n",
              "        const docLinkHtml = 'Like what you see? Visit the ' +\n",
              "          '<a target=\"_blank\" href=https://colab.research.google.com/notebooks/data_table.ipynb>data table notebook</a>'\n",
              "          + ' to learn more about interactive tables.';\n",
              "        element.innerHTML = '';\n",
              "        dataTable['output_type'] = 'display_data';\n",
              "        await google.colab.output.renderOutput(dataTable, element);\n",
              "        const docLink = document.createElement('div');\n",
              "        docLink.innerHTML = docLinkHtml;\n",
              "        element.appendChild(docLink);\n",
              "      }\n",
              "    </script>\n",
              "  </div>\n",
              "\n",
              "\n",
              "<div id=\"df-28c3a064-137c-47d1-b0b0-ea3c62e479bc\">\n",
              "  <button class=\"colab-df-quickchart\" onclick=\"quickchart('df-28c3a064-137c-47d1-b0b0-ea3c62e479bc')\"\n",
              "            title=\"Suggest charts\"\n",
              "            style=\"display:none;\">\n",
              "\n",
              "<svg xmlns=\"http://www.w3.org/2000/svg\" height=\"24px\"viewBox=\"0 0 24 24\"\n",
              "     width=\"24px\">\n",
              "    <g>\n",
              "        <path d=\"M19 3H5c-1.1 0-2 .9-2 2v14c0 1.1.9 2 2 2h14c1.1 0 2-.9 2-2V5c0-1.1-.9-2-2-2zM9 17H7v-7h2v7zm4 0h-2V7h2v10zm4 0h-2v-4h2v4z\"/>\n",
              "    </g>\n",
              "</svg>\n",
              "  </button>\n",
              "\n",
              "<style>\n",
              "  .colab-df-quickchart {\n",
              "      --bg-color: #E8F0FE;\n",
              "      --fill-color: #1967D2;\n",
              "      --hover-bg-color: #E2EBFA;\n",
              "      --hover-fill-color: #174EA6;\n",
              "      --disabled-fill-color: #AAA;\n",
              "      --disabled-bg-color: #DDD;\n",
              "  }\n",
              "\n",
              "  [theme=dark] .colab-df-quickchart {\n",
              "      --bg-color: #3B4455;\n",
              "      --fill-color: #D2E3FC;\n",
              "      --hover-bg-color: #434B5C;\n",
              "      --hover-fill-color: #FFFFFF;\n",
              "      --disabled-bg-color: #3B4455;\n",
              "      --disabled-fill-color: #666;\n",
              "  }\n",
              "\n",
              "  .colab-df-quickchart {\n",
              "    background-color: var(--bg-color);\n",
              "    border: none;\n",
              "    border-radius: 50%;\n",
              "    cursor: pointer;\n",
              "    display: none;\n",
              "    fill: var(--fill-color);\n",
              "    height: 32px;\n",
              "    padding: 0;\n",
              "    width: 32px;\n",
              "  }\n",
              "\n",
              "  .colab-df-quickchart:hover {\n",
              "    background-color: var(--hover-bg-color);\n",
              "    box-shadow: 0 1px 2px rgba(60, 64, 67, 0.3), 0 1px 3px 1px rgba(60, 64, 67, 0.15);\n",
              "    fill: var(--button-hover-fill-color);\n",
              "  }\n",
              "\n",
              "  .colab-df-quickchart-complete:disabled,\n",
              "  .colab-df-quickchart-complete:disabled:hover {\n",
              "    background-color: var(--disabled-bg-color);\n",
              "    fill: var(--disabled-fill-color);\n",
              "    box-shadow: none;\n",
              "  }\n",
              "\n",
              "  .colab-df-spinner {\n",
              "    border: 2px solid var(--fill-color);\n",
              "    border-color: transparent;\n",
              "    border-bottom-color: var(--fill-color);\n",
              "    animation:\n",
              "      spin 1s steps(1) infinite;\n",
              "  }\n",
              "\n",
              "  @keyframes spin {\n",
              "    0% {\n",
              "      border-color: transparent;\n",
              "      border-bottom-color: var(--fill-color);\n",
              "      border-left-color: var(--fill-color);\n",
              "    }\n",
              "    20% {\n",
              "      border-color: transparent;\n",
              "      border-left-color: var(--fill-color);\n",
              "      border-top-color: var(--fill-color);\n",
              "    }\n",
              "    30% {\n",
              "      border-color: transparent;\n",
              "      border-left-color: var(--fill-color);\n",
              "      border-top-color: var(--fill-color);\n",
              "      border-right-color: var(--fill-color);\n",
              "    }\n",
              "    40% {\n",
              "      border-color: transparent;\n",
              "      border-right-color: var(--fill-color);\n",
              "      border-top-color: var(--fill-color);\n",
              "    }\n",
              "    60% {\n",
              "      border-color: transparent;\n",
              "      border-right-color: var(--fill-color);\n",
              "    }\n",
              "    80% {\n",
              "      border-color: transparent;\n",
              "      border-right-color: var(--fill-color);\n",
              "      border-bottom-color: var(--fill-color);\n",
              "    }\n",
              "    90% {\n",
              "      border-color: transparent;\n",
              "      border-bottom-color: var(--fill-color);\n",
              "    }\n",
              "  }\n",
              "</style>\n",
              "\n",
              "  <script>\n",
              "    async function quickchart(key) {\n",
              "      const quickchartButtonEl =\n",
              "        document.querySelector('#' + key + ' button');\n",
              "      quickchartButtonEl.disabled = true;  // To prevent multiple clicks.\n",
              "      quickchartButtonEl.classList.add('colab-df-spinner');\n",
              "      try {\n",
              "        const charts = await google.colab.kernel.invokeFunction(\n",
              "            'suggestCharts', [key], {});\n",
              "      } catch (error) {\n",
              "        console.error('Error during call to suggestCharts:', error);\n",
              "      }\n",
              "      quickchartButtonEl.classList.remove('colab-df-spinner');\n",
              "      quickchartButtonEl.classList.add('colab-df-quickchart-complete');\n",
              "    }\n",
              "    (() => {\n",
              "      let quickchartButtonEl =\n",
              "        document.querySelector('#df-28c3a064-137c-47d1-b0b0-ea3c62e479bc button');\n",
              "      quickchartButtonEl.style.display =\n",
              "        google.colab.kernel.accessAllowed ? 'block' : 'none';\n",
              "    })();\n",
              "  </script>\n",
              "</div>\n",
              "    </div>\n",
              "  </div>\n"
            ]
          },
          "metadata": {},
          "execution_count": 60
        }
      ],
      "source": [
        "klib.data_cleaning(df_test)"
      ],
      "id": "L6csKEAC6Pmo"
    },
    {
      "cell_type": "markdown",
      "source": [
        "Our data is totally clean"
      ],
      "metadata": {
        "id": "axjfaNBdiRhp"
      },
      "id": "axjfaNBdiRhp"
    },
    {
      "cell_type": "code",
      "execution_count": null,
      "metadata": {
        "colab": {
          "base_uri": "https://localhost:8080/"
        },
        "id": "tXl6I-A76Pmq",
        "outputId": "a9c52b96-796e-49e7-c629-91716c86859a"
      },
      "outputs": [
        {
          "output_type": "stream",
          "name": "stdout",
          "text": [
            "<class 'pandas.core.frame.DataFrame'>\n",
            "RangeIndex: 8523 entries, 0 to 8522\n",
            "Data columns (total 10 columns):\n",
            " #   Column                     Non-Null Count  Dtype  \n",
            "---  ------                     --------------  -----  \n",
            " 0   Item_Weight                8523 non-null   float64\n",
            " 1   Item_Fat_Content           8523 non-null   object \n",
            " 2   Item_Visibility            8523 non-null   float64\n",
            " 3   Item_Type                  8523 non-null   object \n",
            " 4   Item_MRP                   8523 non-null   float64\n",
            " 5   Outlet_Establishment_Year  8523 non-null   int64  \n",
            " 6   Outlet_Size                8523 non-null   object \n",
            " 7   Outlet_Location_Type       8523 non-null   object \n",
            " 8   Outlet_Type                8523 non-null   object \n",
            " 9   Item_Outlet_Sales          8523 non-null   float64\n",
            "dtypes: float64(4), int64(1), object(5)\n",
            "memory usage: 666.0+ KB\n"
          ]
        }
      ],
      "source": [
        "df_train.info()"
      ],
      "id": "tXl6I-A76Pmq"
    },
    {
      "cell_type": "markdown",
      "source": [
        "Convert datatype from object to category"
      ],
      "metadata": {
        "id": "MdDuMzxmw3qt"
      },
      "id": "MdDuMzxmw3qt"
    },
    {
      "cell_type": "markdown",
      "source": [
        "#Task 44"
      ],
      "metadata": {
        "id": "7FNWnmz3XcVu"
      },
      "id": "7FNWnmz3XcVu"
    },
    {
      "cell_type": "markdown",
      "source": [
        "# converts existing to more efficient dtypes, also called inside data_cleaning"
      ],
      "metadata": {
        "id": "Y3NaIwQjiulN"
      },
      "id": "Y3NaIwQjiulN"
    },
    {
      "cell_type": "code",
      "execution_count": null,
      "metadata": {
        "colab": {
          "base_uri": "https://localhost:8080/"
        },
        "id": "REK1GHBe6Pmq",
        "outputId": "1edad1c7-0c43-4894-9d91-69db06b05071"
      },
      "outputs": [
        {
          "output_type": "stream",
          "name": "stdout",
          "text": [
            "<class 'pandas.core.frame.DataFrame'>\n",
            "RangeIndex: 8523 entries, 0 to 8522\n",
            "Data columns (total 10 columns):\n",
            " #   Column                     Non-Null Count  Dtype   \n",
            "---  ------                     --------------  -----   \n",
            " 0   Item_Weight                8523 non-null   float32 \n",
            " 1   Item_Fat_Content           8523 non-null   category\n",
            " 2   Item_Visibility            8523 non-null   float32 \n",
            " 3   Item_Type                  8523 non-null   category\n",
            " 4   Item_MRP                   8523 non-null   float32 \n",
            " 5   Outlet_Establishment_Year  8523 non-null   int16   \n",
            " 6   Outlet_Size                8523 non-null   category\n",
            " 7   Outlet_Location_Type       8523 non-null   category\n",
            " 8   Outlet_Type                8523 non-null   category\n",
            " 9   Item_Outlet_Sales          8523 non-null   float32 \n",
            "dtypes: category(5), float32(4), int16(1)\n",
            "memory usage: 192.9 KB\n"
          ]
        }
      ],
      "source": [
        "df_train=klib.convert_datatypes(df_train)\n",
        "df_train.info()"
      ],
      "id": "REK1GHBe6Pmq"
    },
    {
      "cell_type": "markdown",
      "source": [
        "# Preprocessing Task before Model Building"
      ],
      "metadata": {
        "id": "sFEYzuAdSstH"
      },
      "id": "sFEYzuAdSstH"
    },
    {
      "cell_type": "markdown",
      "metadata": {
        "id": "g6crb-Eq6Pmt"
      },
      "source": [
        "## 1) Label Encoding"
      ],
      "id": "g6crb-Eq6Pmt"
    },
    {
      "cell_type": "markdown",
      "source": [
        "#Task 45"
      ],
      "metadata": {
        "id": "UUABX-q2Xnh-"
      },
      "id": "UUABX-q2Xnh-"
    },
    {
      "cell_type": "markdown",
      "source": [
        "#I am using Linear Regression Model, so i convert all the categorical values to numerical values"
      ],
      "metadata": {
        "id": "EYFOYakXjFp8"
      },
      "id": "EYFOYakXjFp8"
    },
    {
      "cell_type": "code",
      "source": [
        "from sklearn.preprocessing import LabelEncoder\n",
        "le=LabelEncoder()"
      ],
      "metadata": {
        "id": "NdeXniJ4TLz4"
      },
      "id": "NdeXniJ4TLz4",
      "execution_count": null,
      "outputs": []
    },
    {
      "cell_type": "code",
      "execution_count": null,
      "metadata": {
        "id": "m0B14S0H6Pmu"
      },
      "outputs": [],
      "source": [
        "df_train['Item_Fat_Content']= le.fit_transform(df_train['Item_Fat_Content'])\n",
        "df_train['Item_Type']= le.fit_transform(df_train['Item_Type'])\n",
        "df_train['Outlet_Size']= le.fit_transform(df_train['Outlet_Size'])\n",
        "df_train['Outlet_Location_Type']= le.fit_transform(df_train['Outlet_Location_Type'])\n",
        "df_train['Outlet_Type']= le.fit_transform(df_train['Outlet_Type'])"
      ],
      "id": "m0B14S0H6Pmu"
    },
    {
      "cell_type": "code",
      "execution_count": null,
      "metadata": {
        "colab": {
          "base_uri": "https://localhost:8080/",
          "height": 411
        },
        "id": "eorpDkSG6Pmv",
        "outputId": "4d274d5b-443c-482f-f2c9-bc28277daeb1"
      },
      "outputs": [
        {
          "output_type": "execute_result",
          "data": {
            "text/plain": [
              "      Item_Weight  Item_Fat_Content  Item_Visibility  Item_Type    Item_MRP  \\\n",
              "0        9.300000                 1         0.016047          4  249.809204   \n",
              "1        5.920000                 2         0.019278         14   48.269199   \n",
              "2       17.500000                 1         0.016760         10  141.617996   \n",
              "3       19.200001                 2         0.000000          6  182.095001   \n",
              "4        8.930000                 1         0.000000          9   53.861401   \n",
              "...           ...               ...              ...        ...         ...   \n",
              "8518     6.865000                 1         0.056783         13  214.521805   \n",
              "8519     8.380000                 2         0.046982          0  108.156998   \n",
              "8520    10.600000                 1         0.035186          8   85.122398   \n",
              "8521     7.210000                 2         0.145221         13  103.133202   \n",
              "8522    14.800000                 1         0.044878         14   75.467003   \n",
              "\n",
              "      Outlet_Establishment_Year  Outlet_Size  Outlet_Location_Type  \\\n",
              "0                          1999            1                     0   \n",
              "1                          2009            1                     2   \n",
              "2                          1999            1                     0   \n",
              "3                          1998            1                     2   \n",
              "4                          1987            0                     2   \n",
              "...                         ...          ...                   ...   \n",
              "8518                       1987            0                     2   \n",
              "8519                       2002            1                     1   \n",
              "8520                       2004            2                     1   \n",
              "8521                       2009            1                     2   \n",
              "8522                       1997            2                     0   \n",
              "\n",
              "      Outlet_Type  Item_Outlet_Sales  \n",
              "0               1        3735.137939  \n",
              "1               2         443.422791  \n",
              "2               1        2097.270020  \n",
              "3               0         732.380005  \n",
              "4               1         994.705200  \n",
              "...           ...                ...  \n",
              "8518            1        2778.383301  \n",
              "8519            1         549.284973  \n",
              "8520            1        1193.113647  \n",
              "8521            2        1845.597656  \n",
              "8522            1         765.669983  \n",
              "\n",
              "[8523 rows x 10 columns]"
            ],
            "text/html": [
              "\n",
              "  <div id=\"df-34a97d4a-f601-4b65-9004-837de72bc2b5\" class=\"colab-df-container\">\n",
              "    <div>\n",
              "<style scoped>\n",
              "    .dataframe tbody tr th:only-of-type {\n",
              "        vertical-align: middle;\n",
              "    }\n",
              "\n",
              "    .dataframe tbody tr th {\n",
              "        vertical-align: top;\n",
              "    }\n",
              "\n",
              "    .dataframe thead th {\n",
              "        text-align: right;\n",
              "    }\n",
              "</style>\n",
              "<table border=\"1\" class=\"dataframe\">\n",
              "  <thead>\n",
              "    <tr style=\"text-align: right;\">\n",
              "      <th></th>\n",
              "      <th>Item_Weight</th>\n",
              "      <th>Item_Fat_Content</th>\n",
              "      <th>Item_Visibility</th>\n",
              "      <th>Item_Type</th>\n",
              "      <th>Item_MRP</th>\n",
              "      <th>Outlet_Establishment_Year</th>\n",
              "      <th>Outlet_Size</th>\n",
              "      <th>Outlet_Location_Type</th>\n",
              "      <th>Outlet_Type</th>\n",
              "      <th>Item_Outlet_Sales</th>\n",
              "    </tr>\n",
              "  </thead>\n",
              "  <tbody>\n",
              "    <tr>\n",
              "      <th>0</th>\n",
              "      <td>9.300000</td>\n",
              "      <td>1</td>\n",
              "      <td>0.016047</td>\n",
              "      <td>4</td>\n",
              "      <td>249.809204</td>\n",
              "      <td>1999</td>\n",
              "      <td>1</td>\n",
              "      <td>0</td>\n",
              "      <td>1</td>\n",
              "      <td>3735.137939</td>\n",
              "    </tr>\n",
              "    <tr>\n",
              "      <th>1</th>\n",
              "      <td>5.920000</td>\n",
              "      <td>2</td>\n",
              "      <td>0.019278</td>\n",
              "      <td>14</td>\n",
              "      <td>48.269199</td>\n",
              "      <td>2009</td>\n",
              "      <td>1</td>\n",
              "      <td>2</td>\n",
              "      <td>2</td>\n",
              "      <td>443.422791</td>\n",
              "    </tr>\n",
              "    <tr>\n",
              "      <th>2</th>\n",
              "      <td>17.500000</td>\n",
              "      <td>1</td>\n",
              "      <td>0.016760</td>\n",
              "      <td>10</td>\n",
              "      <td>141.617996</td>\n",
              "      <td>1999</td>\n",
              "      <td>1</td>\n",
              "      <td>0</td>\n",
              "      <td>1</td>\n",
              "      <td>2097.270020</td>\n",
              "    </tr>\n",
              "    <tr>\n",
              "      <th>3</th>\n",
              "      <td>19.200001</td>\n",
              "      <td>2</td>\n",
              "      <td>0.000000</td>\n",
              "      <td>6</td>\n",
              "      <td>182.095001</td>\n",
              "      <td>1998</td>\n",
              "      <td>1</td>\n",
              "      <td>2</td>\n",
              "      <td>0</td>\n",
              "      <td>732.380005</td>\n",
              "    </tr>\n",
              "    <tr>\n",
              "      <th>4</th>\n",
              "      <td>8.930000</td>\n",
              "      <td>1</td>\n",
              "      <td>0.000000</td>\n",
              "      <td>9</td>\n",
              "      <td>53.861401</td>\n",
              "      <td>1987</td>\n",
              "      <td>0</td>\n",
              "      <td>2</td>\n",
              "      <td>1</td>\n",
              "      <td>994.705200</td>\n",
              "    </tr>\n",
              "    <tr>\n",
              "      <th>...</th>\n",
              "      <td>...</td>\n",
              "      <td>...</td>\n",
              "      <td>...</td>\n",
              "      <td>...</td>\n",
              "      <td>...</td>\n",
              "      <td>...</td>\n",
              "      <td>...</td>\n",
              "      <td>...</td>\n",
              "      <td>...</td>\n",
              "      <td>...</td>\n",
              "    </tr>\n",
              "    <tr>\n",
              "      <th>8518</th>\n",
              "      <td>6.865000</td>\n",
              "      <td>1</td>\n",
              "      <td>0.056783</td>\n",
              "      <td>13</td>\n",
              "      <td>214.521805</td>\n",
              "      <td>1987</td>\n",
              "      <td>0</td>\n",
              "      <td>2</td>\n",
              "      <td>1</td>\n",
              "      <td>2778.383301</td>\n",
              "    </tr>\n",
              "    <tr>\n",
              "      <th>8519</th>\n",
              "      <td>8.380000</td>\n",
              "      <td>2</td>\n",
              "      <td>0.046982</td>\n",
              "      <td>0</td>\n",
              "      <td>108.156998</td>\n",
              "      <td>2002</td>\n",
              "      <td>1</td>\n",
              "      <td>1</td>\n",
              "      <td>1</td>\n",
              "      <td>549.284973</td>\n",
              "    </tr>\n",
              "    <tr>\n",
              "      <th>8520</th>\n",
              "      <td>10.600000</td>\n",
              "      <td>1</td>\n",
              "      <td>0.035186</td>\n",
              "      <td>8</td>\n",
              "      <td>85.122398</td>\n",
              "      <td>2004</td>\n",
              "      <td>2</td>\n",
              "      <td>1</td>\n",
              "      <td>1</td>\n",
              "      <td>1193.113647</td>\n",
              "    </tr>\n",
              "    <tr>\n",
              "      <th>8521</th>\n",
              "      <td>7.210000</td>\n",
              "      <td>2</td>\n",
              "      <td>0.145221</td>\n",
              "      <td>13</td>\n",
              "      <td>103.133202</td>\n",
              "      <td>2009</td>\n",
              "      <td>1</td>\n",
              "      <td>2</td>\n",
              "      <td>2</td>\n",
              "      <td>1845.597656</td>\n",
              "    </tr>\n",
              "    <tr>\n",
              "      <th>8522</th>\n",
              "      <td>14.800000</td>\n",
              "      <td>1</td>\n",
              "      <td>0.044878</td>\n",
              "      <td>14</td>\n",
              "      <td>75.467003</td>\n",
              "      <td>1997</td>\n",
              "      <td>2</td>\n",
              "      <td>0</td>\n",
              "      <td>1</td>\n",
              "      <td>765.669983</td>\n",
              "    </tr>\n",
              "  </tbody>\n",
              "</table>\n",
              "<p>8523 rows × 10 columns</p>\n",
              "</div>\n",
              "    <div class=\"colab-df-buttons\">\n",
              "\n",
              "  <div class=\"colab-df-container\">\n",
              "    <button class=\"colab-df-convert\" onclick=\"convertToInteractive('df-34a97d4a-f601-4b65-9004-837de72bc2b5')\"\n",
              "            title=\"Convert this dataframe to an interactive table.\"\n",
              "            style=\"display:none;\">\n",
              "\n",
              "  <svg xmlns=\"http://www.w3.org/2000/svg\" height=\"24px\" viewBox=\"0 -960 960 960\">\n",
              "    <path d=\"M120-120v-720h720v720H120Zm60-500h600v-160H180v160Zm220 220h160v-160H400v160Zm0 220h160v-160H400v160ZM180-400h160v-160H180v160Zm440 0h160v-160H620v160ZM180-180h160v-160H180v160Zm440 0h160v-160H620v160Z\"/>\n",
              "  </svg>\n",
              "    </button>\n",
              "\n",
              "  <style>\n",
              "    .colab-df-container {\n",
              "      display:flex;\n",
              "      gap: 12px;\n",
              "    }\n",
              "\n",
              "    .colab-df-convert {\n",
              "      background-color: #E8F0FE;\n",
              "      border: none;\n",
              "      border-radius: 50%;\n",
              "      cursor: pointer;\n",
              "      display: none;\n",
              "      fill: #1967D2;\n",
              "      height: 32px;\n",
              "      padding: 0 0 0 0;\n",
              "      width: 32px;\n",
              "    }\n",
              "\n",
              "    .colab-df-convert:hover {\n",
              "      background-color: #E2EBFA;\n",
              "      box-shadow: 0px 1px 2px rgba(60, 64, 67, 0.3), 0px 1px 3px 1px rgba(60, 64, 67, 0.15);\n",
              "      fill: #174EA6;\n",
              "    }\n",
              "\n",
              "    .colab-df-buttons div {\n",
              "      margin-bottom: 4px;\n",
              "    }\n",
              "\n",
              "    [theme=dark] .colab-df-convert {\n",
              "      background-color: #3B4455;\n",
              "      fill: #D2E3FC;\n",
              "    }\n",
              "\n",
              "    [theme=dark] .colab-df-convert:hover {\n",
              "      background-color: #434B5C;\n",
              "      box-shadow: 0px 1px 3px 1px rgba(0, 0, 0, 0.15);\n",
              "      filter: drop-shadow(0px 1px 2px rgba(0, 0, 0, 0.3));\n",
              "      fill: #FFFFFF;\n",
              "    }\n",
              "  </style>\n",
              "\n",
              "    <script>\n",
              "      const buttonEl =\n",
              "        document.querySelector('#df-34a97d4a-f601-4b65-9004-837de72bc2b5 button.colab-df-convert');\n",
              "      buttonEl.style.display =\n",
              "        google.colab.kernel.accessAllowed ? 'block' : 'none';\n",
              "\n",
              "      async function convertToInteractive(key) {\n",
              "        const element = document.querySelector('#df-34a97d4a-f601-4b65-9004-837de72bc2b5');\n",
              "        const dataTable =\n",
              "          await google.colab.kernel.invokeFunction('convertToInteractive',\n",
              "                                                    [key], {});\n",
              "        if (!dataTable) return;\n",
              "\n",
              "        const docLinkHtml = 'Like what you see? Visit the ' +\n",
              "          '<a target=\"_blank\" href=https://colab.research.google.com/notebooks/data_table.ipynb>data table notebook</a>'\n",
              "          + ' to learn more about interactive tables.';\n",
              "        element.innerHTML = '';\n",
              "        dataTable['output_type'] = 'display_data';\n",
              "        await google.colab.output.renderOutput(dataTable, element);\n",
              "        const docLink = document.createElement('div');\n",
              "        docLink.innerHTML = docLinkHtml;\n",
              "        element.appendChild(docLink);\n",
              "      }\n",
              "    </script>\n",
              "  </div>\n",
              "\n",
              "\n",
              "<div id=\"df-2f8e0fe3-5060-41bf-9f06-50bab381ee82\">\n",
              "  <button class=\"colab-df-quickchart\" onclick=\"quickchart('df-2f8e0fe3-5060-41bf-9f06-50bab381ee82')\"\n",
              "            title=\"Suggest charts\"\n",
              "            style=\"display:none;\">\n",
              "\n",
              "<svg xmlns=\"http://www.w3.org/2000/svg\" height=\"24px\"viewBox=\"0 0 24 24\"\n",
              "     width=\"24px\">\n",
              "    <g>\n",
              "        <path d=\"M19 3H5c-1.1 0-2 .9-2 2v14c0 1.1.9 2 2 2h14c1.1 0 2-.9 2-2V5c0-1.1-.9-2-2-2zM9 17H7v-7h2v7zm4 0h-2V7h2v10zm4 0h-2v-4h2v4z\"/>\n",
              "    </g>\n",
              "</svg>\n",
              "  </button>\n",
              "\n",
              "<style>\n",
              "  .colab-df-quickchart {\n",
              "      --bg-color: #E8F0FE;\n",
              "      --fill-color: #1967D2;\n",
              "      --hover-bg-color: #E2EBFA;\n",
              "      --hover-fill-color: #174EA6;\n",
              "      --disabled-fill-color: #AAA;\n",
              "      --disabled-bg-color: #DDD;\n",
              "  }\n",
              "\n",
              "  [theme=dark] .colab-df-quickchart {\n",
              "      --bg-color: #3B4455;\n",
              "      --fill-color: #D2E3FC;\n",
              "      --hover-bg-color: #434B5C;\n",
              "      --hover-fill-color: #FFFFFF;\n",
              "      --disabled-bg-color: #3B4455;\n",
              "      --disabled-fill-color: #666;\n",
              "  }\n",
              "\n",
              "  .colab-df-quickchart {\n",
              "    background-color: var(--bg-color);\n",
              "    border: none;\n",
              "    border-radius: 50%;\n",
              "    cursor: pointer;\n",
              "    display: none;\n",
              "    fill: var(--fill-color);\n",
              "    height: 32px;\n",
              "    padding: 0;\n",
              "    width: 32px;\n",
              "  }\n",
              "\n",
              "  .colab-df-quickchart:hover {\n",
              "    background-color: var(--hover-bg-color);\n",
              "    box-shadow: 0 1px 2px rgba(60, 64, 67, 0.3), 0 1px 3px 1px rgba(60, 64, 67, 0.15);\n",
              "    fill: var(--button-hover-fill-color);\n",
              "  }\n",
              "\n",
              "  .colab-df-quickchart-complete:disabled,\n",
              "  .colab-df-quickchart-complete:disabled:hover {\n",
              "    background-color: var(--disabled-bg-color);\n",
              "    fill: var(--disabled-fill-color);\n",
              "    box-shadow: none;\n",
              "  }\n",
              "\n",
              "  .colab-df-spinner {\n",
              "    border: 2px solid var(--fill-color);\n",
              "    border-color: transparent;\n",
              "    border-bottom-color: var(--fill-color);\n",
              "    animation:\n",
              "      spin 1s steps(1) infinite;\n",
              "  }\n",
              "\n",
              "  @keyframes spin {\n",
              "    0% {\n",
              "      border-color: transparent;\n",
              "      border-bottom-color: var(--fill-color);\n",
              "      border-left-color: var(--fill-color);\n",
              "    }\n",
              "    20% {\n",
              "      border-color: transparent;\n",
              "      border-left-color: var(--fill-color);\n",
              "      border-top-color: var(--fill-color);\n",
              "    }\n",
              "    30% {\n",
              "      border-color: transparent;\n",
              "      border-left-color: var(--fill-color);\n",
              "      border-top-color: var(--fill-color);\n",
              "      border-right-color: var(--fill-color);\n",
              "    }\n",
              "    40% {\n",
              "      border-color: transparent;\n",
              "      border-right-color: var(--fill-color);\n",
              "      border-top-color: var(--fill-color);\n",
              "    }\n",
              "    60% {\n",
              "      border-color: transparent;\n",
              "      border-right-color: var(--fill-color);\n",
              "    }\n",
              "    80% {\n",
              "      border-color: transparent;\n",
              "      border-right-color: var(--fill-color);\n",
              "      border-bottom-color: var(--fill-color);\n",
              "    }\n",
              "    90% {\n",
              "      border-color: transparent;\n",
              "      border-bottom-color: var(--fill-color);\n",
              "    }\n",
              "  }\n",
              "</style>\n",
              "\n",
              "  <script>\n",
              "    async function quickchart(key) {\n",
              "      const quickchartButtonEl =\n",
              "        document.querySelector('#' + key + ' button');\n",
              "      quickchartButtonEl.disabled = true;  // To prevent multiple clicks.\n",
              "      quickchartButtonEl.classList.add('colab-df-spinner');\n",
              "      try {\n",
              "        const charts = await google.colab.kernel.invokeFunction(\n",
              "            'suggestCharts', [key], {});\n",
              "      } catch (error) {\n",
              "        console.error('Error during call to suggestCharts:', error);\n",
              "      }\n",
              "      quickchartButtonEl.classList.remove('colab-df-spinner');\n",
              "      quickchartButtonEl.classList.add('colab-df-quickchart-complete');\n",
              "    }\n",
              "    (() => {\n",
              "      let quickchartButtonEl =\n",
              "        document.querySelector('#df-2f8e0fe3-5060-41bf-9f06-50bab381ee82 button');\n",
              "      quickchartButtonEl.style.display =\n",
              "        google.colab.kernel.accessAllowed ? 'block' : 'none';\n",
              "    })();\n",
              "  </script>\n",
              "</div>\n",
              "    </div>\n",
              "  </div>\n"
            ]
          },
          "metadata": {},
          "execution_count": 70
        }
      ],
      "source": [
        "df_train"
      ],
      "id": "eorpDkSG6Pmv"
    },
    {
      "cell_type": "markdown",
      "source": [
        "We can see that all the datas have been converted to numeric values so that i can be able to use it to build my model"
      ],
      "metadata": {
        "id": "l-eW_oUEjWOF"
      },
      "id": "l-eW_oUEjWOF"
    },
    {
      "cell_type": "markdown",
      "metadata": {
        "id": "m9PBrwZB6Pmv"
      },
      "source": [
        "# 2) Splitting our data into train and test"
      ],
      "id": "m9PBrwZB6Pmv"
    },
    {
      "cell_type": "markdown",
      "source": [
        "#Task 46"
      ],
      "metadata": {
        "id": "U6m1HjHxX8Dz"
      },
      "id": "U6m1HjHxX8Dz"
    },
    {
      "cell_type": "markdown",
      "source": [
        "# I split my data in training and testing by using 20% for testing and 80% for training"
      ],
      "metadata": {
        "id": "jjtPlKqyjqx4"
      },
      "id": "jjtPlKqyjqx4"
    },
    {
      "cell_type": "code",
      "execution_count": null,
      "metadata": {
        "id": "uT5WFIBG6Pmw"
      },
      "outputs": [],
      "source": [
        "X=df_train.drop('Item_Outlet_Sales',axis=1)"
      ],
      "id": "uT5WFIBG6Pmw"
    },
    {
      "cell_type": "code",
      "execution_count": null,
      "metadata": {
        "id": "WLCHdtg56Pmx"
      },
      "outputs": [],
      "source": [
        "Y=df_train['Item_Outlet_Sales']"
      ],
      "id": "WLCHdtg56Pmx"
    },
    {
      "cell_type": "code",
      "execution_count": null,
      "metadata": {
        "id": "QpfSdBpH6Pmy"
      },
      "outputs": [],
      "source": [
        "from sklearn.model_selection import train_test_split\n",
        "\n",
        "X_train, X_test, Y_train, Y_test = train_test_split(X,Y, random_state=101, test_size=0.2)"
      ],
      "id": "QpfSdBpH6Pmy"
    },
    {
      "cell_type": "markdown",
      "metadata": {
        "id": "dfwK8KnT6Pmz"
      },
      "source": [
        "# 3) Standarization"
      ],
      "id": "dfwK8KnT6Pmz"
    },
    {
      "cell_type": "markdown",
      "source": [
        "#Task 47"
      ],
      "metadata": {
        "id": "gkxI2MDnYAA3"
      },
      "id": "gkxI2MDnYAA3"
    },
    {
      "cell_type": "markdown",
      "source": [
        "#Standardizing the values of the train data so that i can use it to build my model"
      ],
      "metadata": {
        "id": "fA0Uv0Svk7xx"
      },
      "id": "fA0Uv0Svk7xx"
    },
    {
      "cell_type": "code",
      "execution_count": null,
      "metadata": {
        "colab": {
          "base_uri": "https://localhost:8080/",
          "height": 291
        },
        "id": "bC-Qaen96Pm0",
        "outputId": "9c1df751-e137-4b23-b73a-e03abaccf3c6"
      },
      "outputs": [
        {
          "output_type": "execute_result",
          "data": {
            "text/plain": [
              "       Item_Weight  Item_Fat_Content  Item_Visibility    Item_Type  \\\n",
              "count  8523.000000       8523.000000      8523.000000  8523.000000   \n",
              "mean     12.857646          1.369354         0.066132     7.226681   \n",
              "std       4.226124          0.644810         0.051598     4.209990   \n",
              "min       4.555000          0.000000         0.000000     0.000000   \n",
              "25%       9.310000          1.000000         0.026989     4.000000   \n",
              "50%      12.857645          1.000000         0.053931     6.000000   \n",
              "75%      16.000000          2.000000         0.094585    10.000000   \n",
              "max      21.350000          4.000000         0.328391    15.000000   \n",
              "\n",
              "          Item_MRP  Outlet_Establishment_Year  Outlet_Size  \\\n",
              "count  8523.000000                8523.000000  8523.000000   \n",
              "mean    140.992767                1997.831867     1.170832   \n",
              "std      62.275066                   8.371760     0.600327   \n",
              "min      31.290001                1985.000000     0.000000   \n",
              "25%      93.826500                1987.000000     1.000000   \n",
              "50%     143.012802                1999.000000     1.000000   \n",
              "75%     185.643700                2004.000000     2.000000   \n",
              "max     266.888397                2009.000000     2.000000   \n",
              "\n",
              "       Outlet_Location_Type  Outlet_Type  \n",
              "count           8523.000000  8523.000000  \n",
              "mean               1.112871     1.201220  \n",
              "std                0.812757     0.796459  \n",
              "min                0.000000     0.000000  \n",
              "25%                0.000000     1.000000  \n",
              "50%                1.000000     1.000000  \n",
              "75%                2.000000     1.000000  \n",
              "max                2.000000     3.000000  "
            ],
            "text/html": [
              "\n",
              "  <div id=\"df-0520aadb-cecd-4130-8313-f36d1256ce19\" class=\"colab-df-container\">\n",
              "    <div>\n",
              "<style scoped>\n",
              "    .dataframe tbody tr th:only-of-type {\n",
              "        vertical-align: middle;\n",
              "    }\n",
              "\n",
              "    .dataframe tbody tr th {\n",
              "        vertical-align: top;\n",
              "    }\n",
              "\n",
              "    .dataframe thead th {\n",
              "        text-align: right;\n",
              "    }\n",
              "</style>\n",
              "<table border=\"1\" class=\"dataframe\">\n",
              "  <thead>\n",
              "    <tr style=\"text-align: right;\">\n",
              "      <th></th>\n",
              "      <th>Item_Weight</th>\n",
              "      <th>Item_Fat_Content</th>\n",
              "      <th>Item_Visibility</th>\n",
              "      <th>Item_Type</th>\n",
              "      <th>Item_MRP</th>\n",
              "      <th>Outlet_Establishment_Year</th>\n",
              "      <th>Outlet_Size</th>\n",
              "      <th>Outlet_Location_Type</th>\n",
              "      <th>Outlet_Type</th>\n",
              "    </tr>\n",
              "  </thead>\n",
              "  <tbody>\n",
              "    <tr>\n",
              "      <th>count</th>\n",
              "      <td>8523.000000</td>\n",
              "      <td>8523.000000</td>\n",
              "      <td>8523.000000</td>\n",
              "      <td>8523.000000</td>\n",
              "      <td>8523.000000</td>\n",
              "      <td>8523.000000</td>\n",
              "      <td>8523.000000</td>\n",
              "      <td>8523.000000</td>\n",
              "      <td>8523.000000</td>\n",
              "    </tr>\n",
              "    <tr>\n",
              "      <th>mean</th>\n",
              "      <td>12.857646</td>\n",
              "      <td>1.369354</td>\n",
              "      <td>0.066132</td>\n",
              "      <td>7.226681</td>\n",
              "      <td>140.992767</td>\n",
              "      <td>1997.831867</td>\n",
              "      <td>1.170832</td>\n",
              "      <td>1.112871</td>\n",
              "      <td>1.201220</td>\n",
              "    </tr>\n",
              "    <tr>\n",
              "      <th>std</th>\n",
              "      <td>4.226124</td>\n",
              "      <td>0.644810</td>\n",
              "      <td>0.051598</td>\n",
              "      <td>4.209990</td>\n",
              "      <td>62.275066</td>\n",
              "      <td>8.371760</td>\n",
              "      <td>0.600327</td>\n",
              "      <td>0.812757</td>\n",
              "      <td>0.796459</td>\n",
              "    </tr>\n",
              "    <tr>\n",
              "      <th>min</th>\n",
              "      <td>4.555000</td>\n",
              "      <td>0.000000</td>\n",
              "      <td>0.000000</td>\n",
              "      <td>0.000000</td>\n",
              "      <td>31.290001</td>\n",
              "      <td>1985.000000</td>\n",
              "      <td>0.000000</td>\n",
              "      <td>0.000000</td>\n",
              "      <td>0.000000</td>\n",
              "    </tr>\n",
              "    <tr>\n",
              "      <th>25%</th>\n",
              "      <td>9.310000</td>\n",
              "      <td>1.000000</td>\n",
              "      <td>0.026989</td>\n",
              "      <td>4.000000</td>\n",
              "      <td>93.826500</td>\n",
              "      <td>1987.000000</td>\n",
              "      <td>1.000000</td>\n",
              "      <td>0.000000</td>\n",
              "      <td>1.000000</td>\n",
              "    </tr>\n",
              "    <tr>\n",
              "      <th>50%</th>\n",
              "      <td>12.857645</td>\n",
              "      <td>1.000000</td>\n",
              "      <td>0.053931</td>\n",
              "      <td>6.000000</td>\n",
              "      <td>143.012802</td>\n",
              "      <td>1999.000000</td>\n",
              "      <td>1.000000</td>\n",
              "      <td>1.000000</td>\n",
              "      <td>1.000000</td>\n",
              "    </tr>\n",
              "    <tr>\n",
              "      <th>75%</th>\n",
              "      <td>16.000000</td>\n",
              "      <td>2.000000</td>\n",
              "      <td>0.094585</td>\n",
              "      <td>10.000000</td>\n",
              "      <td>185.643700</td>\n",
              "      <td>2004.000000</td>\n",
              "      <td>2.000000</td>\n",
              "      <td>2.000000</td>\n",
              "      <td>1.000000</td>\n",
              "    </tr>\n",
              "    <tr>\n",
              "      <th>max</th>\n",
              "      <td>21.350000</td>\n",
              "      <td>4.000000</td>\n",
              "      <td>0.328391</td>\n",
              "      <td>15.000000</td>\n",
              "      <td>266.888397</td>\n",
              "      <td>2009.000000</td>\n",
              "      <td>2.000000</td>\n",
              "      <td>2.000000</td>\n",
              "      <td>3.000000</td>\n",
              "    </tr>\n",
              "  </tbody>\n",
              "</table>\n",
              "</div>\n",
              "    <div class=\"colab-df-buttons\">\n",
              "\n",
              "  <div class=\"colab-df-container\">\n",
              "    <button class=\"colab-df-convert\" onclick=\"convertToInteractive('df-0520aadb-cecd-4130-8313-f36d1256ce19')\"\n",
              "            title=\"Convert this dataframe to an interactive table.\"\n",
              "            style=\"display:none;\">\n",
              "\n",
              "  <svg xmlns=\"http://www.w3.org/2000/svg\" height=\"24px\" viewBox=\"0 -960 960 960\">\n",
              "    <path d=\"M120-120v-720h720v720H120Zm60-500h600v-160H180v160Zm220 220h160v-160H400v160Zm0 220h160v-160H400v160ZM180-400h160v-160H180v160Zm440 0h160v-160H620v160ZM180-180h160v-160H180v160Zm440 0h160v-160H620v160Z\"/>\n",
              "  </svg>\n",
              "    </button>\n",
              "\n",
              "  <style>\n",
              "    .colab-df-container {\n",
              "      display:flex;\n",
              "      gap: 12px;\n",
              "    }\n",
              "\n",
              "    .colab-df-convert {\n",
              "      background-color: #E8F0FE;\n",
              "      border: none;\n",
              "      border-radius: 50%;\n",
              "      cursor: pointer;\n",
              "      display: none;\n",
              "      fill: #1967D2;\n",
              "      height: 32px;\n",
              "      padding: 0 0 0 0;\n",
              "      width: 32px;\n",
              "    }\n",
              "\n",
              "    .colab-df-convert:hover {\n",
              "      background-color: #E2EBFA;\n",
              "      box-shadow: 0px 1px 2px rgba(60, 64, 67, 0.3), 0px 1px 3px 1px rgba(60, 64, 67, 0.15);\n",
              "      fill: #174EA6;\n",
              "    }\n",
              "\n",
              "    .colab-df-buttons div {\n",
              "      margin-bottom: 4px;\n",
              "    }\n",
              "\n",
              "    [theme=dark] .colab-df-convert {\n",
              "      background-color: #3B4455;\n",
              "      fill: #D2E3FC;\n",
              "    }\n",
              "\n",
              "    [theme=dark] .colab-df-convert:hover {\n",
              "      background-color: #434B5C;\n",
              "      box-shadow: 0px 1px 3px 1px rgba(0, 0, 0, 0.15);\n",
              "      filter: drop-shadow(0px 1px 2px rgba(0, 0, 0, 0.3));\n",
              "      fill: #FFFFFF;\n",
              "    }\n",
              "  </style>\n",
              "\n",
              "    <script>\n",
              "      const buttonEl =\n",
              "        document.querySelector('#df-0520aadb-cecd-4130-8313-f36d1256ce19 button.colab-df-convert');\n",
              "      buttonEl.style.display =\n",
              "        google.colab.kernel.accessAllowed ? 'block' : 'none';\n",
              "\n",
              "      async function convertToInteractive(key) {\n",
              "        const element = document.querySelector('#df-0520aadb-cecd-4130-8313-f36d1256ce19');\n",
              "        const dataTable =\n",
              "          await google.colab.kernel.invokeFunction('convertToInteractive',\n",
              "                                                    [key], {});\n",
              "        if (!dataTable) return;\n",
              "\n",
              "        const docLinkHtml = 'Like what you see? Visit the ' +\n",
              "          '<a target=\"_blank\" href=https://colab.research.google.com/notebooks/data_table.ipynb>data table notebook</a>'\n",
              "          + ' to learn more about interactive tables.';\n",
              "        element.innerHTML = '';\n",
              "        dataTable['output_type'] = 'display_data';\n",
              "        await google.colab.output.renderOutput(dataTable, element);\n",
              "        const docLink = document.createElement('div');\n",
              "        docLink.innerHTML = docLinkHtml;\n",
              "        element.appendChild(docLink);\n",
              "      }\n",
              "    </script>\n",
              "  </div>\n",
              "\n",
              "\n",
              "<div id=\"df-565d598c-6904-4b7a-b918-401048dd9e56\">\n",
              "  <button class=\"colab-df-quickchart\" onclick=\"quickchart('df-565d598c-6904-4b7a-b918-401048dd9e56')\"\n",
              "            title=\"Suggest charts\"\n",
              "            style=\"display:none;\">\n",
              "\n",
              "<svg xmlns=\"http://www.w3.org/2000/svg\" height=\"24px\"viewBox=\"0 0 24 24\"\n",
              "     width=\"24px\">\n",
              "    <g>\n",
              "        <path d=\"M19 3H5c-1.1 0-2 .9-2 2v14c0 1.1.9 2 2 2h14c1.1 0 2-.9 2-2V5c0-1.1-.9-2-2-2zM9 17H7v-7h2v7zm4 0h-2V7h2v10zm4 0h-2v-4h2v4z\"/>\n",
              "    </g>\n",
              "</svg>\n",
              "  </button>\n",
              "\n",
              "<style>\n",
              "  .colab-df-quickchart {\n",
              "      --bg-color: #E8F0FE;\n",
              "      --fill-color: #1967D2;\n",
              "      --hover-bg-color: #E2EBFA;\n",
              "      --hover-fill-color: #174EA6;\n",
              "      --disabled-fill-color: #AAA;\n",
              "      --disabled-bg-color: #DDD;\n",
              "  }\n",
              "\n",
              "  [theme=dark] .colab-df-quickchart {\n",
              "      --bg-color: #3B4455;\n",
              "      --fill-color: #D2E3FC;\n",
              "      --hover-bg-color: #434B5C;\n",
              "      --hover-fill-color: #FFFFFF;\n",
              "      --disabled-bg-color: #3B4455;\n",
              "      --disabled-fill-color: #666;\n",
              "  }\n",
              "\n",
              "  .colab-df-quickchart {\n",
              "    background-color: var(--bg-color);\n",
              "    border: none;\n",
              "    border-radius: 50%;\n",
              "    cursor: pointer;\n",
              "    display: none;\n",
              "    fill: var(--fill-color);\n",
              "    height: 32px;\n",
              "    padding: 0;\n",
              "    width: 32px;\n",
              "  }\n",
              "\n",
              "  .colab-df-quickchart:hover {\n",
              "    background-color: var(--hover-bg-color);\n",
              "    box-shadow: 0 1px 2px rgba(60, 64, 67, 0.3), 0 1px 3px 1px rgba(60, 64, 67, 0.15);\n",
              "    fill: var(--button-hover-fill-color);\n",
              "  }\n",
              "\n",
              "  .colab-df-quickchart-complete:disabled,\n",
              "  .colab-df-quickchart-complete:disabled:hover {\n",
              "    background-color: var(--disabled-bg-color);\n",
              "    fill: var(--disabled-fill-color);\n",
              "    box-shadow: none;\n",
              "  }\n",
              "\n",
              "  .colab-df-spinner {\n",
              "    border: 2px solid var(--fill-color);\n",
              "    border-color: transparent;\n",
              "    border-bottom-color: var(--fill-color);\n",
              "    animation:\n",
              "      spin 1s steps(1) infinite;\n",
              "  }\n",
              "\n",
              "  @keyframes spin {\n",
              "    0% {\n",
              "      border-color: transparent;\n",
              "      border-bottom-color: var(--fill-color);\n",
              "      border-left-color: var(--fill-color);\n",
              "    }\n",
              "    20% {\n",
              "      border-color: transparent;\n",
              "      border-left-color: var(--fill-color);\n",
              "      border-top-color: var(--fill-color);\n",
              "    }\n",
              "    30% {\n",
              "      border-color: transparent;\n",
              "      border-left-color: var(--fill-color);\n",
              "      border-top-color: var(--fill-color);\n",
              "      border-right-color: var(--fill-color);\n",
              "    }\n",
              "    40% {\n",
              "      border-color: transparent;\n",
              "      border-right-color: var(--fill-color);\n",
              "      border-top-color: var(--fill-color);\n",
              "    }\n",
              "    60% {\n",
              "      border-color: transparent;\n",
              "      border-right-color: var(--fill-color);\n",
              "    }\n",
              "    80% {\n",
              "      border-color: transparent;\n",
              "      border-right-color: var(--fill-color);\n",
              "      border-bottom-color: var(--fill-color);\n",
              "    }\n",
              "    90% {\n",
              "      border-color: transparent;\n",
              "      border-bottom-color: var(--fill-color);\n",
              "    }\n",
              "  }\n",
              "</style>\n",
              "\n",
              "  <script>\n",
              "    async function quickchart(key) {\n",
              "      const quickchartButtonEl =\n",
              "        document.querySelector('#' + key + ' button');\n",
              "      quickchartButtonEl.disabled = true;  // To prevent multiple clicks.\n",
              "      quickchartButtonEl.classList.add('colab-df-spinner');\n",
              "      try {\n",
              "        const charts = await google.colab.kernel.invokeFunction(\n",
              "            'suggestCharts', [key], {});\n",
              "      } catch (error) {\n",
              "        console.error('Error during call to suggestCharts:', error);\n",
              "      }\n",
              "      quickchartButtonEl.classList.remove('colab-df-spinner');\n",
              "      quickchartButtonEl.classList.add('colab-df-quickchart-complete');\n",
              "    }\n",
              "    (() => {\n",
              "      let quickchartButtonEl =\n",
              "        document.querySelector('#df-565d598c-6904-4b7a-b918-401048dd9e56 button');\n",
              "      quickchartButtonEl.style.display =\n",
              "        google.colab.kernel.accessAllowed ? 'block' : 'none';\n",
              "    })();\n",
              "  </script>\n",
              "</div>\n",
              "    </div>\n",
              "  </div>\n"
            ]
          },
          "metadata": {},
          "execution_count": 85
        }
      ],
      "source": [
        "X.describe()"
      ],
      "id": "bC-Qaen96Pm0"
    },
    {
      "cell_type": "code",
      "execution_count": null,
      "metadata": {
        "id": "zGGvVZfS6Pm0"
      },
      "outputs": [],
      "source": [
        "# standadizing the values\n",
        "from sklearn.preprocessing import StandardScaler\n",
        "sc= StandardScaler()"
      ],
      "id": "zGGvVZfS6Pm0"
    },
    {
      "cell_type": "code",
      "execution_count": null,
      "metadata": {
        "id": "DTWCI3K36Pm1"
      },
      "outputs": [],
      "source": [
        "X_train_std= sc.fit_transform(X_train)"
      ],
      "id": "DTWCI3K36Pm1"
    },
    {
      "cell_type": "code",
      "execution_count": null,
      "metadata": {
        "id": "onTEeTgg6Pm1"
      },
      "outputs": [],
      "source": [
        "X_test_std= sc.transform(X_test)"
      ],
      "id": "onTEeTgg6Pm1"
    },
    {
      "cell_type": "code",
      "execution_count": null,
      "metadata": {
        "colab": {
          "base_uri": "https://localhost:8080/"
        },
        "id": "_Rn0KDnQ6Pm2",
        "outputId": "edf176fd-c2f9-442c-8ee4-54910b02d87a"
      },
      "outputs": [
        {
          "output_type": "execute_result",
          "data": {
            "text/plain": [
              "array([[ 1.52290023, -0.57382672,  0.68469731, ..., -1.95699503,\n",
              "         1.08786619, -0.25964107],\n",
              "       [-1.239856  , -0.57382672, -0.09514746, ..., -0.28872895,\n",
              "        -0.13870429, -0.25964107],\n",
              "       [ 1.54667619,  0.97378032, -0.0083859 , ..., -0.28872895,\n",
              "        -0.13870429, -0.25964107],\n",
              "       ...,\n",
              "       [-0.08197109, -0.57382672, -0.91916229, ...,  1.37953713,\n",
              "        -1.36527477, -0.25964107],\n",
              "       [-0.74888436,  0.97378032,  1.21363045, ..., -0.28872895,\n",
              "        -0.13870429, -0.25964107],\n",
              "       [ 0.67885675, -0.57382672,  1.83915361, ..., -0.28872895,\n",
              "         1.08786619,  0.98524841]])"
            ]
          },
          "metadata": {},
          "execution_count": 89
        }
      ],
      "source": [
        "X_train_std"
      ],
      "id": "_Rn0KDnQ6Pm2"
    },
    {
      "cell_type": "markdown",
      "source": [
        "X_train standardized values"
      ],
      "metadata": {
        "id": "7e_fcv6qlaSL"
      },
      "id": "7e_fcv6qlaSL"
    },
    {
      "cell_type": "code",
      "execution_count": null,
      "metadata": {
        "colab": {
          "base_uri": "https://localhost:8080/"
        },
        "id": "VRRJliEv6Pm2",
        "outputId": "260da345-9f1d-4a01-deea-e7a76d35d692"
      },
      "outputs": [
        {
          "output_type": "execute_result",
          "data": {
            "text/plain": [
              "array([[-0.43860916, -0.57382672, -0.21609253, ..., -0.28872895,\n",
              "         1.08786619,  0.98524841],\n",
              "       [ 1.22570184, -0.57382672, -0.52943464, ..., -1.95699503,\n",
              "         1.08786619, -0.25964107],\n",
              "       [-1.2184578 ,  0.97378032,  0.16277341, ...,  1.37953713,\n",
              "        -1.36527477, -0.25964107],\n",
              "       ...,\n",
              "       [ 0.65508101, -0.57382672,  0.8782423 , ..., -0.28872895,\n",
              "         1.08786619, -1.50453056],\n",
              "       [ 1.01171909, -0.57382672, -1.28409256, ..., -0.28872895,\n",
              "         1.08786619,  0.98524841],\n",
              "       [-1.56558541,  0.97378032, -1.09265374, ..., -0.28872895,\n",
              "        -0.13870429, -0.25964107]])"
            ]
          },
          "metadata": {},
          "execution_count": 90
        }
      ],
      "source": [
        "X_test_std"
      ],
      "id": "VRRJliEv6Pm2"
    },
    {
      "cell_type": "markdown",
      "source": [
        "X_test standardized values"
      ],
      "metadata": {
        "id": "WqWkiK17lmSE"
      },
      "id": "WqWkiK17lmSE"
    },
    {
      "cell_type": "code",
      "execution_count": null,
      "metadata": {
        "colab": {
          "base_uri": "https://localhost:8080/"
        },
        "id": "0F1OgPpB6Pm3",
        "outputId": "ccb7f67f-628e-43e9-b707-97751265983a"
      },
      "outputs": [
        {
          "output_type": "execute_result",
          "data": {
            "text/plain": [
              "3684     163.786804\n",
              "1935    1607.241211\n",
              "5142    1510.034424\n",
              "4978    1784.343994\n",
              "2299    3558.035156\n",
              "           ...     \n",
              "599     5502.836914\n",
              "5695    1436.796387\n",
              "8006    2167.844727\n",
              "1361    2700.484863\n",
              "1547     829.586792\n",
              "Name: Item_Outlet_Sales, Length: 6818, dtype: float32"
            ]
          },
          "metadata": {},
          "execution_count": 91
        }
      ],
      "source": [
        "Y_train"
      ],
      "id": "0F1OgPpB6Pm3"
    },
    {
      "cell_type": "markdown",
      "source": [
        "Y_train values"
      ],
      "metadata": {
        "id": "fA2kyi1ElwYE"
      },
      "id": "fA2kyi1ElwYE"
    },
    {
      "cell_type": "code",
      "execution_count": null,
      "metadata": {
        "colab": {
          "base_uri": "https://localhost:8080/"
        },
        "id": "05OmqN7r6Pm4",
        "outputId": "5b4829ff-28fa-4cfc-b179-9114b6c666ec"
      },
      "outputs": [
        {
          "output_type": "execute_result",
          "data": {
            "text/plain": [
              "8179     904.822205\n",
              "8355    2795.694092\n",
              "3411    1947.464966\n",
              "7089     872.863770\n",
              "6954    2450.144043\n",
              "           ...     \n",
              "1317    1721.093018\n",
              "4996     914.809204\n",
              "531      370.184814\n",
              "3891    1358.232056\n",
              "6629    2418.185547\n",
              "Name: Item_Outlet_Sales, Length: 1705, dtype: float32"
            ]
          },
          "metadata": {},
          "execution_count": 92
        }
      ],
      "source": [
        "Y_test"
      ],
      "id": "05OmqN7r6Pm4"
    },
    {
      "cell_type": "markdown",
      "source": [
        "Y_test values"
      ],
      "metadata": {
        "id": "WB185zsFl07x"
      },
      "id": "WB185zsFl07x"
    },
    {
      "cell_type": "markdown",
      "metadata": {
        "id": "rlqek9Ch6Pm6"
      },
      "source": [
        "# Model Building"
      ],
      "id": "rlqek9Ch6Pm6"
    },
    {
      "cell_type": "markdown",
      "source": [
        "#Task 48"
      ],
      "metadata": {
        "id": "fdNbFMORYk3K"
      },
      "id": "fdNbFMORYk3K"
    },
    {
      "cell_type": "markdown",
      "source": [
        "#Building my model by using Linear Regression mode"
      ],
      "metadata": {
        "id": "WARwkIN7mAbi"
      },
      "id": "WARwkIN7mAbi"
    },
    {
      "cell_type": "code",
      "execution_count": null,
      "metadata": {
        "id": "tVEsEnPK6Pm7"
      },
      "outputs": [],
      "source": [
        "from sklearn.linear_model import LinearRegression\n",
        "lr= LinearRegression()"
      ],
      "id": "tVEsEnPK6Pm7"
    },
    {
      "cell_type": "code",
      "execution_count": null,
      "metadata": {
        "colab": {
          "base_uri": "https://localhost:8080/",
          "height": 72
        },
        "id": "mIT3yMIA6Pm8",
        "outputId": "d10bf4af-46f8-488f-ac27-27f5e2ed9cfa"
      },
      "outputs": [
        {
          "output_type": "execute_result",
          "data": {
            "text/plain": [
              "LinearRegression()"
            ],
            "text/html": [
              "<style>#sk-container-id-1 {color: black;background-color: white;}#sk-container-id-1 pre{padding: 0;}#sk-container-id-1 div.sk-toggleable {background-color: white;}#sk-container-id-1 label.sk-toggleable__label {cursor: pointer;display: block;width: 100%;margin-bottom: 0;padding: 0.3em;box-sizing: border-box;text-align: center;}#sk-container-id-1 label.sk-toggleable__label-arrow:before {content: \"▸\";float: left;margin-right: 0.25em;color: #696969;}#sk-container-id-1 label.sk-toggleable__label-arrow:hover:before {color: black;}#sk-container-id-1 div.sk-estimator:hover label.sk-toggleable__label-arrow:before {color: black;}#sk-container-id-1 div.sk-toggleable__content {max-height: 0;max-width: 0;overflow: hidden;text-align: left;background-color: #f0f8ff;}#sk-container-id-1 div.sk-toggleable__content pre {margin: 0.2em;color: black;border-radius: 0.25em;background-color: #f0f8ff;}#sk-container-id-1 input.sk-toggleable__control:checked~div.sk-toggleable__content {max-height: 200px;max-width: 100%;overflow: auto;}#sk-container-id-1 input.sk-toggleable__control:checked~label.sk-toggleable__label-arrow:before {content: \"▾\";}#sk-container-id-1 div.sk-estimator input.sk-toggleable__control:checked~label.sk-toggleable__label {background-color: #d4ebff;}#sk-container-id-1 div.sk-label input.sk-toggleable__control:checked~label.sk-toggleable__label {background-color: #d4ebff;}#sk-container-id-1 input.sk-hidden--visually {border: 0;clip: rect(1px 1px 1px 1px);clip: rect(1px, 1px, 1px, 1px);height: 1px;margin: -1px;overflow: hidden;padding: 0;position: absolute;width: 1px;}#sk-container-id-1 div.sk-estimator {font-family: monospace;background-color: #f0f8ff;border: 1px dotted black;border-radius: 0.25em;box-sizing: border-box;margin-bottom: 0.5em;}#sk-container-id-1 div.sk-estimator:hover {background-color: #d4ebff;}#sk-container-id-1 div.sk-parallel-item::after {content: \"\";width: 100%;border-bottom: 1px solid gray;flex-grow: 1;}#sk-container-id-1 div.sk-label:hover label.sk-toggleable__label {background-color: #d4ebff;}#sk-container-id-1 div.sk-serial::before {content: \"\";position: absolute;border-left: 1px solid gray;box-sizing: border-box;top: 0;bottom: 0;left: 50%;z-index: 0;}#sk-container-id-1 div.sk-serial {display: flex;flex-direction: column;align-items: center;background-color: white;padding-right: 0.2em;padding-left: 0.2em;position: relative;}#sk-container-id-1 div.sk-item {position: relative;z-index: 1;}#sk-container-id-1 div.sk-parallel {display: flex;align-items: stretch;justify-content: center;background-color: white;position: relative;}#sk-container-id-1 div.sk-item::before, #sk-container-id-1 div.sk-parallel-item::before {content: \"\";position: absolute;border-left: 1px solid gray;box-sizing: border-box;top: 0;bottom: 0;left: 50%;z-index: -1;}#sk-container-id-1 div.sk-parallel-item {display: flex;flex-direction: column;z-index: 1;position: relative;background-color: white;}#sk-container-id-1 div.sk-parallel-item:first-child::after {align-self: flex-end;width: 50%;}#sk-container-id-1 div.sk-parallel-item:last-child::after {align-self: flex-start;width: 50%;}#sk-container-id-1 div.sk-parallel-item:only-child::after {width: 0;}#sk-container-id-1 div.sk-dashed-wrapped {border: 1px dashed gray;margin: 0 0.4em 0.5em 0.4em;box-sizing: border-box;padding-bottom: 0.4em;background-color: white;}#sk-container-id-1 div.sk-label label {font-family: monospace;font-weight: bold;display: inline-block;line-height: 1.2em;}#sk-container-id-1 div.sk-label-container {text-align: center;}#sk-container-id-1 div.sk-container {/* jupyter's `normalize.less` sets `[hidden] { display: none; }` but bootstrap.min.css set `[hidden] { display: none !important; }` so we also need the `!important` here to be able to override the default hidden behavior on the sphinx rendered scikit-learn.org. See: https://github.com/scikit-learn/scikit-learn/issues/21755 */display: inline-block !important;position: relative;}#sk-container-id-1 div.sk-text-repr-fallback {display: none;}</style><div id=\"sk-container-id-1\" class=\"sk-top-container\"><div class=\"sk-text-repr-fallback\"><pre>LinearRegression()</pre><b>In a Jupyter environment, please rerun this cell to show the HTML representation or trust the notebook. <br />On GitHub, the HTML representation is unable to render, please try loading this page with nbviewer.org.</b></div><div class=\"sk-container\" hidden><div class=\"sk-item\"><div class=\"sk-estimator sk-toggleable\"><input class=\"sk-toggleable__control sk-hidden--visually\" id=\"sk-estimator-id-1\" type=\"checkbox\" checked><label for=\"sk-estimator-id-1\" class=\"sk-toggleable__label sk-toggleable__label-arrow\">LinearRegression</label><div class=\"sk-toggleable__content\"><pre>LinearRegression()</pre></div></div></div></div></div>"
            ]
          },
          "metadata": {},
          "execution_count": 94
        }
      ],
      "source": [
        "lr.fit(X_train_std,Y_train)"
      ],
      "id": "mIT3yMIA6Pm8"
    },
    {
      "cell_type": "code",
      "execution_count": null,
      "metadata": {
        "colab": {
          "base_uri": "https://localhost:8080/",
          "height": 201
        },
        "id": "YPY83LrU6Pm9",
        "outputId": "cd885762-10f1-4d2e-8553-ef07a9156b0e"
      },
      "outputs": [
        {
          "output_type": "execute_result",
          "data": {
            "text/plain": [
              "      Item_Weight  Item_Fat_Content  Item_Visibility  Item_Type    Item_MRP  \\\n",
              "8179    11.000000                 1         0.055163          8  100.335800   \n",
              "8355    18.000000                 1         0.038979         13  148.641800   \n",
              "3411     7.720000                 2         0.074731          1   77.598602   \n",
              "7089    20.700001                 1         0.049035          6   39.950600   \n",
              "6954     7.550000                 1         0.027225          3  152.934006   \n",
              "\n",
              "      Outlet_Establishment_Year  Outlet_Size  Outlet_Location_Type  \\\n",
              "8179                       2009            1                     2   \n",
              "8355                       1987            0                     2   \n",
              "3411                       1997            2                     0   \n",
              "7089                       2007            1                     1   \n",
              "6954                       2002            1                     1   \n",
              "\n",
              "      Outlet_Type  \n",
              "8179            2  \n",
              "8355            1  \n",
              "3411            1  \n",
              "7089            1  \n",
              "6954            1  "
            ],
            "text/html": [
              "\n",
              "  <div id=\"df-ab541fad-ccc5-4f52-add1-5a4d93f74ecd\" class=\"colab-df-container\">\n",
              "    <div>\n",
              "<style scoped>\n",
              "    .dataframe tbody tr th:only-of-type {\n",
              "        vertical-align: middle;\n",
              "    }\n",
              "\n",
              "    .dataframe tbody tr th {\n",
              "        vertical-align: top;\n",
              "    }\n",
              "\n",
              "    .dataframe thead th {\n",
              "        text-align: right;\n",
              "    }\n",
              "</style>\n",
              "<table border=\"1\" class=\"dataframe\">\n",
              "  <thead>\n",
              "    <tr style=\"text-align: right;\">\n",
              "      <th></th>\n",
              "      <th>Item_Weight</th>\n",
              "      <th>Item_Fat_Content</th>\n",
              "      <th>Item_Visibility</th>\n",
              "      <th>Item_Type</th>\n",
              "      <th>Item_MRP</th>\n",
              "      <th>Outlet_Establishment_Year</th>\n",
              "      <th>Outlet_Size</th>\n",
              "      <th>Outlet_Location_Type</th>\n",
              "      <th>Outlet_Type</th>\n",
              "    </tr>\n",
              "  </thead>\n",
              "  <tbody>\n",
              "    <tr>\n",
              "      <th>8179</th>\n",
              "      <td>11.000000</td>\n",
              "      <td>1</td>\n",
              "      <td>0.055163</td>\n",
              "      <td>8</td>\n",
              "      <td>100.335800</td>\n",
              "      <td>2009</td>\n",
              "      <td>1</td>\n",
              "      <td>2</td>\n",
              "      <td>2</td>\n",
              "    </tr>\n",
              "    <tr>\n",
              "      <th>8355</th>\n",
              "      <td>18.000000</td>\n",
              "      <td>1</td>\n",
              "      <td>0.038979</td>\n",
              "      <td>13</td>\n",
              "      <td>148.641800</td>\n",
              "      <td>1987</td>\n",
              "      <td>0</td>\n",
              "      <td>2</td>\n",
              "      <td>1</td>\n",
              "    </tr>\n",
              "    <tr>\n",
              "      <th>3411</th>\n",
              "      <td>7.720000</td>\n",
              "      <td>2</td>\n",
              "      <td>0.074731</td>\n",
              "      <td>1</td>\n",
              "      <td>77.598602</td>\n",
              "      <td>1997</td>\n",
              "      <td>2</td>\n",
              "      <td>0</td>\n",
              "      <td>1</td>\n",
              "    </tr>\n",
              "    <tr>\n",
              "      <th>7089</th>\n",
              "      <td>20.700001</td>\n",
              "      <td>1</td>\n",
              "      <td>0.049035</td>\n",
              "      <td>6</td>\n",
              "      <td>39.950600</td>\n",
              "      <td>2007</td>\n",
              "      <td>1</td>\n",
              "      <td>1</td>\n",
              "      <td>1</td>\n",
              "    </tr>\n",
              "    <tr>\n",
              "      <th>6954</th>\n",
              "      <td>7.550000</td>\n",
              "      <td>1</td>\n",
              "      <td>0.027225</td>\n",
              "      <td>3</td>\n",
              "      <td>152.934006</td>\n",
              "      <td>2002</td>\n",
              "      <td>1</td>\n",
              "      <td>1</td>\n",
              "      <td>1</td>\n",
              "    </tr>\n",
              "  </tbody>\n",
              "</table>\n",
              "</div>\n",
              "    <div class=\"colab-df-buttons\">\n",
              "\n",
              "  <div class=\"colab-df-container\">\n",
              "    <button class=\"colab-df-convert\" onclick=\"convertToInteractive('df-ab541fad-ccc5-4f52-add1-5a4d93f74ecd')\"\n",
              "            title=\"Convert this dataframe to an interactive table.\"\n",
              "            style=\"display:none;\">\n",
              "\n",
              "  <svg xmlns=\"http://www.w3.org/2000/svg\" height=\"24px\" viewBox=\"0 -960 960 960\">\n",
              "    <path d=\"M120-120v-720h720v720H120Zm60-500h600v-160H180v160Zm220 220h160v-160H400v160Zm0 220h160v-160H400v160ZM180-400h160v-160H180v160Zm440 0h160v-160H620v160ZM180-180h160v-160H180v160Zm440 0h160v-160H620v160Z\"/>\n",
              "  </svg>\n",
              "    </button>\n",
              "\n",
              "  <style>\n",
              "    .colab-df-container {\n",
              "      display:flex;\n",
              "      gap: 12px;\n",
              "    }\n",
              "\n",
              "    .colab-df-convert {\n",
              "      background-color: #E8F0FE;\n",
              "      border: none;\n",
              "      border-radius: 50%;\n",
              "      cursor: pointer;\n",
              "      display: none;\n",
              "      fill: #1967D2;\n",
              "      height: 32px;\n",
              "      padding: 0 0 0 0;\n",
              "      width: 32px;\n",
              "    }\n",
              "\n",
              "    .colab-df-convert:hover {\n",
              "      background-color: #E2EBFA;\n",
              "      box-shadow: 0px 1px 2px rgba(60, 64, 67, 0.3), 0px 1px 3px 1px rgba(60, 64, 67, 0.15);\n",
              "      fill: #174EA6;\n",
              "    }\n",
              "\n",
              "    .colab-df-buttons div {\n",
              "      margin-bottom: 4px;\n",
              "    }\n",
              "\n",
              "    [theme=dark] .colab-df-convert {\n",
              "      background-color: #3B4455;\n",
              "      fill: #D2E3FC;\n",
              "    }\n",
              "\n",
              "    [theme=dark] .colab-df-convert:hover {\n",
              "      background-color: #434B5C;\n",
              "      box-shadow: 0px 1px 3px 1px rgba(0, 0, 0, 0.15);\n",
              "      filter: drop-shadow(0px 1px 2px rgba(0, 0, 0, 0.3));\n",
              "      fill: #FFFFFF;\n",
              "    }\n",
              "  </style>\n",
              "\n",
              "    <script>\n",
              "      const buttonEl =\n",
              "        document.querySelector('#df-ab541fad-ccc5-4f52-add1-5a4d93f74ecd button.colab-df-convert');\n",
              "      buttonEl.style.display =\n",
              "        google.colab.kernel.accessAllowed ? 'block' : 'none';\n",
              "\n",
              "      async function convertToInteractive(key) {\n",
              "        const element = document.querySelector('#df-ab541fad-ccc5-4f52-add1-5a4d93f74ecd');\n",
              "        const dataTable =\n",
              "          await google.colab.kernel.invokeFunction('convertToInteractive',\n",
              "                                                    [key], {});\n",
              "        if (!dataTable) return;\n",
              "\n",
              "        const docLinkHtml = 'Like what you see? Visit the ' +\n",
              "          '<a target=\"_blank\" href=https://colab.research.google.com/notebooks/data_table.ipynb>data table notebook</a>'\n",
              "          + ' to learn more about interactive tables.';\n",
              "        element.innerHTML = '';\n",
              "        dataTable['output_type'] = 'display_data';\n",
              "        await google.colab.output.renderOutput(dataTable, element);\n",
              "        const docLink = document.createElement('div');\n",
              "        docLink.innerHTML = docLinkHtml;\n",
              "        element.appendChild(docLink);\n",
              "      }\n",
              "    </script>\n",
              "  </div>\n",
              "\n",
              "\n",
              "<div id=\"df-627ff6b7-5706-4e6c-bf29-a74d65214b4b\">\n",
              "  <button class=\"colab-df-quickchart\" onclick=\"quickchart('df-627ff6b7-5706-4e6c-bf29-a74d65214b4b')\"\n",
              "            title=\"Suggest charts\"\n",
              "            style=\"display:none;\">\n",
              "\n",
              "<svg xmlns=\"http://www.w3.org/2000/svg\" height=\"24px\"viewBox=\"0 0 24 24\"\n",
              "     width=\"24px\">\n",
              "    <g>\n",
              "        <path d=\"M19 3H5c-1.1 0-2 .9-2 2v14c0 1.1.9 2 2 2h14c1.1 0 2-.9 2-2V5c0-1.1-.9-2-2-2zM9 17H7v-7h2v7zm4 0h-2V7h2v10zm4 0h-2v-4h2v4z\"/>\n",
              "    </g>\n",
              "</svg>\n",
              "  </button>\n",
              "\n",
              "<style>\n",
              "  .colab-df-quickchart {\n",
              "      --bg-color: #E8F0FE;\n",
              "      --fill-color: #1967D2;\n",
              "      --hover-bg-color: #E2EBFA;\n",
              "      --hover-fill-color: #174EA6;\n",
              "      --disabled-fill-color: #AAA;\n",
              "      --disabled-bg-color: #DDD;\n",
              "  }\n",
              "\n",
              "  [theme=dark] .colab-df-quickchart {\n",
              "      --bg-color: #3B4455;\n",
              "      --fill-color: #D2E3FC;\n",
              "      --hover-bg-color: #434B5C;\n",
              "      --hover-fill-color: #FFFFFF;\n",
              "      --disabled-bg-color: #3B4455;\n",
              "      --disabled-fill-color: #666;\n",
              "  }\n",
              "\n",
              "  .colab-df-quickchart {\n",
              "    background-color: var(--bg-color);\n",
              "    border: none;\n",
              "    border-radius: 50%;\n",
              "    cursor: pointer;\n",
              "    display: none;\n",
              "    fill: var(--fill-color);\n",
              "    height: 32px;\n",
              "    padding: 0;\n",
              "    width: 32px;\n",
              "  }\n",
              "\n",
              "  .colab-df-quickchart:hover {\n",
              "    background-color: var(--hover-bg-color);\n",
              "    box-shadow: 0 1px 2px rgba(60, 64, 67, 0.3), 0 1px 3px 1px rgba(60, 64, 67, 0.15);\n",
              "    fill: var(--button-hover-fill-color);\n",
              "  }\n",
              "\n",
              "  .colab-df-quickchart-complete:disabled,\n",
              "  .colab-df-quickchart-complete:disabled:hover {\n",
              "    background-color: var(--disabled-bg-color);\n",
              "    fill: var(--disabled-fill-color);\n",
              "    box-shadow: none;\n",
              "  }\n",
              "\n",
              "  .colab-df-spinner {\n",
              "    border: 2px solid var(--fill-color);\n",
              "    border-color: transparent;\n",
              "    border-bottom-color: var(--fill-color);\n",
              "    animation:\n",
              "      spin 1s steps(1) infinite;\n",
              "  }\n",
              "\n",
              "  @keyframes spin {\n",
              "    0% {\n",
              "      border-color: transparent;\n",
              "      border-bottom-color: var(--fill-color);\n",
              "      border-left-color: var(--fill-color);\n",
              "    }\n",
              "    20% {\n",
              "      border-color: transparent;\n",
              "      border-left-color: var(--fill-color);\n",
              "      border-top-color: var(--fill-color);\n",
              "    }\n",
              "    30% {\n",
              "      border-color: transparent;\n",
              "      border-left-color: var(--fill-color);\n",
              "      border-top-color: var(--fill-color);\n",
              "      border-right-color: var(--fill-color);\n",
              "    }\n",
              "    40% {\n",
              "      border-color: transparent;\n",
              "      border-right-color: var(--fill-color);\n",
              "      border-top-color: var(--fill-color);\n",
              "    }\n",
              "    60% {\n",
              "      border-color: transparent;\n",
              "      border-right-color: var(--fill-color);\n",
              "    }\n",
              "    80% {\n",
              "      border-color: transparent;\n",
              "      border-right-color: var(--fill-color);\n",
              "      border-bottom-color: var(--fill-color);\n",
              "    }\n",
              "    90% {\n",
              "      border-color: transparent;\n",
              "      border-bottom-color: var(--fill-color);\n",
              "    }\n",
              "  }\n",
              "</style>\n",
              "\n",
              "  <script>\n",
              "    async function quickchart(key) {\n",
              "      const quickchartButtonEl =\n",
              "        document.querySelector('#' + key + ' button');\n",
              "      quickchartButtonEl.disabled = true;  // To prevent multiple clicks.\n",
              "      quickchartButtonEl.classList.add('colab-df-spinner');\n",
              "      try {\n",
              "        const charts = await google.colab.kernel.invokeFunction(\n",
              "            'suggestCharts', [key], {});\n",
              "      } catch (error) {\n",
              "        console.error('Error during call to suggestCharts:', error);\n",
              "      }\n",
              "      quickchartButtonEl.classList.remove('colab-df-spinner');\n",
              "      quickchartButtonEl.classList.add('colab-df-quickchart-complete');\n",
              "    }\n",
              "    (() => {\n",
              "      let quickchartButtonEl =\n",
              "        document.querySelector('#df-627ff6b7-5706-4e6c-bf29-a74d65214b4b button');\n",
              "      quickchartButtonEl.style.display =\n",
              "        google.colab.kernel.accessAllowed ? 'block' : 'none';\n",
              "    })();\n",
              "  </script>\n",
              "</div>\n",
              "    </div>\n",
              "  </div>\n"
            ]
          },
          "metadata": {},
          "execution_count": 95
        }
      ],
      "source": [
        "X_test.head()"
      ],
      "id": "YPY83LrU6Pm9"
    },
    {
      "cell_type": "code",
      "execution_count": null,
      "metadata": {
        "id": "NKb3xgyE6Pm-"
      },
      "outputs": [],
      "source": [
        "Y_pred_lr=lr.predict(X_test_std)"
      ],
      "id": "NKb3xgyE6Pm-"
    },
    {
      "cell_type": "code",
      "execution_count": null,
      "metadata": {
        "id": "3IrmDEQZ6Pm-"
      },
      "outputs": [],
      "source": [
        "from sklearn.metrics import r2_score, mean_absolute_error, mean_squared_error"
      ],
      "id": "3IrmDEQZ6Pm-"
    },
    {
      "cell_type": "markdown",
      "source": [
        "#Task 49"
      ],
      "metadata": {
        "id": "4MIKZ4KHYvKg"
      },
      "id": "4MIKZ4KHYvKg"
    },
    {
      "cell_type": "markdown",
      "source": [
        "# To get the r2 score, mean absolute error score and mean square error score for the model report"
      ],
      "metadata": {
        "id": "rKsDdQnwmWoO"
      },
      "id": "rKsDdQnwmWoO"
    },
    {
      "cell_type": "code",
      "execution_count": null,
      "metadata": {
        "colab": {
          "base_uri": "https://localhost:8080/"
        },
        "id": "0hLmvLhh6Pm_",
        "outputId": "593d3516-26be-440d-bfc4-0e133994af41"
      },
      "outputs": [
        {
          "output_type": "stream",
          "name": "stdout",
          "text": [
            "0.5041875773270634\n",
            "880.9999044084501\n",
            "1162.4412631603452\n"
          ]
        }
      ],
      "source": [
        "print(r2_score(Y_test,Y_pred_lr))\n",
        "print(mean_absolute_error(Y_test,Y_pred_lr))\n",
        "print(np.sqrt(mean_squared_error(Y_test,Y_pred_lr)))\n"
      ],
      "id": "0hLmvLhh6Pm_"
    },
    {
      "cell_type": "markdown",
      "source": [
        "The linear regression model applied to predict 'Item_Outlet_Sales' yielded an R2 score of 50%, indicating a moderate level of explained variance in the target variable. This metric suggests that approximately half of the variability in the sales can be attributed to the features used in the model.\n",
        "\n",
        "In terms of absolute performance metrics, the mean absolute error (MAE) for the model is 880.9999. This implies that, on average, the predicted sales values deviate by approximately 881 units from the actual values. The MAE provides a straightforward measure of the model's accuracy, with lower values indicating better performance.\n",
        "\n",
        "Additionally, the mean squared error (MSE) for the model is 1162.4413. The MSE penalizes larger errors more significantly than the MAE and, in this case, reflects the average squared difference between predicted and actual sales. A lower MSE indicates better accuracy, emphasizing the importance of minimizing both small and large errors in predictions."
      ],
      "metadata": {
        "id": "TrQN79Q85gDI"
      },
      "id": "TrQN79Q85gDI"
    },
    {
      "cell_type": "code",
      "execution_count": null,
      "metadata": {
        "id": "yNSPbkKM6PnP"
      },
      "outputs": [],
      "source": [],
      "id": "yNSPbkKM6PnP"
    }
  ],
  "metadata": {
    "kernelspec": {
      "display_name": "Python 3",
      "language": "python",
      "name": "python3"
    },
    "language_info": {
      "codemirror_mode": {
        "name": "ipython",
        "version": 3
      },
      "file_extension": ".py",
      "mimetype": "text/x-python",
      "name": "python",
      "nbconvert_exporter": "python",
      "pygments_lexer": "ipython3",
      "version": "3.7.4"
    },
    "colab": {
      "provenance": []
    }
  },
  "nbformat": 4,
  "nbformat_minor": 5
}